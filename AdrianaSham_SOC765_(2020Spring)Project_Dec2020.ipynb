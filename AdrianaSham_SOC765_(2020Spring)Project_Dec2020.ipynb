{
 "cells": [
  {
   "cell_type": "markdown",
   "metadata": {},
   "source": [
    "## Data Preparation"
   ]
  },
  {
   "cell_type": "code",
   "execution_count": 1,
   "metadata": {},
   "outputs": [
    {
     "name": "stderr",
     "output_type": "stream",
     "text": [
      "[nltk_data] Downloading package stopwords to\n",
      "[nltk_data]     /Users/adriana/nltk_data...\n",
      "[nltk_data]   Package stopwords is already up-to-date!\n",
      "[nltk_data] Downloading package punkt to /Users/adriana/nltk_data...\n",
      "[nltk_data]   Package punkt is already up-to-date!\n",
      "[nltk_data] Downloading package wordnet to /Users/adriana/nltk_data...\n",
      "[nltk_data]   Package wordnet is already up-to-date!\n"
     ]
    }
   ],
   "source": [
    "import pandas as pd\n",
    "import seaborn as sns\n",
    "import nltk\n",
    "import string\n",
    "import matplotlib.pyplot as plt\n",
    "import plotly.express as px\n",
    "\n",
    "from sklearn.model_selection import train_test_split\n",
    "from sklearn.feature_extraction.text import CountVectorizer\n",
    "from nltk.stem.wordnet import WordNetLemmatizer\n",
    "import re\n",
    "nltk.download('stopwords')\n",
    "nltk.download('punkt')\n",
    "nltk.download('wordnet')\n",
    "\n",
    "import csv\n",
    "from sklearn.svm import LinearSVC\n",
    "pd.set_option('display.float_format', lambda x: '%.4f' % x)\n",
    "import numpy as np"
   ]
  },
  {
   "cell_type": "markdown",
   "metadata": {},
   "source": [
    "### Clean business table"
   ]
  },
  {
   "cell_type": "code",
   "execution_count": 3,
   "metadata": {},
   "outputs": [
    {
     "data": {
      "text/html": [
       "<div>\n",
       "<style scoped>\n",
       "    .dataframe tbody tr th:only-of-type {\n",
       "        vertical-align: middle;\n",
       "    }\n",
       "\n",
       "    .dataframe tbody tr th {\n",
       "        vertical-align: top;\n",
       "    }\n",
       "\n",
       "    .dataframe thead th {\n",
       "        text-align: right;\n",
       "    }\n",
       "</style>\n",
       "<table border=\"1\" class=\"dataframe\">\n",
       "  <thead>\n",
       "    <tr style=\"text-align: right;\">\n",
       "      <th></th>\n",
       "      <th>address</th>\n",
       "      <th>attributes</th>\n",
       "      <th>business_id</th>\n",
       "      <th>categories</th>\n",
       "      <th>city</th>\n",
       "      <th>hours</th>\n",
       "      <th>is_open</th>\n",
       "      <th>latitude</th>\n",
       "      <th>longitude</th>\n",
       "      <th>name</th>\n",
       "      <th>postal_code</th>\n",
       "      <th>review_count</th>\n",
       "      <th>stars</th>\n",
       "      <th>state</th>\n",
       "    </tr>\n",
       "  </thead>\n",
       "  <tbody>\n",
       "    <tr>\n",
       "      <th>0</th>\n",
       "      <td>10913 Bailey Rd</td>\n",
       "      <td>{'BusinessAcceptsCreditCards': 'True', 'BikePa...</td>\n",
       "      <td>f9NumwFMBDn751xgFiRbNA</td>\n",
       "      <td>Active Life, Gun/Rifle Ranges, Guns &amp; Ammo, Sh...</td>\n",
       "      <td>Cornelius</td>\n",
       "      <td>{'Monday': '10:0-18:0', 'Tuesday': '11:0-20:0'...</td>\n",
       "      <td>1</td>\n",
       "      <td>35.4627</td>\n",
       "      <td>-80.8526</td>\n",
       "      <td>The Range At Lake Norman</td>\n",
       "      <td>28031</td>\n",
       "      <td>36</td>\n",
       "      <td>3.5000</td>\n",
       "      <td>NC</td>\n",
       "    </tr>\n",
       "    <tr>\n",
       "      <th>1</th>\n",
       "      <td>8880 E Via Linda, Ste 107</td>\n",
       "      <td>{'GoodForKids': 'True', 'ByAppointmentOnly': '...</td>\n",
       "      <td>Yzvjg0SayhoZgCljUJRF9Q</td>\n",
       "      <td>Health &amp; Medical, Fitness &amp; Instruction, Yoga,...</td>\n",
       "      <td>Scottsdale</td>\n",
       "      <td>None</td>\n",
       "      <td>1</td>\n",
       "      <td>33.5694</td>\n",
       "      <td>-111.8903</td>\n",
       "      <td>Carlos Santo, NMD</td>\n",
       "      <td>85258</td>\n",
       "      <td>4</td>\n",
       "      <td>5.0000</td>\n",
       "      <td>AZ</td>\n",
       "    </tr>\n",
       "    <tr>\n",
       "      <th>2</th>\n",
       "      <td>3554 Rue Notre-Dame O</td>\n",
       "      <td>None</td>\n",
       "      <td>XNoUzKckATkOD1hP6vghZg</td>\n",
       "      <td>Pets, Pet Services, Pet Groomers</td>\n",
       "      <td>Montreal</td>\n",
       "      <td>None</td>\n",
       "      <td>1</td>\n",
       "      <td>45.4800</td>\n",
       "      <td>-73.5801</td>\n",
       "      <td>Felinus</td>\n",
       "      <td>H4C 1P4</td>\n",
       "      <td>5</td>\n",
       "      <td>5.0000</td>\n",
       "      <td>QC</td>\n",
       "    </tr>\n",
       "    <tr>\n",
       "      <th>3</th>\n",
       "      <td>1015 Sharp Cir</td>\n",
       "      <td>{'BusinessAcceptsCreditCards': 'True', 'ByAppo...</td>\n",
       "      <td>6OAZjbxqM5ol29BuHsil3w</td>\n",
       "      <td>Hardware Stores, Home Services, Building Suppl...</td>\n",
       "      <td>North Las Vegas</td>\n",
       "      <td>{'Monday': '7:0-16:0', 'Tuesday': '7:0-16:0', ...</td>\n",
       "      <td>0</td>\n",
       "      <td>36.2197</td>\n",
       "      <td>-115.1277</td>\n",
       "      <td>Nevada House of Hose</td>\n",
       "      <td>89030</td>\n",
       "      <td>3</td>\n",
       "      <td>2.5000</td>\n",
       "      <td>NV</td>\n",
       "    </tr>\n",
       "    <tr>\n",
       "      <th>4</th>\n",
       "      <td>4827 E Downing Cir</td>\n",
       "      <td>{'BusinessAcceptsCreditCards': 'True', 'ByAppo...</td>\n",
       "      <td>51M2Kk903DFYI6gnB5I6SQ</td>\n",
       "      <td>Home Services, Plumbing, Electricians, Handyma...</td>\n",
       "      <td>Mesa</td>\n",
       "      <td>{'Monday': '0:0-0:0', 'Tuesday': '9:0-16:0', '...</td>\n",
       "      <td>1</td>\n",
       "      <td>33.4281</td>\n",
       "      <td>-111.7266</td>\n",
       "      <td>USE MY GUY SERVICES LLC</td>\n",
       "      <td>85205</td>\n",
       "      <td>26</td>\n",
       "      <td>4.5000</td>\n",
       "      <td>AZ</td>\n",
       "    </tr>\n",
       "  </tbody>\n",
       "</table>\n",
       "</div>"
      ],
      "text/plain": [
       "                     address  \\\n",
       "0            10913 Bailey Rd   \n",
       "1  8880 E Via Linda, Ste 107   \n",
       "2      3554 Rue Notre-Dame O   \n",
       "3             1015 Sharp Cir   \n",
       "4         4827 E Downing Cir   \n",
       "\n",
       "                                          attributes             business_id  \\\n",
       "0  {'BusinessAcceptsCreditCards': 'True', 'BikePa...  f9NumwFMBDn751xgFiRbNA   \n",
       "1  {'GoodForKids': 'True', 'ByAppointmentOnly': '...  Yzvjg0SayhoZgCljUJRF9Q   \n",
       "2                                               None  XNoUzKckATkOD1hP6vghZg   \n",
       "3  {'BusinessAcceptsCreditCards': 'True', 'ByAppo...  6OAZjbxqM5ol29BuHsil3w   \n",
       "4  {'BusinessAcceptsCreditCards': 'True', 'ByAppo...  51M2Kk903DFYI6gnB5I6SQ   \n",
       "\n",
       "                                          categories             city  \\\n",
       "0  Active Life, Gun/Rifle Ranges, Guns & Ammo, Sh...        Cornelius   \n",
       "1  Health & Medical, Fitness & Instruction, Yoga,...       Scottsdale   \n",
       "2                   Pets, Pet Services, Pet Groomers         Montreal   \n",
       "3  Hardware Stores, Home Services, Building Suppl...  North Las Vegas   \n",
       "4  Home Services, Plumbing, Electricians, Handyma...             Mesa   \n",
       "\n",
       "                                               hours  is_open  latitude  \\\n",
       "0  {'Monday': '10:0-18:0', 'Tuesday': '11:0-20:0'...        1   35.4627   \n",
       "1                                               None        1   33.5694   \n",
       "2                                               None        1   45.4800   \n",
       "3  {'Monday': '7:0-16:0', 'Tuesday': '7:0-16:0', ...        0   36.2197   \n",
       "4  {'Monday': '0:0-0:0', 'Tuesday': '9:0-16:0', '...        1   33.4281   \n",
       "\n",
       "   longitude                      name postal_code  review_count  stars state  \n",
       "0   -80.8526  The Range At Lake Norman       28031            36 3.5000    NC  \n",
       "1  -111.8903         Carlos Santo, NMD       85258             4 5.0000    AZ  \n",
       "2   -73.5801                   Felinus     H4C 1P4             5 5.0000    QC  \n",
       "3  -115.1277      Nevada House of Hose       89030             3 2.5000    NV  \n",
       "4  -111.7266   USE MY GUY SERVICES LLC       85205            26 4.5000    AZ  "
      ]
     },
     "execution_count": 3,
     "metadata": {},
     "output_type": "execute_result"
    }
   ],
   "source": [
    "#loading business table\n",
    "business = pd.read_json ('/Users/adriana/Desktop/yelp_dataset/yelp_academic_dataset_business.json', lines=True)\n",
    "business.head()"
   ]
  },
  {
   "cell_type": "code",
   "execution_count": 268,
   "metadata": {},
   "outputs": [
    {
     "data": {
      "text/plain": [
       "(209393, 14)"
      ]
     },
     "execution_count": 268,
     "metadata": {},
     "output_type": "execute_result"
    }
   ],
   "source": [
    "business.shape"
   ]
  },
  {
   "cell_type": "code",
   "execution_count": 8,
   "metadata": {},
   "outputs": [
    {
     "data": {
      "text/html": [
       "<div>\n",
       "<style scoped>\n",
       "    .dataframe tbody tr th:only-of-type {\n",
       "        vertical-align: middle;\n",
       "    }\n",
       "\n",
       "    .dataframe tbody tr th {\n",
       "        vertical-align: top;\n",
       "    }\n",
       "\n",
       "    .dataframe thead th {\n",
       "        text-align: right;\n",
       "    }\n",
       "</style>\n",
       "<table border=\"1\" class=\"dataframe\">\n",
       "  <thead>\n",
       "    <tr style=\"text-align: right;\">\n",
       "      <th></th>\n",
       "      <th>address</th>\n",
       "      <th>attributes</th>\n",
       "      <th>business_id</th>\n",
       "      <th>categories</th>\n",
       "      <th>city</th>\n",
       "      <th>hours</th>\n",
       "      <th>is_open</th>\n",
       "      <th>latitude</th>\n",
       "      <th>longitude</th>\n",
       "      <th>name</th>\n",
       "      <th>postal_code</th>\n",
       "      <th>review_count</th>\n",
       "      <th>stars</th>\n",
       "      <th>state</th>\n",
       "    </tr>\n",
       "  </thead>\n",
       "  <tbody>\n",
       "    <tr>\n",
       "      <th>0</th>\n",
       "      <td>10913 Bailey Rd</td>\n",
       "      <td>{'BusinessAcceptsCreditCards': 'True', 'BikePa...</td>\n",
       "      <td>f9NumwFMBDn751xgFiRbNA</td>\n",
       "      <td>Active Life, Gun/Rifle Ranges, Guns &amp; Ammo, Sh...</td>\n",
       "      <td>Cornelius</td>\n",
       "      <td>{'Monday': '10:0-18:0', 'Tuesday': '11:0-20:0'...</td>\n",
       "      <td>1</td>\n",
       "      <td>35.4627</td>\n",
       "      <td>-80.8526</td>\n",
       "      <td>The Range At Lake Norman</td>\n",
       "      <td>28031</td>\n",
       "      <td>36</td>\n",
       "      <td>3.5000</td>\n",
       "      <td>NC</td>\n",
       "    </tr>\n",
       "    <tr>\n",
       "      <th>1</th>\n",
       "      <td>8880 E Via Linda, Ste 107</td>\n",
       "      <td>{'GoodForKids': 'True', 'ByAppointmentOnly': '...</td>\n",
       "      <td>Yzvjg0SayhoZgCljUJRF9Q</td>\n",
       "      <td>Health &amp; Medical, Fitness &amp; Instruction, Yoga,...</td>\n",
       "      <td>Scottsdale</td>\n",
       "      <td>None</td>\n",
       "      <td>1</td>\n",
       "      <td>33.5694</td>\n",
       "      <td>-111.8903</td>\n",
       "      <td>Carlos Santo, NMD</td>\n",
       "      <td>85258</td>\n",
       "      <td>4</td>\n",
       "      <td>5.0000</td>\n",
       "      <td>AZ</td>\n",
       "    </tr>\n",
       "    <tr>\n",
       "      <th>3</th>\n",
       "      <td>1015 Sharp Cir</td>\n",
       "      <td>{'BusinessAcceptsCreditCards': 'True', 'ByAppo...</td>\n",
       "      <td>6OAZjbxqM5ol29BuHsil3w</td>\n",
       "      <td>Hardware Stores, Home Services, Building Suppl...</td>\n",
       "      <td>North Las Vegas</td>\n",
       "      <td>{'Monday': '7:0-16:0', 'Tuesday': '7:0-16:0', ...</td>\n",
       "      <td>0</td>\n",
       "      <td>36.2197</td>\n",
       "      <td>-115.1277</td>\n",
       "      <td>Nevada House of Hose</td>\n",
       "      <td>89030</td>\n",
       "      <td>3</td>\n",
       "      <td>2.5000</td>\n",
       "      <td>NV</td>\n",
       "    </tr>\n",
       "    <tr>\n",
       "      <th>4</th>\n",
       "      <td>4827 E Downing Cir</td>\n",
       "      <td>{'BusinessAcceptsCreditCards': 'True', 'ByAppo...</td>\n",
       "      <td>51M2Kk903DFYI6gnB5I6SQ</td>\n",
       "      <td>Home Services, Plumbing, Electricians, Handyma...</td>\n",
       "      <td>Mesa</td>\n",
       "      <td>{'Monday': '0:0-0:0', 'Tuesday': '9:0-16:0', '...</td>\n",
       "      <td>1</td>\n",
       "      <td>33.4281</td>\n",
       "      <td>-111.7266</td>\n",
       "      <td>USE MY GUY SERVICES LLC</td>\n",
       "      <td>85205</td>\n",
       "      <td>26</td>\n",
       "      <td>4.5000</td>\n",
       "      <td>AZ</td>\n",
       "    </tr>\n",
       "    <tr>\n",
       "      <th>5</th>\n",
       "      <td>1720 W Elliot Rd, Ste 105</td>\n",
       "      <td>{'BusinessAcceptsCreditCards': 'True'}</td>\n",
       "      <td>cKyLV5oWZJ2NudWgqs8VZw</td>\n",
       "      <td>Auto Repair, Automotive, Oil Change Stations, ...</td>\n",
       "      <td>Gilbert</td>\n",
       "      <td>{'Monday': '7:0-18:0', 'Tuesday': '7:0-18:0', ...</td>\n",
       "      <td>1</td>\n",
       "      <td>33.3504</td>\n",
       "      <td>-111.8271</td>\n",
       "      <td>Oasis Auto Center - Gilbert</td>\n",
       "      <td>85233</td>\n",
       "      <td>38</td>\n",
       "      <td>4.5000</td>\n",
       "      <td>AZ</td>\n",
       "    </tr>\n",
       "  </tbody>\n",
       "</table>\n",
       "</div>"
      ],
      "text/plain": [
       "                     address  \\\n",
       "0            10913 Bailey Rd   \n",
       "1  8880 E Via Linda, Ste 107   \n",
       "3             1015 Sharp Cir   \n",
       "4         4827 E Downing Cir   \n",
       "5  1720 W Elliot Rd, Ste 105   \n",
       "\n",
       "                                          attributes             business_id  \\\n",
       "0  {'BusinessAcceptsCreditCards': 'True', 'BikePa...  f9NumwFMBDn751xgFiRbNA   \n",
       "1  {'GoodForKids': 'True', 'ByAppointmentOnly': '...  Yzvjg0SayhoZgCljUJRF9Q   \n",
       "3  {'BusinessAcceptsCreditCards': 'True', 'ByAppo...  6OAZjbxqM5ol29BuHsil3w   \n",
       "4  {'BusinessAcceptsCreditCards': 'True', 'ByAppo...  51M2Kk903DFYI6gnB5I6SQ   \n",
       "5             {'BusinessAcceptsCreditCards': 'True'}  cKyLV5oWZJ2NudWgqs8VZw   \n",
       "\n",
       "                                          categories             city  \\\n",
       "0  Active Life, Gun/Rifle Ranges, Guns & Ammo, Sh...        Cornelius   \n",
       "1  Health & Medical, Fitness & Instruction, Yoga,...       Scottsdale   \n",
       "3  Hardware Stores, Home Services, Building Suppl...  North Las Vegas   \n",
       "4  Home Services, Plumbing, Electricians, Handyma...             Mesa   \n",
       "5  Auto Repair, Automotive, Oil Change Stations, ...          Gilbert   \n",
       "\n",
       "                                               hours  is_open  latitude  \\\n",
       "0  {'Monday': '10:0-18:0', 'Tuesday': '11:0-20:0'...        1   35.4627   \n",
       "1                                               None        1   33.5694   \n",
       "3  {'Monday': '7:0-16:0', 'Tuesday': '7:0-16:0', ...        0   36.2197   \n",
       "4  {'Monday': '0:0-0:0', 'Tuesday': '9:0-16:0', '...        1   33.4281   \n",
       "5  {'Monday': '7:0-18:0', 'Tuesday': '7:0-18:0', ...        1   33.3504   \n",
       "\n",
       "   longitude                         name postal_code  review_count  stars  \\\n",
       "0   -80.8526     The Range At Lake Norman       28031            36 3.5000   \n",
       "1  -111.8903            Carlos Santo, NMD       85258             4 5.0000   \n",
       "3  -115.1277         Nevada House of Hose       89030             3 2.5000   \n",
       "4  -111.7266      USE MY GUY SERVICES LLC       85205            26 4.5000   \n",
       "5  -111.8271  Oasis Auto Center - Gilbert       85233            38 4.5000   \n",
       "\n",
       "  state  \n",
       "0    NC  \n",
       "1    AZ  \n",
       "3    NV  \n",
       "4    AZ  \n",
       "5    AZ  "
      ]
     },
     "execution_count": 8,
     "metadata": {},
     "output_type": "execute_result"
    }
   ],
   "source": [
    "## filter restaurants of US\n",
    "states = [\"AL\", \"AK\", \"AZ\", \"AR\", \"CA\", \"CO\", \"CT\", \"DC\", \"DE\", \"FL\", \"GA\", \"HI\", \"ID\", \"IL\", \"IN\", \"IA\",\\\n",
    "          \"KS\", \"KY\", \"LA\", \"ME\", \"MD\", \"MA\", \"MI\", \"MN\", \"MS\", \"MO\", \"MT\", \"NE\", \"NV\", \"NH\", \"NJ\", \"NM\",\\\n",
    "          \"NY\", \"NC\", \"ND\", \"OH\", \"OK\", \"OR\", \"PA\", \"RI\", \"SC\", \"SD\", \"TN\", \"TX\", \"UT\", \"VT\", \"VA\", \"WA\",\\\n",
    "          \"WV\", \"WI\", \"WY\"]\n",
    "usa = business.loc[business['state'].isin(states)]\n",
    "usa.head()"
   ]
  },
  {
   "cell_type": "code",
   "execution_count": 15,
   "metadata": {},
   "outputs": [
    {
     "data": {
      "text/plain": [
       "address            0\n",
       "attributes       532\n",
       "business_id        0\n",
       "categories         0\n",
       "city               0\n",
       "hours           7187\n",
       "is_open            0\n",
       "latitude           0\n",
       "longitude          0\n",
       "name               0\n",
       "postal_code        0\n",
       "review_count       0\n",
       "stars              0\n",
       "state              0\n",
       "dtype: int64"
      ]
     },
     "execution_count": 15,
     "metadata": {},
     "output_type": "execute_result"
    }
   ],
   "source": [
    "# select all only restaurants in the United states\n",
    "us_restaurants = usa[usa['categories'].str.contains('Restaurants', na=False)]\n",
    "us_restaurants.isna().sum()"
   ]
  },
  {
   "cell_type": "code",
   "execution_count": 16,
   "metadata": {},
   "outputs": [
    {
     "data": {
      "text/plain": [
       "['Ethnic Food, Food Trucks, Specialty Food, Imported Food, Argentine, Food, Restaurants, Empanadas',\n",
       " 'Food, Restaurants, Grocery, Middle Eastern',\n",
       " 'Food, Pretzels, Bakeries, Fast Food, Restaurants',\n",
       " 'Mexican, Restaurants, Fast Food',\n",
       " 'Restaurants, Vietnamese, Soup',\n",
       " 'Burgers, Restaurants, American (Traditional), Chicken Wings',\n",
       " 'Mexican, Restaurants',\n",
       " 'Burgers, Fast Food, American (New), Restaurants, Hot Dogs',\n",
       " 'Restaurants, Fast Food, Burgers',\n",
       " 'Chinese, Restaurants',\n",
       " 'Shopping Centers, Food, Coffee & Tea, Cafes, Museums, Restaurants, Shopping, Local Flavor, Flowers & Gifts, Arts & Entertainment, Art Galleries, Florists',\n",
       " 'Restaurants, Egyptian, Food Trucks, Food, Middle Eastern',\n",
       " 'Fast Food, American (New), Restaurants, Burgers',\n",
       " 'Restaurants, Pizza',\n",
       " 'Breakfast & Brunch, Restaurants, American (Traditional), Salad',\n",
       " 'Food, Food Trucks, Restaurants, Pizza',\n",
       " 'Food, Ethnic Food, Specialty Food, Restaurants, Thai',\n",
       " 'Restaurants, Sandwiches',\n",
       " 'Fast Food, Restaurants',\n",
       " 'Pubs, Food, Bars, Beer, Wine & Spirits, Restaurants, Gastropubs, British, Nightlife, Fish & Chips',\n",
       " 'Restaurants, Fish & Chips, Seafood',\n",
       " 'Ice Cream & Frozen Yogurt, Sandwiches, Food, American (Traditional), Restaurants',\n",
       " 'Coffee & Tea, Restaurants, Food, Breakfast & Brunch, American (Traditional)',\n",
       " 'Restaurants, Cajun/Creole',\n",
       " 'Pizza, Italian, Restaurants',\n",
       " 'American (Traditional), Restaurants',\n",
       " 'Dive Bars, Restaurants, Comfort Food, Bars, Nightlife',\n",
       " 'Filipino, Restaurants, Breakfast & Brunch, Food, Street Vendors',\n",
       " 'Hot Dogs, Food, Street Vendors, Restaurants',\n",
       " 'American (Traditional), Restaurants, Tex-Mex',\n",
       " 'Restaurants, Sandwiches, Fast Food',\n",
       " 'Active Life, Summer Camps, Personal Chefs, Venues & Event Spaces, Cooking Schools, Event Planning & Services, Shopping, Specialty Schools, Cooking Classes, Restaurants, Party & Event Planning, Education, Caterers, Breakfast & Brunch, Arts & Crafts',\n",
       " 'Mexican, Restaurants, Food, Salad, Desserts',\n",
       " 'Pizza, Salad, Burgers, Restaurants',\n",
       " 'Italian, Restaurants',\n",
       " 'Diners, American (Traditional), Restaurants',\n",
       " 'Restaurants, Sushi Bars, Chinese',\n",
       " 'Pizza, Restaurants',\n",
       " 'Barbeque, Southern, Restaurants, American (Traditional)',\n",
       " 'Restaurants, Cafes',\n",
       " 'Buffets, Restaurants',\n",
       " 'Specialty Food, Vietnamese, Food, Restaurants, Ethnic Food, Asian Fusion',\n",
       " 'Nightlife, American (New), Bars, Restaurants',\n",
       " 'Restaurants, Italian',\n",
       " 'Caterers, Event Planning & Services, Restaurants, Barbeque',\n",
       " 'Restaurants, Specialty Food, Japanese, Sushi Bars, Dim Sum, Vegetarian, Food, Ramen, Chinese, Vegan',\n",
       " 'Food, Bakeries, Restaurants, Pizza',\n",
       " 'Restaurants, Fast Food, Chicken Shop, Chicken Wings',\n",
       " 'Restaurants, Fast Food, Chicken Wings, Chicken Shop, Breakfast & Brunch',\n",
       " 'Hot Dogs, Fast Food, Restaurants, Middle Eastern',\n",
       " 'Restaurants, Diners, Sandwiches, Breakfast & Brunch, American (Traditional)',\n",
       " 'Local Flavor, Restaurants, Food Stands, Street Vendors, Food, Arts & Entertainment, Festivals, Performing Arts',\n",
       " 'Breakfast & Brunch, Burgers, Restaurants, American (Traditional)',\n",
       " 'Restaurants, Coffee & Tea, Burgers, Fast Food, Food',\n",
       " 'Restaurants, Hot Dogs, Burgers, Fast Food',\n",
       " 'Juice Bars & Smoothies, Restaurants, Sandwiches, Food',\n",
       " 'Restaurants, Mediterranean, Halal, Cocktail Bars, Bars, Middle Eastern, Nightlife',\n",
       " 'Malaysian, Vegetarian, Restaurants, Sushi Bars, Asian Fusion',\n",
       " 'Fast Food, Restaurants, Burgers',\n",
       " 'Sandwiches, Shaved Ice, Coffee & Tea, Desserts, Cafes, Themed Cafes, Shaved Snow, Food, Bubble Tea, Juice Bars & Smoothies, Restaurants',\n",
       " 'Coffee & Tea, Food Stands, Food, Restaurants, Juice Bars & Smoothies, Event Planning & Services, Caterers',\n",
       " 'Fast Food, Restaurants, Mexican',\n",
       " 'Fast Food, Chicken Shop, Restaurants, Chicken Wings, Breakfast & Brunch',\n",
       " 'Delis, Restaurants',\n",
       " 'Food, Burgers, Ice Cream & Frozen Yogurt, Restaurants, Fast Food',\n",
       " 'Fast Food, Chinese, Szechuan, Asian Fusion, Restaurants',\n",
       " 'Japanese, Restaurants',\n",
       " 'Restaurants, Mexican',\n",
       " 'Indian, Restaurants',\n",
       " 'Coffee & Tea, Specialty Food, Sandwiches, Coffee Roasteries, Restaurants, Food, Salad',\n",
       " 'Restaurants, Pizza, Chicken Wings, Italian',\n",
       " 'Pizza, Barbeque, Chicken Wings, Nightlife, Restaurants, Bars, Beer Bar',\n",
       " 'Spanish, Tapas Bars, Mediterranean, Restaurants, Tapas/Small Plates',\n",
       " 'Restaurants, Tapas Bars, Gastropubs, Cocktail Bars, Lounges, Bars, Nightlife',\n",
       " 'Restaurants, American (Traditional), Bars, Cocktail Bars, Arcades, Wine Bars, Nightlife, Arts & Entertainment',\n",
       " 'Restaurants, Chinese',\n",
       " 'Pizza, Restaurants, Sandwiches, Burgers',\n",
       " 'Chinese, Fast Food, Restaurants',\n",
       " 'Salad, Breakfast & Brunch, Caterers, American (New), Cafes, Restaurants, Chicken Wings, Event Planning & Services',\n",
       " 'Restaurants, Cafes, Food, Internet Cafes, Coffee & Tea',\n",
       " 'Hot Dogs, Restaurants, Barbeque',\n",
       " 'Bars, American (New), Restaurants, Nightlife',\n",
       " 'Gluten-Free, Specialty Food, Fruits & Veggies, Restaurants, Food, Fast Food, Juice Bars & Smoothies, Vegan',\n",
       " 'Restaurants, Pizza, Food, Desserts',\n",
       " 'Chicken Wings, Pizza, Food Delivery Services, Italian, Restaurants, Food',\n",
       " 'Restaurants, Mexican, Buffets',\n",
       " 'American (New), Restaurants',\n",
       " 'Mediterranean, Salad, Seafood, American (New), Asian Fusion, American (Traditional), Restaurants',\n",
       " 'Nightlife, Pubs, Bars, American (New), Sports Bars, Restaurants',\n",
       " 'Delis, Restaurants, Pizza',\n",
       " 'Breakfast & Brunch, Restaurants, Cajun/Creole, American (New)',\n",
       " 'Sports Bars, Nightlife, Beer, Wine & Spirits, Food, American (Traditional), Bars, Restaurants, American (New)',\n",
       " 'Restaurants, Asian Fusion, Sushi Bars',\n",
       " 'Arts & Entertainment, Social Clubs, Signature Cuisine, Restaurants',\n",
       " 'American (New), Restaurants, Italian',\n",
       " 'Restaurants, Cafes, Bakeries, Desserts, Hookah Bars, Food, Nightlife, Bars',\n",
       " 'Restaurants, Thai',\n",
       " 'Tapas Bars, Gluten-Free, Restaurants, American (Traditional), American (New), Soul Food, African',\n",
       " 'Restaurants, Tex-Mex, Mexican, Fast Food',\n",
       " 'Asian Fusion, Restaurants, Chinese',\n",
       " 'Fondue, Restaurants',\n",
       " 'Food Delivery Services, Restaurants, Food, Pizza',\n",
       " 'Vietnamese, Restaurants, American (Traditional)',\n",
       " 'Cafes, Restaurants, Sandwiches, Salad, Juice Bars & Smoothies, Vegetarian, Wraps, Food',\n",
       " 'Italian, Pizza, Restaurants, American (Traditional)',\n",
       " 'Food, Restaurants, Vegetarian, Desserts, American (Traditional)',\n",
       " 'Restaurants, Pizza, Fast Food',\n",
       " 'Restaurants, American (New), Cafes',\n",
       " 'Sandwiches, Salad, Restaurants, Event Planning & Services, Caterers, Delis',\n",
       " 'Restaurants, Soul Food, Barbeque',\n",
       " 'Food, Restaurants, Bars, Nightlife, Italian, Pizza, Food Delivery Services',\n",
       " 'Restaurants, Delis, Cafes',\n",
       " 'Middle Eastern, Restaurants',\n",
       " 'Cafes, Restaurants',\n",
       " 'Restaurants, Food, Gelato, Pizza, Ice Cream & Frozen Yogurt, Sandwiches, Shaved Ice, Salad',\n",
       " 'American (New), Restaurants, Food, Tex-Mex, Tacos, Mexican, Fast Food',\n",
       " 'Mediterranean, Pizza, Greek, Breakfast & Brunch, Caterers, Restaurants, Event Planning & Services',\n",
       " 'American (Traditional), Nightlife, Restaurants, Sports Bars, Bars',\n",
       " 'Restaurants, American (New), Pizza',\n",
       " 'Japanese, Restaurants, Asian Fusion, Chinese',\n",
       " 'Restaurants, Comfort Food, Nightlife, Mexican, American (Traditional), African, Breakfast & Brunch, Hotel bar, Bars',\n",
       " 'American (New), Mediterranean, Nightlife, Music Venues, Restaurants, Arts & Entertainment',\n",
       " 'Restaurants, Coffee & Tea, Burgers, Food, Fast Food',\n",
       " 'Restaurants, Barbeque, Korean, Buffets',\n",
       " 'Pizza, Restaurants, Chicken Wings, Buffets',\n",
       " 'Burgers, Fast Food, Restaurants',\n",
       " 'Caterers, Specialty Food, Event Planning & Services, American (New), Food Trucks, American (Traditional), Restaurants, Food',\n",
       " 'American (Traditional), Restaurants, Comfort Food, Fast Food, Chicken Shop, Breakfast & Brunch, Chicken Wings',\n",
       " 'Barbeque, Nightlife, Bars, Restaurants, American (Traditional), Sports Bars',\n",
       " 'Australian, Restaurants, Sports Bars, Bars, Sandwiches, Burgers, Nightlife',\n",
       " 'Restaurants, Burgers',\n",
       " 'Mediterranean, Nightlife, Restaurants, Lounges, American (New), French, Bars, Desserts, Steakhouses, Food',\n",
       " 'Food, Asian Fusion, Restaurants',\n",
       " 'Fast Food, Salad, Restaurants, Burgers',\n",
       " 'Shopping, Bakeries, Food, Arts & Crafts, Restaurants, Cooking Classes, Specialty Food, Health Markets',\n",
       " 'Italian, Chicken Wings, Restaurants, Pizza',\n",
       " 'Caterers, Caribbean, Desserts, Food, Event Planning & Services, Restaurants, Specialty Food, Seafood',\n",
       " 'Food, Restaurants, Bakeries, Delis',\n",
       " 'American (New), Restaurants, Salad',\n",
       " 'Fast Food, Chicken Wings, Chicken Shop, Restaurants, Burgers',\n",
       " 'Burgers, Restaurants, Sandwiches, Salad, Breakfast & Brunch',\n",
       " 'Restaurants, Pizza, Italian',\n",
       " 'Food, Desserts, Restaurants, Italian, Pizza',\n",
       " 'Restaurants, Chicken Wings',\n",
       " 'Pizza, Nail Salons, Beauty & Spas, Hair Salons, Restaurants, Cafes, Coffee & Tea, Food',\n",
       " 'Pubs, Bars, Wine Bars, Breweries, Food, Nightlife, Beer Bar, American (Traditional), Restaurants',\n",
       " 'American (New), Food, Restaurants',\n",
       " 'Fast Food, Delis, Sandwiches, Restaurants',\n",
       " 'Restaurants, Sushi Bars',\n",
       " 'Restaurants, Barbeque, Burgers, Bars, Pubs, Nightlife',\n",
       " 'Fast Food, Restaurants, Food, American (New), Burgers',\n",
       " 'Fast Food, Chicken Wings, Chicken Shop, Restaurants',\n",
       " 'Cocktail Bars, Pubs, Restaurants, American (New), Bars, Nightlife',\n",
       " 'Restaurants, Wine Bars, Tapas/Small Plates, Beer, Wine & Spirits, Food, Nightlife, Bars',\n",
       " 'American (Traditional), Restaurants, Food, Nightlife, Bars, Beer, Wine & Spirits, Beer Bar',\n",
       " 'Cajun/Creole, Restaurants',\n",
       " 'Szechuan, Restaurants, Chinese, Taiwanese',\n",
       " 'Food, Juice Bars & Smoothies, Vegan, Vegetarian, Restaurants',\n",
       " 'Bagels, Food, Restaurants, Delis, Sandwiches',\n",
       " 'Restaurants, Cafes, Sandwiches, Soup, Salad, American (New)',\n",
       " 'Food, Japanese, Restaurants, Specialty Food, Ethnic Food',\n",
       " 'Seafood, Pizza, Restaurants, Bars, Nightlife, Pet Stores, Pubs, Pets, Food, Beer, Wine & Spirits',\n",
       " 'Bars, Beer Bar, Chicken Wings, Nightlife, Restaurants',\n",
       " 'Restaurants, Mediterranean',\n",
       " 'Food, Grocery, Fruits & Veggies, Restaurants, Mexican, Butcher, Specialty Food',\n",
       " 'Pizza, Restaurants, Automotive, Gas Stations, Convenience Stores, Food',\n",
       " 'Hookah Bars, Bars, Nightlife, Lounges, Restaurants, Cafes, Middle Eastern',\n",
       " 'Restaurants, Coffee & Tea, Cafes, Food',\n",
       " 'Bars, Restaurants, Nightlife, Mediterranean, Greek',\n",
       " 'Restaurants, American (New), Breakfast & Brunch',\n",
       " 'Beer, Wine & Spirits, Food, Southern, Chicken Wings, Hot Dogs, Restaurants, American (Traditional), Sandwiches, Burgers',\n",
       " 'Restaurants, Breakfast & Brunch, Sandwiches, Bagels, Food',\n",
       " 'Mediterranean, Restaurants',\n",
       " 'Restaurants, Steakhouses',\n",
       " 'Restaurants, Soup, Sandwiches, Fast Food',\n",
       " 'Restaurants, Food Delivery Services, Food, Sandwiches, Pizza, Chicken Wings',\n",
       " 'American (Traditional), Restaurants, Convenience Stores, Food',\n",
       " 'Sandwiches, Italian, Restaurants, Seafood',\n",
       " 'Vietnamese, Restaurants',\n",
       " 'Sandwiches, Coffee & Tea, Bagels, Food, Restaurants, Breakfast & Brunch, Desserts',\n",
       " 'Sandwiches, Chicken Wings, Pizza, Restaurants',\n",
       " 'Restaurants, Mexican, Tacos',\n",
       " 'Coffee & Tea, Breakfast & Brunch, Food, Restaurants',\n",
       " 'Food, Mexican, Restaurants',\n",
       " 'Pizza, Italian, Restaurants, Chicken Wings',\n",
       " 'Event Planning & Services, Wraps, Italian, Sandwiches, Bars, Caterers, Restaurants, Pizza, Nightlife, American (Traditional)',\n",
       " 'Restaurants, American (New), Fast Food, Burgers',\n",
       " 'Sandwiches, American (Traditional), Restaurants',\n",
       " 'Noodles, Soup, Restaurants, Asian Fusion, Malaysian',\n",
       " 'Burgers, Restaurants',\n",
       " 'Sandwiches, Restaurants, Delis, Fast Food',\n",
       " 'Food, Restaurants, Bakeries',\n",
       " 'Mediterranean, Restaurants, Seafood, Turkish, Greek, Middle Eastern, Lebanese',\n",
       " 'Restaurants, Buffets',\n",
       " 'Restaurants, Fast Food, Tex-Mex, Mexican, Tacos',\n",
       " 'Food, Fast Food, Restaurants, Burgers, Coffee & Tea',\n",
       " 'Food Stands, Street Vendors, Restaurants, Mexican, Food, Food Trucks',\n",
       " 'Teppanyaki, Japanese, Restaurants, Steakhouses, Sushi Bars',\n",
       " 'Chinese, Restaurants, Japanese, Hawaiian',\n",
       " 'Restaurants, Tex-Mex, Mexican',\n",
       " 'Food, Juice Bars & Smoothies, Internet Cafes, Restaurants, Coffee & Tea, Sandwiches',\n",
       " 'Restaurants, Salad, Pizza, Wine Bars, Nightlife, Food, Specialty Food, Bars, Desserts, Seafood, Italian, Pasta Shops',\n",
       " 'Fast Food, Mexican, Restaurants, Tex-Mex, Tacos',\n",
       " 'Restaurants, Barbeque',\n",
       " 'Bars, Lounges, Nightlife, Restaurants',\n",
       " 'Vietnamese, Sandwiches, Noodles, Restaurants',\n",
       " 'Breakfast & Brunch, Restaurants',\n",
       " 'Hawaiian, Restaurants, Caribbean',\n",
       " 'Bubble Tea, Ice Cream & Frozen Yogurt, Desserts, Food, Restaurants',\n",
       " 'Ice Cream & Frozen Yogurt, Desserts, Food, Mexican, Restaurants',\n",
       " 'Delis, Fast Food, Sandwiches, Restaurants',\n",
       " 'Restaurants, Sandwiches, Food, Ice Cream & Frozen Yogurt, Bagels, Coffee & Tea',\n",
       " 'Tacos, Mexican, Chicken Shop, Food, Restaurants',\n",
       " 'Food Trucks, Food, Coffee & Tea, Restaurants, Creperies',\n",
       " 'Thai, Restaurants',\n",
       " 'Ethnic Food, Imported Food, Specialty Food, Food, African, Coffee & Tea, Restaurants',\n",
       " 'Sushi Bars, Restaurants, Japanese',\n",
       " 'Restaurants, American (Traditional), Cafes, Breakfast & Brunch',\n",
       " 'Restaurants, American (New)',\n",
       " 'Italian, Restaurants, Food, Farmers Market, American (Traditional), Grocery',\n",
       " 'American (Traditional), Food, Cajun/Creole, Fast Food, Restaurants, Chicken Wings',\n",
       " 'Mexican, Bars, Nightlife, Restaurants',\n",
       " 'Nightlife, Bars, Wine Bars, Beer, Wine & Spirits, Local Flavor, Food, Arts & Entertainment, Wineries, Delis, Sandwiches, Restaurants',\n",
       " 'American (New), Breakfast & Brunch, Sandwiches, Restaurants, Pubs, Bars, Nightlife',\n",
       " 'Restaurants, Fast Food, American (New), Burgers',\n",
       " 'Restaurants, Japanese, Sushi Bars',\n",
       " 'Restaurants, Coffee & Tea, Food',\n",
       " 'Bakeries, Desserts, Restaurants, Food',\n",
       " 'Restaurants, Nightlife, Bars',\n",
       " 'Burgers, Restaurants, American (Traditional), Fast Food',\n",
       " 'Tex-Mex, Barbeque, Restaurants, Mexican, Sandwiches',\n",
       " 'Restaurants, Mexican, Food, Food Trucks, Tacos',\n",
       " 'Restaurants, Food, Coffee & Tea',\n",
       " 'Restaurants',\n",
       " 'Sushi Bars, Japanese, Seafood, Restaurants, Buffets',\n",
       " 'American (New), Restaurants, American (Traditional)',\n",
       " 'Food, Restaurants, Sandwiches, American (New)',\n",
       " 'Sushi Bars, Korean, Food, Seafood, Restaurants',\n",
       " 'Sports Bars, American (Traditional), Restaurants, Bars, Nightlife',\n",
       " 'Food, Burgers, Food Stands, Food Trucks, Restaurants, Breweries',\n",
       " 'Restaurants, Nightlife, Bars, Tex-Mex, Cocktail Bars, Mexican',\n",
       " 'Thai, Restaurants, Sushi Bars, Japanese',\n",
       " 'Beer, Wine & Spirits, Vietnamese, Lounges, Nightlife, Restaurants, Bars, Food, American (New), Sports Bars',\n",
       " 'Burgers, Seafood, American (Traditional), Restaurants',\n",
       " 'Music Venues, French, Jazz & Blues, Tapas Bars, Restaurants, Nightlife, Arts & Entertainment, American (New)',\n",
       " 'Italian, Pizza, Restaurants',\n",
       " 'Desserts, Greek, Food, Event Planning & Services, Caterers, Falafel, Restaurants, Wraps, Mediterranean',\n",
       " 'Restaurants, Event Planning & Services, Mexican, Caterers, Tacos',\n",
       " 'Restaurants, Bars, Pubs, American (Traditional), Food, Nightlife',\n",
       " 'Italian, Restaurants, Specialty Food, Food',\n",
       " 'Japanese, Sushi Bars, Restaurants',\n",
       " 'Local Flavor, Restaurants, Food, Hot Dogs, Food Trucks',\n",
       " 'Fast Food, Restaurants, Burgers, American (Traditional)',\n",
       " 'Cafes, Restaurants, Food, Grocery',\n",
       " 'American (Traditional), Sandwiches, Restaurants, American (New)',\n",
       " 'Carpet Cleaning, Window Washing, Home Services, Home Cleaning, Office Cleaning, Local Services, Tiling, Restaurants, Professional Services, Gluten-Free, Home Organization',\n",
       " 'Bakeries, Food, Halal, Vegetarian, Indian, Restaurants',\n",
       " 'Restaurants, American (Traditional), Bars, Nightlife, Sports Bars, Burgers',\n",
       " 'Restaurants, Food, Pizza, Food Trucks',\n",
       " 'Fast Food, Sandwiches, Restaurants',\n",
       " 'Sports Bars, American (Traditional), Bars, Nightlife, Restaurants, Burgers',\n",
       " 'Restaurants, Diners',\n",
       " 'Restaurants, American (Traditional), Pizza',\n",
       " 'Delis, Restaurants, Sandwiches',\n",
       " 'Ethnic Food, Specialty Food, Imported Food, Caterers, Restaurants, Food, German, Event Planning & Services, Sandwiches, Slovakian',\n",
       " 'Singaporean, Restaurants, Malaysian',\n",
       " 'American (New), Steakhouses, Restaurants',\n",
       " 'Cocktail Bars, Mexican, Bars, Nightlife, Tex-Mex, Restaurants',\n",
       " 'Indian, Restaurants, Food',\n",
       " 'Restaurants, Burgers, Fast Food',\n",
       " 'Juice Bars & Smoothies, Food, Ice Cream & Frozen Yogurt, Restaurants, Fast Food',\n",
       " 'Restaurants, Food, Vegan, Bakeries, Gluten-Free',\n",
       " 'Mexican, American (New), American (Traditional), Restaurants',\n",
       " 'Mexican, Salad, Fast Food, Restaurants',\n",
       " 'Food, Coffee & Tea, Fast Food, Restaurants, Burgers',\n",
       " 'Specialty Food, Restaurants, American (Traditional), American (New), Breakfast & Brunch, Bakeries, Sandwiches, Food',\n",
       " 'Restaurants, Food, Breakfast & Brunch, Food Trucks',\n",
       " 'Burgers, Restaurants, Fast Food, Coffee & Tea, Food',\n",
       " 'Coffee & Tea, Restaurants, Food',\n",
       " 'Mexican, Bakeries, Food, Restaurants',\n",
       " 'Event Planning & Services, Venues & Event Spaces, Tours, Zoos, Hotels & Travel, Active Life, Restaurants, Barbeque',\n",
       " 'American (Traditional), Steakhouses, Bars, Barbeque, Dive Bars, Nightlife, Restaurants',\n",
       " 'Ice Cream & Frozen Yogurt, Food, Fast Food, Restaurants, Juice Bars & Smoothies',\n",
       " 'Restaurants, Vegan, Chinese, Vegetarian',\n",
       " 'Cocktail Bars, American (Traditional), Bars, Hotels, Nightlife, Restaurants, American (New), Hotels & Travel, Food, Coffee & Tea, Event Planning & Services, Venues & Event Spaces',\n",
       " 'Mexican, Restaurants, Tex-Mex',\n",
       " 'Greek, Pizza, Italian, Restaurants',\n",
       " 'Breakfast & Brunch, Restaurants, American (New)',\n",
       " 'Fast Food, Sandwiches, Delis, Restaurants',\n",
       " 'Sports Bars, Bars, Nightlife, Event Planning & Services, American (Traditional), Venues & Event Spaces, Restaurants, Caterers, American (New)',\n",
       " 'American (New), Bars, Restaurants, Pubs, Nightlife',\n",
       " 'Food Trucks, Seafood, Food, Restaurants',\n",
       " 'Restaurants, Sushi Bars, American (New)',\n",
       " 'Nightlife, Bars, Pubs, Restaurants, British, Gastropubs',\n",
       " 'Restaurants, American (New), Seafood, Cajun/Creole, Barbeque',\n",
       " 'Grocery, Ethnic Food, Convenience Stores, International Grocery, Restaurants, Mexican, Fast Food, Specialty Food, Food',\n",
       " 'Art Classes, Education, Cafes, Food, Shopping, Coffee & Tea, Arts & Crafts, Restaurants',\n",
       " 'Noodles, Chinese, Restaurants',\n",
       " 'Local Services, Korean, Restaurants',\n",
       " 'Beer, Wine & Spirits, Wine Bars, Coffee & Tea, Nightlife, Food, American (Traditional), Bars, Pubs, Cocktail Bars, Restaurants, Breakfast & Brunch',\n",
       " 'Restaurants, Food, Food Delivery Services, Nightlife, Bars, Italian, Sports Bars, Pizza',\n",
       " 'Food, Juice Bars & Smoothies, Coffee & Tea, Vegetarian, Restaurants, Sandwiches',\n",
       " 'Fast Food, Restaurants, Sandwiches',\n",
       " 'Breweries, Cideries, Food, Sandwiches, Restaurants',\n",
       " 'Restaurants, Delis',\n",
       " 'Japanese, Sandwiches, Pan Asian, Vietnamese, Restaurants',\n",
       " 'Asian Fusion, Thai, Japanese, Sushi Bars, Restaurants, Steakhouses',\n",
       " 'Restaurants, Asian Fusion, Chinese',\n",
       " 'Restaurants, Seafood',\n",
       " 'Restaurants, Pizza, Buffets, American (Traditional)',\n",
       " 'Fast Food, Burgers, Restaurants',\n",
       " 'American (Traditional), Restaurants, Seafood, Nightlife, Hotels, Event Planning & Services, Bars, Hotels & Travel',\n",
       " 'Restaurants, American (Traditional), Chicken Wings, Delis, Wraps, Fast Food',\n",
       " 'Steakhouses, Restaurants',\n",
       " 'Sandwiches, Salad, Burgers, Restaurants, Food, Food Trucks',\n",
       " 'Restaurants, Soul Food, American (New), Mexican',\n",
       " 'Restaurants, Sports Bars, Burgers, Chicken Wings, Bars, Nightlife, American (Traditional)',\n",
       " 'Bars, Nightlife, Wine Bars, Italian, Restaurants',\n",
       " 'American (New), Restaurants, American (Traditional), Burgers, Sandwiches, Salad',\n",
       " 'Creperies, Restaurants, Event Planning & Services, Breakfast & Brunch, Caterers, French',\n",
       " 'Casinos, Bakeries, Arts & Entertainment, Coffee & Tea, Food, Restaurants, Breakfast & Brunch, American (Traditional)',\n",
       " 'American (Traditional), Burgers, Breakfast & Brunch, Sports Bars, Restaurants, Bars, American (New), Nightlife',\n",
       " 'Mexican, Restaurants, Salad, Breakfast & Brunch',\n",
       " 'Restaurants, German',\n",
       " 'Halal, Mediterranean, American (New), Middle Eastern, Afghan, Restaurants',\n",
       " 'Restaurants, Delis, Salad, Sandwiches',\n",
       " 'Sandwiches, Restaurants',\n",
       " 'Restaurants, Fast Food',\n",
       " 'Coffee Roasteries, Food, Restaurants, Breakfast & Brunch, Cafes, Coffee & Tea',\n",
       " 'Fast Food, Restaurants, Chicken Shop, Chicken Wings',\n",
       " 'Nightlife, Dance Clubs, Music Venues, Restaurants, American (New), Arts & Entertainment, Bars, Diners',\n",
       " 'Japanese, Restaurants, Conveyor Belt Sushi',\n",
       " 'Barbeque, Restaurants',\n",
       " 'Bars, American (New), Restaurants, Pizza, Nightlife',\n",
       " 'American (Traditional), Mini Golf, Arcades, Pizza, Cinema, Restaurants, Arts & Entertainment, Italian, Food, Active Life, Bowling, Beer, Wine & Spirits',\n",
       " 'Indian, Buffets, Restaurants, Vegetarian',\n",
       " 'Trampoline Parks, Active Life, Food Court, Korean, Restaurants',\n",
       " 'Mediterranean, Pizza, American (New), Restaurants, Italian',\n",
       " 'Cocktail Bars, Breakfast & Brunch, American (New), Restaurants, Bars, Nightlife',\n",
       " 'Food, Mexican, Caterers, Food Trucks, Event Planning & Services, Restaurants',\n",
       " 'Restaurants, Irish',\n",
       " 'Hot Dogs, Restaurants',\n",
       " 'Local Flavor, Arts & Entertainment, Casinos, Beer, Wine & Spirits, Restaurants, Sports Bars, Pizza, Food, Nightlife, Bars',\n",
       " 'Burgers, Restaurants, Fast Food',\n",
       " 'Beer, Wine & Spirits, Nightlife, American (Traditional), Bars, Restaurants, Sports Bars, Local Flavor, Tapas/Small Plates, Food, Pubs',\n",
       " 'Shopping, Barbeque, Shopping Centers, Restaurants',\n",
       " 'Japanese, Chinese, Asian Fusion, Restaurants',\n",
       " 'Food, Hot Dogs, Restaurants',\n",
       " 'Burgers, American (Traditional), Restaurants, Sandwiches',\n",
       " 'Coffee & Tea, Breakfast & Brunch, Donuts, Restaurants, Food',\n",
       " 'Restaurants, Japanese, Steakhouses, Teppanyaki',\n",
       " 'Restaurants, Nightlife, Bars, Wine Bars, Seafood, Italian',\n",
       " 'Pubs, Irish, Irish Pub, Restaurants, Nightlife, Bars',\n",
       " 'Restaurants, Barbeque, Nightlife, Bars, Lounges, Soul Food',\n",
       " 'Fast Food, Restaurants, American (Traditional), Chicken Wings',\n",
       " 'Restaurants, Middle Eastern, Lebanese, American (Traditional)',\n",
       " 'Restaurants, Event Planning & Services, Bars, American (New), Nightlife, Venues & Event Spaces, Breakfast & Brunch, Wine Bars',\n",
       " 'American (New), Burgers, Nightlife, Restaurants, Bars, Sandwiches, Pizza, Sports Bars',\n",
       " 'Restaurants, Bakeries, Food',\n",
       " 'Sandwiches, Restaurants, Fast Food',\n",
       " 'Food, Mexican, Food Trucks, Street Vendors, Restaurants',\n",
       " 'Ramen, Japanese, Restaurants',\n",
       " 'Creperies, Desserts, Food, Restaurants, Acai Bowls, Coffee & Tea, Waffles, Tea Rooms, Juice Bars & Smoothies',\n",
       " 'Restaurants, Cafes, Soup, Japanese, Noodles',\n",
       " 'Restaurants, Lounges, Bars, Mexican, Music Venues, Nightlife, Arts & Entertainment',\n",
       " 'American (Traditional), Breakfast & Brunch, Burgers, American (New), Cafes, Restaurants',\n",
       " 'American (Traditional), Massage, Beauty & Spas, Restaurants, Event Planning & Services, Hotels & Travel, Hotels, Resorts',\n",
       " 'Donuts, Food, Breakfast & Brunch, Restaurants',\n",
       " 'Community Service/Non-Profit, Thrift Stores, Shopping, Local Services, Restaurants',\n",
       " 'Chinese, Restaurants, Salad',\n",
       " 'Arts & Entertainment, Golf, Restaurants, Country Clubs, Active Life',\n",
       " 'Restaurants, Italian, Pizza, Chicken Wings',\n",
       " 'Restaurants, Mexican, Fast Food',\n",
       " 'Bakeries, Food, Restaurants, Sandwiches, Coffee & Tea',\n",
       " 'Breakfast & Brunch, Restaurants, American (Traditional)',\n",
       " 'Restaurants, Chinese, Fast Food',\n",
       " 'Delis, Specialty Food, Bars, Restaurants, Nightlife, Food, Wine Bars, Tapas/Small Plates, Sandwiches',\n",
       " 'Wine Bars, Restaurants, Bars, Food, Beer, Wine & Spirits, Nightlife, Seafood, Steakhouses',\n",
       " 'Caterers, Seafood, Food, Event Planning & Services, Restaurants, Soul Food, Southern',\n",
       " 'Restaurants, Breakfast & Brunch, American (New), American (Traditional)',\n",
       " 'Fast Food, American (Traditional), Restaurants, Burgers',\n",
       " 'Fast Food, Greek, Breakfast & Brunch, Restaurants, Sandwiches, Mediterranean',\n",
       " 'Chicken Wings, Restaurants, Fast Food, Salad',\n",
       " 'Restaurants, Salad, Fast Food, Tex-Mex, Mexican',\n",
       " 'Restaurants, American (Traditional), Barbeque',\n",
       " 'American (Traditional), Restaurants, Fast Food, Sandwiches',\n",
       " 'Restaurants, Asian Fusion, Noodles',\n",
       " 'Pizza, Restaurants, Salad, Japanese, Sandwiches',\n",
       " 'Food, Restaurants, Beer, Wine & Spirits, American (New)',\n",
       " 'Sandwiches, Food, Restaurants, Salad, Cheesesteaks, Coffee & Tea',\n",
       " 'Hot Dogs, Restaurants, American (Traditional), Salad',\n",
       " 'Barbeque, Seafood, Restaurants, Filipino',\n",
       " 'Restaurants, Ethnic Food, Chinese, Food, Specialty Food',\n",
       " 'Restaurants, Chicken Wings, Buffets, Chinese',\n",
       " 'Restaurants, Sushi Bars, Buffets, Japanese, Bars, Nightlife',\n",
       " 'Korean, Restaurants',\n",
       " 'Pizza, Restaurants, Italian, Chicken Wings',\n",
       " 'Burgers, Fast Food, Restaurants, Mexican, Tacos, Breakfast & Brunch',\n",
       " 'Cantonese, Dim Sum, Restaurants, Chinese, Seafood',\n",
       " 'Vegetarian, Vegan, Ethiopian, African, Restaurants, American (New), Food',\n",
       " 'Sandwiches, Food, Barbeque, Pubs, Bars, Brewpubs, Beer, Wine & Spirits, Breweries, Burgers, Restaurants, Nightlife, Beer Bar',\n",
       " 'Comfort Food, Waffles, Breakfast & Brunch, Food Trucks, Coffee & Tea, Bakeries, Restaurants, Food',\n",
       " 'Restaurants, Pakistani, Pizza, Indian, Asian Fusion, Soul Food',\n",
       " 'Nightlife, Bars, American (New), American (Traditional), Sandwiches, Pizza, Restaurants',\n",
       " 'Restaurants, Seafood, Greek, Food, Mediterranean',\n",
       " 'American (Traditional), Steakhouses, Restaurants, Bars, Burgers, Sandwiches, Nightlife, Sports Bars',\n",
       " 'Food, Japanese, Fast Food, Restaurants',\n",
       " 'Waffles, Restaurants, Food, Food Trucks, Street Vendors',\n",
       " 'Sporting Goods, Sports Bars, Food, American (Traditional), Shopping, Nightlife, Bars, Restaurants, Active Life, Event Planning & Services, Beer, Wine & Spirits, Golf, Venues & Event Spaces',\n",
       " 'Spanish, Basque, Restaurants',\n",
       " 'Restaurants, Desserts, Bakeries, Food, Custom Cakes, Ice Cream & Frozen Yogurt, Caterers, Event Planning & Services',\n",
       " 'Ramen, Restaurants, Sushi Bars, Japanese',\n",
       " 'Nightlife, Lounges, Restaurants, American (Traditional), Bars, Arts & Entertainment, Jazz & Blues',\n",
       " 'Barbeque, Event Planning & Services, Caterers, Restaurants',\n",
       " 'Restaurants, Chinese, Food Delivery Services, Food, Buffets',\n",
       " 'Delis, Fast Food, Restaurants, Sandwiches',\n",
       " 'Buffets, Restaurants, Chinese',\n",
       " 'Salad, Vegetarian, Restaurants, American (New)',\n",
       " 'Chicken Wings, Restaurants, Pizza',\n",
       " 'Thai, Vietnamese, Restaurants',\n",
       " 'Event Planning & Services, Sandwiches, Breweries, Pizza, Venues & Event Spaces, Food, Brewpubs, Restaurants',\n",
       " 'Mexican, Vegetarian, Tacos, Restaurants',\n",
       " 'Cafes, Restaurants, Desserts, Cupcakes, Bakeries, Food',\n",
       " 'Pool Halls, Pizza, Sports Bars, Bars, Restaurants, Sandwiches, Nightlife',\n",
       " 'Gluten-Free, Food, American (New), Restaurants, Breweries, Beer, Wine & Spirits, Breakfast & Brunch, Brewpubs',\n",
       " 'Sandwiches, Restaurants, Breakfast & Brunch',\n",
       " 'Restaurants, Food, Belgian, Coffee & Tea, Breakfast & Brunch',\n",
       " 'Beer, Wine & Spirits, Pubs, Nightlife, Restaurants, Irish, Bars, Food',\n",
       " 'Chicken Wings, Restaurants, Food, Burgers, Caterers, Barbeque, Food Trucks, Event Planning & Services, Street Vendors',\n",
       " 'Diners, Restaurants',\n",
       " 'Sushi Bars, Asian Fusion, Restaurants',\n",
       " 'Restaurants, Italian, Pizza',\n",
       " 'Coffee & Tea, Restaurants, Food, Fast Food, Burgers',\n",
       " 'Restaurants, Bars, Burgers, Nightlife, American (Traditional), Sports Bars',\n",
       " 'Pubs, Restaurants, Sports Bars, Nightlife, Bars, Irish',\n",
       " 'Event Planning & Services, Personal Chefs, Restaurants, Caterers',\n",
       " 'Sandwiches, Food, Restaurants, Fast Food',\n",
       " 'Food, Food Trucks, Caterers, Burgers, Event Planning & Services, Restaurants, Photo Booth Rentals',\n",
       " 'Restaurants, Sandwiches, Pizza, Italian',\n",
       " 'Food, Restaurants, Cafes, Breakfast & Brunch, Sandwiches, Bagels',\n",
       " 'Bagels, Delis, Restaurants, Food',\n",
       " 'Nightlife, Sports Bars, American (New), Restaurants, Bars, Food',\n",
       " 'Cocktail Bars, Nightlife, American (New), Restaurants, Bars, Gastropubs',\n",
       " 'Restaurants, Delis, Sandwiches, Fast Food',\n",
       " 'Bars, Karaoke, Pizza, Restaurants, Nightlife',\n",
       " 'Street Vendors, Restaurants, Food, Food Trucks, American (Traditional), Hot Dogs',\n",
       " 'Turkish, Restaurants, Bars, Hookah Bars, Nightlife, Karaoke',\n",
       " 'Sandwiches, Restaurants, Cheesesteaks, Gas Stations, Automotive',\n",
       " 'Restaurants, Salad, Sandwiches, Pizza',\n",
       " 'Restaurants, Food, Coffee & Tea, Fast Food, Burgers',\n",
       " 'Restaurants, Food, Barbeque',\n",
       " 'Specialty Food, Mexican, Restaurants, Food, Street Vendors, Meat Shops, Grocery, Tacos',\n",
       " 'Breakfast & Brunch, Restaurants, American (Traditional), Diners',\n",
       " 'Fast Food, Restaurants, Mexican, Tacos, Tex-Mex',\n",
       " 'Coffee & Tea, Restaurants, Food, Vietnamese, Breakfast & Brunch',\n",
       " 'Restaurants, Cafes, Vietnamese',\n",
       " 'Street Vendors, Fast Food, Food, Restaurants, Local Flavor, Ice Cream & Frozen Yogurt',\n",
       " 'Diners, Greek, Mediterranean, Restaurants',\n",
       " 'Restaurants, Egyptian, Mediterranean, Middle Eastern',\n",
       " 'Latin American, Mexican, Breakfast & Brunch, Puerto Rican, Cuban, Restaurants, Caribbean, Event Planning & Services, Caterers',\n",
       " 'Nightlife, Bars, Restaurants, Barbeque, Seafood, Burgers, Salad, Sandwiches',\n",
       " 'Tacos, Mexican, Restaurants, Lounges, Nightlife, Bars',\n",
       " 'Vegan, Restaurants, Food, Vegetarian, Juice Bars & Smoothies',\n",
       " 'Restaurants, Burgers, Nightlife, American (Traditional), American (New), Lounges, Bars',\n",
       " 'Buffets, Indian, Restaurants',\n",
       " 'Seafood, Restaurants',\n",
       " 'Mexican, Restaurants, Breakfast & Brunch, Chicken Wings',\n",
       " 'Restaurants, Vietnamese',\n",
       " 'Restaurants, Breakfast & Brunch, Pizza, Indoor Playcentre, Burgers, Arcades, American (Traditional), Active Life, Arts & Entertainment',\n",
       " 'Mexican, Event Planning & Services, Caterers, Latin American, Restaurants',\n",
       " 'Breakfast & Brunch, Mexican, Restaurants',\n",
       " 'Seafood, Italian, American (New), Restaurants',\n",
       " 'American (New), Restaurants, Local Flavor, Dinner Theater, Arts & Entertainment, Performing Arts',\n",
       " 'Soul Food, Southern, Barbeque, Restaurants',\n",
       " 'American (Traditional), Mediterranean, Restaurants, Greek',\n",
       " 'Cocktail Bars, Sports Bars, Bars, American (Traditional), Restaurants, Nightlife',\n",
       " 'American (Traditional), Breakfast & Brunch, Restaurants, Sandwiches',\n",
       " 'Restaurants, Chinese, Szechuan',\n",
       " 'American (Traditional), Bars, Nightlife, Sports Bars, Restaurants, Mexican',\n",
       " 'Restaurants, Cafeteria',\n",
       " 'Burgers, Fast Food, Restaurants, Coffee & Tea, Food',\n",
       " 'Puerto Rican, Restaurants, Caribbean, Food, Latin American, Spanish, Fast Food',\n",
       " 'Restaurants, Pizza, Italian, Chicken Wings',\n",
       " 'Burgers, Ice Cream & Frozen Yogurt, Food, American (Traditional), Restaurants, Fast Food',\n",
       " 'Food, Coffee & Tea, Gluten-Free, Restaurants, Burgers, Sandwiches',\n",
       " 'American (Traditional), Nightlife, Bars, Restaurants, Seafood, Burgers, Salad',\n",
       " 'Diners, Restaurants, Seafood, American (New), Steakhouses',\n",
       " 'Sushi Bars, Asian Fusion, Thai, Restaurants',\n",
       " 'Irish, Restaurants',\n",
       " 'Szechuan, Chinese, Restaurants',\n",
       " 'Restaurants, Fast Food, Pizza, Salad',\n",
       " 'Fast Food, Restaurants, Food, Chicken Shop, Chicken Wings, Breakfast & Brunch',\n",
       " 'Restaurants, Hot Dogs, Food',\n",
       " 'Cajun/Creole, Southern, Restaurants, Soul Food',\n",
       " 'Hot Dogs, Restaurants, Burgers, Fast Food',\n",
       " 'American (Traditional), Nightlife, Bars, Restaurants',\n",
       " 'Restaurants, Gastropubs',\n",
       " 'Lounges, Bars, Nightlife, American (New), Steakhouses, Restaurants',\n",
       " 'Arts & Entertainment, Music Venues, Cocktail Bars, Nightlife, Dance Clubs, Restaurants, American (New), Bars',\n",
       " 'American (New), Imported Food, Mexican, Specialty Food, Ethnic Food, Restaurants, Food',\n",
       " 'Asian Fusion, Restaurants, Chinese, Buffets, Seafood',\n",
       " 'Bakeries, German, Food, Pretzels, Restaurants, Desserts',\n",
       " 'Food, Grocery, Gas Stations, Automotive, Convenience Stores, Hot Dogs, Restaurants',\n",
       " 'Restaurants, Japanese, Cafes',\n",
       " 'Restaurants, Fast Food, Burgers, Mexican, Tacos, Breakfast & Brunch',\n",
       " 'Diners, Breakfast & Brunch, Mexican, American (Traditional), Restaurants',\n",
       " 'Sandwiches, Breakfast & Brunch, Restaurants',\n",
       " 'Persian/Iranian, Bakeries, Food, Restaurants',\n",
       " 'Sandwiches, Restaurants, American (Traditional)',\n",
       " 'Nightlife, Bars, Restaurants, Pizza',\n",
       " 'Chicken Wings, Restaurants, Pizza, Italian',\n",
       " 'Restaurants, Food, Italian',\n",
       " 'Specialty Food, Food, Restaurants, Bakeries, Chocolatiers & Shops, Cafes, Desserts, Macarons',\n",
       " 'Pakistani, Restaurants, Indian',\n",
       " 'Restaurants, Sandwiches, Breakfast & Brunch, Hawaiian, Barbeque',\n",
       " 'American (Traditional), Asian Fusion, Restaurants',\n",
       " 'Bars, Nightlife, Food, Dive Bars, Burgers, Beer, Wine & Spirits, Restaurants',\n",
       " 'Sandwiches, American (New), Moroccan, Mediterranean, Restaurants, Pizza, Seafood, American (Traditional)',\n",
       " 'Restaurants, Breakfast & Brunch, Mexican, Nightlife, Food, Tacos, Desserts, Bars',\n",
       " 'Restaurants, Thai, Vegetarian, Vegan',\n",
       " 'Pizza, Restaurants, Fast Food',\n",
       " 'Greek, Restaurants, Italian, American (Traditional), American (New)',\n",
       " 'Ice Cream & Frozen Yogurt, Fast Food, Restaurants, Hot Dogs, Burgers, Food',\n",
       " 'Breakfast & Brunch, Restaurants, American (Traditional), Soul Food, Southern',\n",
       " 'American (New), Restaurants, Airports, Hotels & Travel',\n",
       " 'American (Traditional), Fast Food, Chicken Wings, Southern, Restaurants',\n",
       " 'Burgers, Coffee & Tea, Restaurants, Fast Food, Food',\n",
       " 'Korean, Seafood, Japanese, Restaurants, Steakhouses, Barbeque',\n",
       " 'Coffee & Tea, Food, Burgers, Restaurants, Fast Food',\n",
       " 'Restaurants, Steakhouses, Bars, African, Nightlife',\n",
       " 'Restaurants, Chicken Shop',\n",
       " 'Mexican, Restaurants, Fast Food, Caterers, Event Planning & Services, Seafood, Salad',\n",
       " 'Thai, Restaurants, Vegetarian, Asian Fusion',\n",
       " 'Wraps, Burgers, Nightlife, Bars, Restaurants',\n",
       " 'Chicken Wings, Pizza, Restaurants, Breakfast & Brunch',\n",
       " 'French, Cafes, Restaurants, Cocktail Bars, Nightlife, Venues & Event Spaces, Event Planning & Services, Bars, Breakfast & Brunch',\n",
       " 'Chinese, Restaurants, Cantonese',\n",
       " 'Fast Food, Restaurants, Chinese',\n",
       " 'Fast Food, Restaurants, Tacos, Tex-Mex, Mexican',\n",
       " 'American (New), Restaurants, Mediterranean, Japanese, Buffets',\n",
       " 'Mexican, Restaurants, Hot Dogs',\n",
       " 'Burgers, Bars, Nightlife, American (Traditional), Restaurants',\n",
       " 'Restaurants, Gastropubs, Asian Fusion',\n",
       " 'Restaurants, Hot Dogs',\n",
       " 'Restaurants, Fast Food, Tex-Mex, Mexican',\n",
       " 'Japanese, Asian Fusion, Food, Hawaiian, Restaurants, Poke',\n",
       " 'Restaurants, Coffee & Tea, Cafes, Japanese, Food',\n",
       " 'Caterers, Wedding Planning, Cafes, Event Planning & Services, Restaurants, Party & Event Planning',\n",
       " 'Cafes, Sandwiches, Coffee & Tea, Restaurants, Food',\n",
       " 'Nightlife, Bars, American (New), Restaurants, Wine Bars',\n",
       " 'Cocktail Bars, Tapas Bars, Bars, Nightlife, Speakeasies, American (New), Social Clubs, Arts & Entertainment, Restaurants, Lounges',\n",
       " 'Breakfast & Brunch, Salad, Delis, Sandwiches, Restaurants, Fast Food',\n",
       " 'Burgers, Pizza, American (New), Restaurants',\n",
       " 'Restaurants, Chicken Wings, Pizza, Burgers',\n",
       " 'Food, Coffee & Tea, Restaurants, Japanese',\n",
       " 'Italian, Pizza, Restaurants, Photographers, Event Planning & Services',\n",
       " 'Sandwiches, American (Traditional), Bars, Nightlife, Cafes, Restaurants',\n",
       " 'Food, Restaurants, Juice Bars & Smoothies',\n",
       " 'Restaurants, Burgers, Diners, Fast Food, American (Traditional), Breakfast & Brunch',\n",
       " 'Asian Fusion, Restaurants, Mexican, American (New), Sri Lankan',\n",
       " 'Beer, Wine & Spirits, Cocktail Bars, American (New), Food, Burgers, Nightlife, Restaurants, Gastropubs, Sports Bars, Bars',\n",
       " 'Italian, Food, Restaurants, Pizza',\n",
       " 'Sushi Bars, Asian Fusion, Japanese, Restaurants',\n",
       " 'Restaurants, Lounges, Bars, Nightlife, Tapas Bars, Wine Bars',\n",
       " 'Breweries, Food, American (Traditional), Salad, Pizza, Beer Bar, Bars, Restaurants, Nightlife, Sports Bars',\n",
       " 'Restaurants, American (New), Nightlife, Bars, Cafes, Arts & Entertainment',\n",
       " 'Asian Fusion, Event Planning & Services, Restaurants, Buffets, Sushi Bars, Hotels & Travel, Hotels, Breakfast & Brunch, American (Traditional)',\n",
       " 'Thai, Sandwiches, Restaurants, Chinese, Noodles',\n",
       " 'Event Planning & Services, Caterers, Italian, Pizza, Restaurants',\n",
       " 'Event Planning & Services, Venues & Event Spaces, Golf, Active Life, Restaurants, Arts & Entertainment, Country Clubs',\n",
       " 'Nightlife, Bars, Persian/Iranian, Lounges, Food, Middle Eastern, Restaurants, Desserts',\n",
       " 'Seafood, Restaurants, Sandwiches',\n",
       " 'Shopping, Sandwiches, Food, Coffee & Tea, Fast Food, Hot Dogs, Restaurants, Shopping Centers, Mexican, Food Stands',\n",
       " 'Restaurants, Food, American (New)',\n",
       " 'Restaurants, American (Traditional), Breakfast & Brunch, Burgers',\n",
       " 'Event Planning & Services, Food, Caterers, Restaurants, Mexican',\n",
       " 'Pizza, Chicken Wings, Restaurants, Italian',\n",
       " 'Burgers, American (New), Restaurants, Nightlife',\n",
       " 'Middle Eastern, Restaurants, Mediterranean, Salad',\n",
       " 'Diners, Restaurants, Breakfast & Brunch',\n",
       " 'American (Traditional), Bars, Burgers, Nightlife, Beer Gardens, Sports Bars, Restaurants',\n",
       " 'Restaurants, Asian Fusion, Japanese, Bars, Sushi Bars, Nightlife',\n",
       " 'Restaurants, Middle Eastern, Greek, American (New)',\n",
       " 'Vietnamese, Restaurants, Sushi Bars, Asian Fusion',\n",
       " 'Sushi Bars, Cocktail Bars, Restaurants, Bars, Ramen, Chicken Wings, Nightlife, Japanese',\n",
       " 'Pubs, Sports Bars, Nightlife, Beer, Wine & Spirits, Bars, Food, American (New), Gastropubs, American (Traditional), Restaurants',\n",
       " 'Restaurants, Sushi Bars, Japanese',\n",
       " 'Wine Bars, Bars, Beer, Wine & Spirits, Tapas/Small Plates, Food, Nightlife, Arts & Entertainment, Wineries, Restaurants, Modern European, Wine Tasting Room',\n",
       " 'Restaurants, Tacos, Mexican',\n",
       " 'Restaurants, Fast Food, Burgers, Salad',\n",
       " 'Restaurants, Caterers, Italian, Event Planning & Services',\n",
       " 'Food, Coffee & Tea, Cafes, Shopping, Restaurants',\n",
       " 'American (Traditional), Restaurants, Nightlife, Bars',\n",
       " 'Burgers, Chicken Wings, Restaurants',\n",
       " 'Chicken Wings, Restaurants, Pizza, Buffets',\n",
       " 'Restaurants, Japanese, Chinese, Mexican, Thai, Breakfast & Brunch, Seafood, Diners',\n",
       " 'Bars, Tapas/Small Plates, Nightlife, Restaurants, American (New)',\n",
       " 'Bars, Restaurants, Cocktail Bars, Tacos, Mexican, Nightlife',\n",
       " 'Bars, Jazz & Blues, Arts & Entertainment, Lounges, Restaurants, Seafood, Steakhouses, Nightlife',\n",
       " 'Latin American, Restaurants',\n",
       " 'Bars, Restaurants, Arts & Entertainment, American (Traditional), Nightlife, Chicken Wings, Pubs, Music Venues',\n",
       " 'Restaurants, Nightlife, American (Traditional), Hawaiian, Asian Fusion, Caribbean, Bars',\n",
       " 'Restaurants, Fast Food, Coffee & Tea, Burgers, Food',\n",
       " 'Salad, Restaurants, Nightlife, Sandwiches, Bars',\n",
       " 'Restaurants, American (Traditional), Diners, Breakfast & Brunch',\n",
       " 'Restaurants, Bars, Nightlife, American (New)',\n",
       " 'Cocktail Bars, Nightlife, Bars, Breakfast & Brunch, Soul Food, Tuscan, Restaurants, Pizza, American (New), Italian',\n",
       " 'Grocery, Food, Restaurants, Delis, Diners',\n",
       " 'Bakeries, Restaurants, Food',\n",
       " 'Bars, American (Traditional), Dive Bars, Nightlife, Restaurants',\n",
       " 'Chicken Wings, Fast Food, American (Traditional), Restaurants',\n",
       " 'Restaurants, Thai, Vegetarian',\n",
       " 'Restaurants, American (Traditional)',\n",
       " 'Korean, Chinese, Restaurants, Noodles',\n",
       " 'Restaurants, Asian Fusion',\n",
       " 'Restaurants, Bars, Nightlife, Mexican, Burgers, American (New), Beer, Wine & Spirits, Vegetarian, Food, Vegan',\n",
       " 'Breakfast & Brunch, Venues & Event Spaces, Event Planning & Services, Nightlife, Pubs, Sandwiches, Bars, Irish Pub, Irish, American (Traditional), Restaurants',\n",
       " 'Breakfast & Brunch, Diners, Restaurants, American (Traditional)',\n",
       " 'Desserts, Restaurants, Burgers, Food',\n",
       " 'Caribbean, Restaurants, Latin American, Mexican',\n",
       " 'Italian, Restaurants, Pizza',\n",
       " 'Food, Pizza, Caterers, Italian, Restaurants, Beer, Wine & Spirits, Event Planning & Services, Breakfast & Brunch',\n",
       " 'Performing Arts, Arts & Entertainment, Restaurants, Coffee & Tea, Cafeteria, Food',\n",
       " 'Sushi Bars, Food, Restaurants',\n",
       " 'Bars, American (Traditional), Nightlife, Tex-Mex, Restaurants',\n",
       " 'Restaurants, Food, Food Stands, Farmers Market',\n",
       " 'Nightlife, Bars, Cajun/Creole, Restaurants',\n",
       " 'Arts & Entertainment, American (New), Nightlife, Bars, Restaurants, Wine Bars',\n",
       " 'Mexican, Fast Food, Breakfast & Brunch, Restaurants',\n",
       " 'Bakeries, Coffee & Tea, Food, Vegan, Restaurants',\n",
       " 'Food, Coffee & Tea, Gluten-Free, Ice Cream & Frozen Yogurt, Desserts, Restaurants, Waffles',\n",
       " 'Coffee & Tea, Juice Bars & Smoothies, Food, Sandwiches, Wedding Chapels, Restaurants, Venues & Event Spaces, Breakfast & Brunch, Event Planning & Services',\n",
       " 'Restaurants, Steakhouses, Seafood, American (Traditional), Wine Bars, Caterers, Lounges, Event Planning & Services, Nightlife, Bars',\n",
       " 'Nightlife, Bars, American (New), Restaurants, Cocktail Bars, Food, Beer, Wine & Spirits, Gastropubs',\n",
       " 'Asian Fusion, Japanese, Restaurants',\n",
       " 'Specialty Food, Ethnic Food, Mediterranean, Restaurants, Food',\n",
       " 'Bars, Restaurants, Nightlife, Sports Bars',\n",
       " 'Soup, Restaurants, Mexican, Seafood',\n",
       " 'Restaurants, Chinese, Vegan, Sushi Bars, Vegetarian',\n",
       " 'Restaurants, Barbeque, American (Traditional), Comfort Food',\n",
       " 'Restaurants, Thai, Japanese',\n",
       " 'Soul Food, Restaurants, Southern, Barbeque',\n",
       " 'Restaurants, American (New), Salad',\n",
       " 'Restaurants, Irish, Bars, Nightlife, Pubs',\n",
       " 'Restaurants, Seafood, Fast Food, Fish & Chips',\n",
       " 'Seafood, Nightlife, Bars, American (Traditional), Pizza, Restaurants, Sports Bars, Italian',\n",
       " 'Food, Desserts, Restaurants, Hawaiian, Sushi Bars, Salad, Poke',\n",
       " 'Restaurants, Italian, Burgers, Caterers, Food, Lounges, Beer, Wine & Spirits, Nightlife, Bars, Event Planning & Services',\n",
       " 'Fast Food, Burgers, Coffee & Tea, Restaurants, Food',\n",
       " 'Brazilian, Food, Restaurants',\n",
       " 'Specialty Food, Food, Ethnic Food, Fast Food, Restaurants, Mexican',\n",
       " 'Fast Food, Chinese, Asian Fusion, Restaurants',\n",
       " 'American (New), Restaurants, Nightlife, Bars',\n",
       " 'American (Traditional), Fast Food, Burgers, Sandwiches, Restaurants, Mexican, Breakfast & Brunch, Tacos',\n",
       " 'Restaurants, Seafood, Japanese',\n",
       " 'Food, Food Delivery Services, Sandwiches, Restaurants, Pizza',\n",
       " 'Argentine, Restaurants',\n",
       " 'Sandwiches, Food, Bagels, Cafes, Restaurants',\n",
       " 'Sports Bars, Bars, Pizza, Nightlife, Restaurants',\n",
       " 'Plumbing, Restaurants, Home Services, Water Heater Installation/Repair, Local Services, Septic Services, Heating & Air Conditioning/HVAC',\n",
       " 'Restaurants, Cantonese, Hot Pot, Chinese, Dim Sum, Seafood',\n",
       " 'Restaurants, Fast Food, Gluten-Free, Chinese, Asian Fusion',\n",
       " 'Taiwanese, Restaurants',\n",
       " 'Restaurants, Chicken Wings, American (Traditional)',\n",
       " 'Polish, Restaurants',\n",
       " 'Salad, Soup, Restaurants, Tex-Mex, Mexican',\n",
       " 'Japanese, Bars, Acai Bowls, Food, Sushi Bars, Nightlife, Asian Fusion, Juice Bars & Smoothies, American (New), Ice Cream & Frozen Yogurt, Restaurants, Cocktail Bars, Breakfast & Brunch',\n",
       " 'Restaurants, Fast Food, Soul Food, Seafood, Fish & Chips',\n",
       " 'Restaurants, Food, Convenience Stores, Fast Food',\n",
       " 'Restaurants, Food, Food Trucks, Middle Eastern, Specialty Food',\n",
       " 'Food, Restaurants, Southern, American (New), Fast Food',\n",
       " 'Restaurants, Pizza, Chicken Wings, Sandwiches',\n",
       " 'Italian, Restaurants, Food, American (New), Pizza, Food Delivery Services',\n",
       " 'Asian Fusion, Restaurants',\n",
       " 'Chicken Wings, Restaurants',\n",
       " 'Nightlife, Bars, Sandwiches, Pubs, Restaurants, Salad, Sports Bars',\n",
       " 'Desserts, Food, Pakistani, Seafood, Indian, Restaurants',\n",
       " 'Food, Bakeries, Cafes, Restaurants',\n",
       " 'Mediterranean, Turkish, Restaurants',\n",
       " 'Noodles, Restaurants, Szechuan, Chinese',\n",
       " 'Food, Sandwiches, Bakeries, Caterers, American (New), Restaurants, Breakfast & Brunch, Event Planning & Services',\n",
       " 'Restaurants, Tacos, Nightlife, Bars, Mexican',\n",
       " 'Food, Restaurants, Seafood',\n",
       " 'Bars, Nightlife, American (New), Restaurants',\n",
       " 'Mexican, Street Vendors, Food, Restaurants',\n",
       " 'Chinese, Buffets, Restaurants, Asian Fusion',\n",
       " 'Pizza, Salad, Restaurants, Italian',\n",
       " 'Nightlife, American (Traditional), Sports Bars, Bars, Salad, Restaurants',\n",
       " 'Greek, Mediterranean, American (Traditional), Restaurants',\n",
       " 'Tapas Bars, Restaurants, Sushi Bars, Tapas/Small Plates, Japanese, Izakaya',\n",
       " 'Coffee & Tea, Organic Stores, Food, Restaurants, Beer, Wine & Spirits, Cafes, Vegan, Vegetarian',\n",
       " 'Mexican, Fast Food, Tex-Mex, Food, Restaurants',\n",
       " 'Nightlife, Bars, Bowling, Active Life, Arcades, Arts & Entertainment, American (New), Restaurants',\n",
       " 'Burgers, Breakfast & Brunch, American (Traditional), Restaurants, American (New), Southern',\n",
       " 'Restaurants, American (New), American (Traditional), Sports Bars, Bars, Nightlife',\n",
       " 'Restaurants, Hawaiian, Italian',\n",
       " 'Nightlife, American (New), Cajun/Creole, Bars, Restaurants, Music Venues, American (Traditional), Arts & Entertainment, Caribbean',\n",
       " 'Fast Food, Italian, Pizza, Chicken Wings, Restaurants',\n",
       " 'American (New), Restaurants, Kosher',\n",
       " 'Restaurants, Tex-Mex',\n",
       " 'Restaurants, Food, Fast Food, Burgers, Ice Cream & Frozen Yogurt, American (Traditional)',\n",
       " 'Juice Bars & Smoothies, Cafes, Food, Restaurants',\n",
       " 'Restaurants, Delis, Burgers, Sandwiches, Salad',\n",
       " 'Himalayan/Nepalese, Indian, Restaurants',\n",
       " 'Pizza, Fast Food, Restaurants',\n",
       " 'Appliances & Repair, Furniture Stores, Appliances, Local Services, Wholesalers, Restaurant Supplies, Kitchen & Bath, Professional Services, Wholesale Stores, Restaurants, Shopping, Home & Garden',\n",
       " 'Restaurants, Food, Mexican',\n",
       " 'Mexican, Tacos, Restaurants',\n",
       " 'Bars, Nightlife, Restaurants, American (New)',\n",
       " 'Restaurants, Burgers, Fast Food, Hot Dogs, Food',\n",
       " 'Food, Restaurants, Coffee & Tea',\n",
       " 'Korean, Restaurants, Asian Fusion',\n",
       " 'Restaurants, Breakfast & Brunch, Thai, Food, American (New), Coffee & Tea',\n",
       " 'Pool Halls, Nightlife, Restaurants, Sports Bars, Bars',\n",
       " 'Burgers, Fast Food, Food, Restaurants, Coffee & Tea',\n",
       " 'Sushi Bars, Beer, Wine & Spirits, Food, Japanese, Restaurants, Ramen',\n",
       " 'Restaurants, Sports Bars, Bars, American (Traditional), Nightlife',\n",
       " 'Live/Raw Food, Seafood, Sports Bars, Lounges, Bars, Karaoke, Restaurants, Nightlife',\n",
       " 'Sandwiches, Seafood, Gastropubs, Restaurants, American (New)',\n",
       " 'Restaurants, American (Traditional), Fast Food, Burgers',\n",
       " 'Pizza, Italian, Chicken Wings, Restaurants',\n",
       " 'Restaurants, Salad, Burgers, Nightlife, Sports Bars, Bars, American (Traditional), Steakhouses, Chicken Wings',\n",
       " 'Southern, Restaurants',\n",
       " 'American (Traditional), Sports Bars, Restaurants, Nightlife, Bars',\n",
       " 'Breakfast & Brunch, Gluten-Free, Brasseries, Food, Restaurants, French, American (New), Creperies',\n",
       " 'Nightlife, Salad, Tacos, Cocktail Bars, Mexican, Bars, Restaurants',\n",
       " 'Restaurants, Sandwiches, Salad, Italian',\n",
       " 'Tapas/Small Plates, Restaurants',\n",
       " 'Food, Breakfast & Brunch, Bakeries, Soup, Bagels, Salad, Sandwiches, Restaurants',\n",
       " 'Vietnamese, Restaurants, Cafeteria, Chinese',\n",
       " 'Farmers Market, Vegan, Restaurants, Bakeries, Vegetarian, Food',\n",
       " 'Breakfast & Brunch, Southern, Comfort Food, Restaurants',\n",
       " 'Restaurants, Lounges, Nightlife, Bars, American (New)',\n",
       " 'Restaurants, Chicken Wings, Southern',\n",
       " 'Restaurants, Pizza, Salad, Chicken Wings',\n",
       " 'Ramen, Japanese, Cantonese, Restaurants, Hong Kong Style Cafe, Chinese',\n",
       " 'Barbeque, Mexican, Cajun/Creole, Restaurants, Southern',\n",
       " 'Sandwiches, Restaurants, American (Traditional), Bars, Nightlife',\n",
       " 'Nightlife, Food, Beer, Wine & Spirits, Bars, Sports Bars, Burgers, Restaurants, American (Traditional)',\n",
       " 'Pizza, Restaurants, Chicken Wings, Italian',\n",
       " 'American (Traditional), Pizza, Restaurants',\n",
       " 'Grocery, Bakeries, Restaurants, Delis, Food',\n",
       " 'Vegetarian, Restaurants, Indian, Halal',\n",
       " 'Restaurants, Mexican, Food',\n",
       " 'Restaurants, Brazilian, Steakhouses',\n",
       " 'Fast Food, Burgers, Sandwiches, Restaurants, American (Traditional)',\n",
       " 'Restaurants, Buffets, American (Traditional)',\n",
       " 'Arts & Entertainment, American (New), Restaurants, Bars, American (Traditional), Nightlife, Eatertainment, Arcades',\n",
       " 'Caribbean, Latin American, Nightlife, Restaurants, Bars',\n",
       " 'Restaurants, Breakfast & Brunch, Ice Cream & Frozen Yogurt, Coffee & Tea, Food',\n",
       " 'Seafood, Thai, Chinese, Restaurants',\n",
       " 'Restaurants, Gas Stations, Automotive, Fast Food',\n",
       " 'Japanese, Poke, Restaurants, Hawaiian, Food',\n",
       " 'Restaurants, Ice Cream & Frozen Yogurt, Food, Fast Food, Burgers',\n",
       " 'Salad, Fast Food, Pizza, Restaurants',\n",
       " 'Restaurants, Food, Southern, Chicken Wings, Burgers, Food Trucks, Barbeque',\n",
       " 'Coffee & Tea, Food, Burgers, Fast Food, Restaurants',\n",
       " 'Bars, Breakfast & Brunch, Cocktail Bars, Waffles, Restaurants, Nightlife, Soul Food',\n",
       " 'Fast Food, Restaurants, Chicken Wings, American (New), Chicken Shop',\n",
       " 'Restaurants, Korean',\n",
       " 'Barbeque, Restaurants, American (Traditional), Bars, Nightlife, Pubs',\n",
       " 'Sandwiches, Caterers, Event Planning & Services, Restaurants, Delis',\n",
       " 'Nightlife, Bars, Food, Beer, Wine & Spirits, Restaurants, Cocktail Bars, Hot Dogs',\n",
       " 'Restaurants, Italian, Pizza, Salad',\n",
       " 'Food, Restaurants, Mexican',\n",
       " 'Asian Fusion, Japanese, Hot Pot, Restaurants, Sushi Bars',\n",
       " 'Health Markets, Specialty Food, Grocery, Restaurants, Sandwiches, Food',\n",
       " 'Mexican, Fast Food, Restaurants',\n",
       " 'Nightlife, Sports Bars, Bars, American (Traditional), Restaurants, Pubs, Breakfast & Brunch',\n",
       " 'Diners, Bars, Nightlife, Greek, Cocktail Bars, Wine Bars, Mediterranean, Restaurants, Breakfast & Brunch',\n",
       " 'Steakhouses, Italian, American (Traditional), Restaurants',\n",
       " 'Pizza, Restaurants, Community Service/Non-Profit, Italian, Local Services',\n",
       " 'Food, Grocery, Mediterranean, Tobacco Shops, Shopping, Restaurants',\n",
       " 'Restaurants, Chicken Wings, Pizza',\n",
       " 'Restaurants, Bars, Nightlife, American (Traditional)',\n",
       " 'Dinner Theater, Restaurants, Arts & Entertainment, Performing Arts, Team Building Activities, Event Planning & Services, Party & Event Planning',\n",
       " 'Nightlife, Restaurants, Food, American (New), Lounges, Bars',\n",
       " 'Food, Bakeries, Restaurants',\n",
       " 'Restaurants, Fast Food, Mexican, Tex-Mex, Tacos',\n",
       " 'Coffee & Tea, Food, Fast Food, Burgers, Restaurants',\n",
       " 'Mexican, Burgers, Salvadoran, Breakfast & Brunch, Food, Restaurants, Latin American',\n",
       " 'German, Restaurants, Sandwiches, Soup',\n",
       " 'Restaurants, Indian, Buffets',\n",
       " 'Restaurants, American (Traditional), Food, Burgers',\n",
       " 'Coffee & Tea, Bagels, Restaurants, Event Planning & Services, Cafes, Food, Caterers',\n",
       " 'Desserts, Sandwiches, Restaurants, Coffee & Tea, Food, Cafes, Breakfast & Brunch',\n",
       " 'Convenience Stores, Food, Burgers, Restaurants',\n",
       " 'Nightlife, Bars, Breweries, Cocktail Bars, Beer Bar, Food, Restaurants, American (New)',\n",
       " 'Restaurants, Sandwiches, Desserts, Food, Ice Cream & Frozen Yogurt',\n",
       " 'Food, Delis, Bagels, Breakfast & Brunch, Restaurants',\n",
       " 'Bars, Nightlife, American (New), American (Traditional), Restaurants',\n",
       " 'Vegan, Specialty Food, Ethnic Food, Fast Food, Restaurants, Indian, Food, Vegetarian',\n",
       " 'Fast Food, Delis, Food Delivery Services, Sandwiches, Food, Restaurants',\n",
       " 'Restaurants, Pubs, Bars, Burgers, Sports Bars, Nightlife, Sandwiches',\n",
       " 'Mexican, Restaurants, Specialty Food, Tacos, Food',\n",
       " 'Sandwiches, Salad, Delis, Restaurants',\n",
       " 'Sports Bars, American (Traditional), Bars, Restaurants, Nightlife',\n",
       " 'Restaurants, American (New), Bars, Nightlife',\n",
       " 'Caterers, American (New), Restaurants, Food, Food Delivery Services, Fast Food, Event Planning & Services',\n",
       " 'Food, Juice Bars & Smoothies, Restaurants, Breakfast & Brunch, Active Life',\n",
       " 'Hotels & Travel, Arts & Entertainment, Casinos, Bars, American (New), Music Venues, Nightlife, Restaurants',\n",
       " 'Food, Event Planning & Services, Custom Cakes, Bakeries, Comfort Food, Venues & Event Spaces, Restaurants, Sandwiches, Coffee & Tea',\n",
       " 'Restaurants, Steakhouses, Brazilian',\n",
       " 'Burgers, American (New), Restaurants',\n",
       " 'Burgers, Fast Food, Food, Coffee & Tea, Restaurants',\n",
       " 'Restaurants, Food, Bakeries, American (Traditional)',\n",
       " 'Fast Food, American (New), Restaurants',\n",
       " 'Barbeque, Restaurants, Breakfast & Brunch, Sandwiches',\n",
       " 'Restaurants, Bars, Nightlife, Sports Bars, Pubs, American (New)',\n",
       " 'Fast Food, Restaurants, Tacos, Mexican, Burgers, Breakfast & Brunch',\n",
       " 'Cajun/Creole, Restaurants, Seafood',\n",
       " 'Specialty Food, Restaurants, Food, German',\n",
       " 'Chicken Wings, Chicken Shop, Fast Food, Restaurants',\n",
       " 'Restaurants, Ethiopian',\n",
       " 'Salad, Chicken Wings, Pizza, Food, Restaurants, Nightlife, Burgers, Sandwiches, Cocktail Bars, Bars, Beer Bar',\n",
       " 'Bars, Lounges, Restaurants, Nightlife',\n",
       " 'Sandwiches, Restaurants, Coffee & Tea, Bakeries, Ice Cream & Frozen Yogurt, Food, Vietnamese, Asian Fusion',\n",
       " 'Arts & Entertainment, Music Venues, Nightlife, Bars, Sports Bars, Restaurants, American (Traditional), Karaoke',\n",
       " 'Food, Restaurants, American (Traditional), Bakeries',\n",
       " 'Nightlife, American (New), Bars, Restaurants, Sports Bars',\n",
       " 'Breakfast & Brunch, American (Traditional), Southern, Restaurants, Bars, Nightlife',\n",
       " 'Coffee & Tea, Latin American, Food, Spanish, Restaurants, Colombian, Mexican',\n",
       " 'Mexican, Restaurants, Tacos, Fast Food',\n",
       " 'Bars, Dive Bars, Nightlife, American (Traditional), Restaurants',\n",
       " 'Bars, Burgers, Nightlife, Italian, Restaurants, American (Traditional), American (New), Breakfast & Brunch, Sports Bars',\n",
       " 'American (Traditional), Restaurants, Bars, American (New), Nightlife, Lounges, Food',\n",
       " 'Live/Raw Food, Food, Restaurants, Juice Bars & Smoothies, Vegan, Vegetarian',\n",
       " 'Sandwiches, Delis, Restaurants, Breakfast & Brunch',\n",
       " 'Wine Bars, Bars, Beer Gardens, Restaurants, American (Traditional), Nightlife',\n",
       " 'American (New), Pubs, Restaurants, Nightlife, Pizza, Bars',\n",
       " 'Sandwiches, Fast Food, Delis, Restaurants',\n",
       " 'Food, Beer, Wine & Spirits, Delis, Restaurants, Greek',\n",
       " 'Food, Restaurants, Chinese',\n",
       " 'Mediterranean, Restaurants, Afghan',\n",
       " 'Bars, Sports Bars, Restaurants, Nightlife, Sandwiches',\n",
       " 'Salad, Pizza, Sandwiches, Restaurants',\n",
       " 'Breakfast & Brunch, Restaurants, Food, Coffee & Tea',\n",
       " 'Seafood, Restaurants, Food, Specialty Food, Food Trucks',\n",
       " 'Nightlife, Bars, American (Traditional), Restaurants',\n",
       " 'American (Traditional), American (New), Restaurants',\n",
       " 'Restaurants, Thai, Chinese',\n",
       " 'Restaurants, Bakeries, Ice Cream & Frozen Yogurt, Sandwiches, Food, Desserts',\n",
       " 'Bubble Tea, Taiwanese, Asian Fusion, Restaurants, Food, Chinese',\n",
       " 'Bakeries, Restaurants, Food, Coffee & Tea, Cafes, Specialty Food',\n",
       " 'Restaurants, Asian Fusion, Chinese, Chicken Wings',\n",
       " 'Restaurants, Fast Food, Chinese',\n",
       " 'Fast Food, Food, Seafood, Chinese, Restaurants',\n",
       " 'Restaurants, Cocktail Bars, Nightlife, Bars, American (Traditional)',\n",
       " 'Restaurants, Sandwiches, Delis',\n",
       " 'Sandwiches, Fast Food, Restaurants',\n",
       " 'Food, Ice Cream & Frozen Yogurt, Burgers, Restaurants, American (Traditional), Fast Food',\n",
       " 'Local Flavor, Food, Breakfast & Brunch, Restaurants, American (New), Bars, Nightlife, Pubs, Brewpubs, Breweries',\n",
       " 'Food, Beer, Wine & Spirits, Shopping, Delis, Restaurants',\n",
       " 'Hot Dogs, Burgers, Restaurants, Mexican',\n",
       " 'Tennis, Playgrounds, Travel Services, Community Service/Non-Profit, Swimming Pools, Skating Rinks, Parks, Hiking, Restaurants, Hotels & Travel, Visitor Centers, Active Life, Beaches, Local Services, Cafes',\n",
       " 'Diners, Sandwiches, Bars, Salad, Restaurants, American (Traditional), Breakfast & Brunch, Nightlife, American (New)',\n",
       " 'Sandwiches, Italian, Pizza, Restaurants',\n",
       " 'Cocktail Bars, Bars, Latin American, Nightlife, Seafood, Mexican, Restaurants',\n",
       " 'Tapas/Small Plates, Restaurants, Tapas Bars, Mexican',\n",
       " 'Pizza, Food, Restaurants, Italian, Food Delivery Services',\n",
       " 'Sports Bars, Bars, Nightlife, Restaurants, American (Traditional), Comfort Food, Pubs',\n",
       " 'Food, Restaurants, Do-It-Yourself Food, Pizza',\n",
       " 'Arts & Entertainment, Nightlife, Breakfast & Brunch, Music Venues, Bars, Mexican, Restaurants',\n",
       " 'Italian, Comfort Food, Asian Fusion, Restaurants, Noodles, Thai, Specialty Food, Salad, Food, Pasta Shops',\n",
       " 'Food, Beer, Wine & Spirits, Wine Bars, Nightlife, French, Bars, Restaurants, Specialty Food, Breakfast & Brunch',\n",
       " 'Pizza, Sandwiches, Restaurants, Italian',\n",
       " 'Restaurants, Pizza, Chicken Wings, Sandwiches, Fast Food',\n",
       " 'Sandwiches, Fast Food, Restaurants, Burgers',\n",
       " 'Restaurants, Greek',\n",
       " 'Cafes, Restaurants, Coffee & Tea, Food',\n",
       " 'Barbeque, Pubs, Nightlife, Indian, Szechuan, Restaurants, Bars, Chinese, Karaoke',\n",
       " 'Restaurants, Nightlife, Karaoke',\n",
       " 'Bakeries, Bagels, Breakfast & Brunch, Gelato, Italian, Food, Restaurants',\n",
       " 'Barbeque, Restaurants, Korean',\n",
       " 'Burgers, Restaurants, Hot Dogs, Fast Food, Coffee & Tea, Food',\n",
       " 'Music Venues, Arts & Entertainment, Bars, Nightlife, Beer, Wine & Spirits, Dive Bars, Food, American (Traditional), Restaurants',\n",
       " 'Caribbean, Latin American, Restaurants, Mexican',\n",
       " 'Breakfast & Brunch, Southern, Soul Food, Vegetarian, Restaurants',\n",
       " 'Restaurants, Ethnic Food, Imported Food, Specialty Food, Vegetarian, Food, Buffets, Indian, Desserts',\n",
       " 'Shopping, Food, Bookstores, Restaurants, Coffee & Tea, Books, Mags, Music & Video',\n",
       " 'Restaurants, Nightlife, American (Traditional), Bars',\n",
       " 'Noodles, Sandwiches, Thai, Restaurants',\n",
       " 'Fast Food, Food, Ice Cream & Frozen Yogurt, Burgers, Restaurants',\n",
       " 'Breakfast & Brunch, Gluten-Free, Restaurants, Armenian, American (Traditional), Sandwiches',\n",
       " 'Peruvian, Restaurants',\n",
       " 'Tex-Mex, Restaurants',\n",
       " 'Salad, Mediterranean, Restaurants, Middle Eastern, Vegetarian, Event Planning & Services, Greek, Caterers',\n",
       " 'Breakfast & Brunch, Sandwiches, Restaurants, American (Traditional)',\n",
       " 'Food, Restaurants, American (Traditional), Breakfast & Brunch, American (New), Burgers',\n",
       " 'Pizza, Restaurants, Food',\n",
       " 'Bakeries, American (New), Modern European, Food, Restaurants, Sandwiches, Delis',\n",
       " 'Pizza, Restaurants, Burgers',\n",
       " 'Restaurants, Asian Fusion, Thai',\n",
       " 'Restaurants, Thai, Vegetarian, Laotian',\n",
       " 'Restaurants, Arts & Entertainment, Delis, Casinos',\n",
       " 'American (Traditional), Restaurants, Fast Food, Southern',\n",
       " 'Coffee & Tea, Restaurants, Food, Bubble Tea, Cafes, Thai, Fast Food',\n",
       " 'Vietnamese, Chinese, Asian Fusion, Noodles, Restaurants, Nightlife, Karaoke, Bars',\n",
       " 'Delis, Sandwiches, Fast Food, Restaurants, American (Traditional), Breakfast & Brunch, Food, Diners',\n",
       " 'Event Planning & Services, Venues & Event Spaces, Restaurants, American (New), Bars, Active Life, Nightlife, Amateur Sports Teams',\n",
       " 'Food, Tapas/Small Plates, Vegan, Desserts, Restaurants, Wine Bars, Bars, Lounges, Nightlife, Pizza',\n",
       " 'Coffee & Tea, Food, Cafes, Restaurants, Juice Bars & Smoothies',\n",
       " 'Restaurants, Ramen, Japanese, Tapas/Small Plates',\n",
       " 'Fashion, Shopping Centers, Nightlife, Bars, Department Stores, Venues & Event Spaces, Event Planning & Services, Local Flavor, Shopping, Restaurants',\n",
       " 'Mediterranean, Restaurants, Vegetarian, Vegan',\n",
       " 'American (New), Fast Food, Food, Restaurants, Chicken Wings',\n",
       " 'American (Traditional), Chicken Wings, Fast Food, Restaurants',\n",
       " 'Restaurants, Sandwiches, Fast Food, Soup',\n",
       " 'American (New), American (Traditional), Restaurants, Breakfast & Brunch, Sandwiches, Cafes',\n",
       " 'Italian, Ice Cream & Frozen Yogurt, Pizza, Food, Restaurants',\n",
       " 'Restaurants, Delis, Cafes, Sandwiches',\n",
       " 'Restaurants, Delis, Donuts, Food, Bakeries',\n",
       " 'Pizza, Pasta Shops, Specialty Food, Desserts, International Grocery, Food, Restaurants, Italian',\n",
       " 'Bars, Nightlife, Pubs, Restaurants, American (Traditional)',\n",
       " 'Bars, Sports Bars, Mexican, Restaurants, Nightlife, Food, Dance Clubs',\n",
       " 'Salad, Mexican, Soup, Restaurants',\n",
       " 'Restaurants, Fast Food, Mexican',\n",
       " 'Restaurants, Chicken Wings, American (New)',\n",
       " 'Seafood, American (Traditional), Fast Food, Chicken Wings, Restaurants',\n",
       " 'Florists, Cafes, Food, Restaurants, Grocery, Flowers & Gifts, Shopping',\n",
       " 'Desserts, Beer Bar, Food, Bars, Nightlife, Mexican, Restaurants',\n",
       " 'Gluten-Free, Breakfast & Brunch, Greek, Juice Bars & Smoothies, Cafes, Mediterranean, Restaurants, Food, Sandwiches',\n",
       " 'Italian, Chinese, Restaurants, Japanese',\n",
       " 'Food, Food Delivery Services, Juice Bars & Smoothies, Restaurants, American (Traditional)',\n",
       " 'Restaurants, Pan Asian, Vietnamese, Soup, Chinese, Asian Fusion',\n",
       " 'Restaurants, Salad, Sandwiches, Soup, Food, Breakfast & Brunch, Caterers, Event Planning & Services, Grocery, Delis',\n",
       " 'Fast Food, Chinese, Restaurants',\n",
       " 'Restaurants, Karaoke, Nightlife, American (Traditional), Sports Bars, Bars, Pubs',\n",
       " 'Chinese, Restaurants, Asian Fusion, Fast Food, Gluten-Free',\n",
       " 'Restaurants, Sushi Bars, Seafood, Mexican',\n",
       " 'Pizza, Food, Restaurants',\n",
       " 'Food, Chinese, Food Delivery Services, Restaurants',\n",
       " 'Food, Restaurants, Juice Bars & Smoothies, Cafes',\n",
       " 'Nightlife, Bars, Burgers, Dive Bars, Restaurants',\n",
       " 'Restaurants, Active Life, Horse Racing, Stadiums & Arenas, Arts & Entertainment',\n",
       " 'Restaurants, Seafood, Sandwiches, Brazilian',\n",
       " 'Restaurants, Salad, Pizza, Gluten-Free',\n",
       " 'Restaurants, Food, Bakeries',\n",
       " 'Food, Ethnic Food, Specialty Food, Sandwiches, Restaurants, Imported Food, Italian',\n",
       " 'Latin American, Chinese, Restaurants',\n",
       " 'Food Trucks, Korean, Asian Fusion, Street Vendors, Food, Restaurants, Barbeque',\n",
       " 'Gas Stations, Coffee & Tea, Restaurants, Convenience Stores, Fast Food, Automotive, Food',\n",
       " 'Food, Food Stands, Restaurants, Juice Bars & Smoothies',\n",
       " 'Hot Dogs, American (Traditional), Food, Restaurants, Beer, Wine & Spirits, Bars, Pubs, Nightlife',\n",
       " 'Sandwiches, Salad, Pizza, Restaurants, Italian',\n",
       " 'Fast Food, Restaurants, Delis, Sandwiches',\n",
       " 'Japanese, Restaurants, Korean, Nightlife, Asian Fusion, Ramen, Bars, Pubs',\n",
       " 'Restaurants, Breakfast & Brunch, Cafes',\n",
       " 'Burgers, Bars, Restaurants, American (New), Pubs, Nightlife',\n",
       " 'American (Traditional), Hungarian, Restaurants, Food, Desserts',\n",
       " 'Desserts, Restaurants, Filipino, Food, Bakeries',\n",
       " 'Diners, Restaurants, Breakfast & Brunch, American (New), Latin American',\n",
       " 'Restaurants, Pizza, Food',\n",
       " 'Restaurants, Chinese, Mexican, Seafood',\n",
       " 'Home Services, Contractors, Hawaiian, Siding, Roofing, Windows Installation, Restaurants',\n",
       " 'Restaurants, Filipino',\n",
       " 'Diners, American (Traditional), Breakfast & Brunch, Restaurants',\n",
       " 'Sushi Bars, Restaurants',\n",
       " 'Restaurants, Bars, Cocktail Bars, Nightlife, Sushi Bars, Live/Raw Food, Seafood',\n",
       " 'Food, Restaurants, Pizza',\n",
       " 'Bars, Nightlife, Salad, Restaurants, Asian Fusion, Seafood, Hawaiian, Cocktail Bars',\n",
       " 'Nightlife, Bars, Sports Bars, Event Planning & Services, Italian, Pizza, Caterers, Restaurants',\n",
       " 'Juice Bars & Smoothies, Food, Vegetarian, Creperies, Event Planning & Services, Desserts, Breakfast & Brunch, Music Venues, Food Delivery Services, Restaurants, Nightlife, Caterers, Cafes, Food Trucks, Arts & Entertainment',\n",
       " 'Salad, Sports Bars, Nightlife, Restaurants, American (Traditional), Bars',\n",
       " 'Chicken Wings, Salad, Restaurants, Pizza',\n",
       " 'Breakfast & Brunch, Restaurants, Sandwiches, Diners',\n",
       " 'Restaurants, Sandwiches, Burgers, Salad',\n",
       " 'Restaurants, Mexican, Greek',\n",
       " 'Italian, French, Restaurants',\n",
       " 'Food Court, Salad, Restaurants',\n",
       " 'Restaurants, Tex-Mex, Fast Food, Mexican, Food',\n",
       " 'Breakfast & Brunch, Restaurants, Mexican',\n",
       " 'Chinese, Restaurants, Caterers, Event Planning & Services',\n",
       " 'Bubble Tea, Food, Cafes, Coffee & Tea, Bakeries, Restaurants',\n",
       " 'Pizza, Italian, Restaurants, Buffets',\n",
       " 'Restaurants, Southern',\n",
       " 'Mexican, Seafood, Restaurants',\n",
       " 'Korean, Barbeque, Restaurants',\n",
       " 'Cafes, Soup, Sandwiches, Restaurants, Salad, American (New)',\n",
       " 'Venues & Event Spaces, Hotels & Travel, Resorts, Hotels, Event Planning & Services, Restaurants',\n",
       " 'Greek, Restaurants, Cajun/Creole, American (New)',\n",
       " 'Nightlife, Bars, Local Flavor, American (New), Tapas Bars, Restaurants, Seafood',\n",
       " 'Southern, Nightlife, American (New), Bars, Tex-Mex, Restaurants',\n",
       " 'Barbeque, Korean, Restaurants',\n",
       " 'Soul Food, Moroccan, Restaurants, Fish & Chips',\n",
       " 'Specialty Food, Restaurants, Food, Beer, Wine & Spirits, Burgers',\n",
       " 'Restaurants, Sandwiches, Delis, Hot Dogs',\n",
       " 'Salad, Food, Desserts, Restaurants, Italian',\n",
       " 'Latin American, Colombian, Vegetarian, Hot Dogs, Restaurants, Vegan',\n",
       " 'Food, Donuts, Restaurants, Ice Cream & Frozen Yogurt, Coffee & Tea',\n",
       " 'Restaurants, American (Traditional), Breakfast & Brunch',\n",
       " 'Food, Beer, Wine & Spirits, Restaurants',\n",
       " 'American (Traditional), Restaurants, Breakfast & Brunch, Burgers, American (New)',\n",
       " 'Hawaiian, Restaurants',\n",
       " 'Food, Food Delivery Services, Fast Food, Restaurants, Delis, Sandwiches',\n",
       " 'Food, Restaurants, Cafes, Coffee & Tea, Sandwiches',\n",
       " 'Pizza, Restaurants, Italian',\n",
       " 'Pizza, Restaurants, Chicken Wings, Sandwiches',\n",
       " 'Delis, Sandwiches, Vietnamese, Restaurants',\n",
       " 'Fast Food, Restaurants, Coffee & Tea, Burgers, Food',\n",
       " ...]"
      ]
     },
     "execution_count": 16,
     "metadata": {},
     "output_type": "execute_result"
    }
   ],
   "source": [
    "#looking at the cuisine types\n",
    "us_restaurants.categories.unique().tolist()"
   ]
  },
  {
   "cell_type": "code",
   "execution_count": 17,
   "metadata": {},
   "outputs": [
    {
     "name": "stderr",
     "output_type": "stream",
     "text": [
      "/Users/anaconda3/lib/python3.7/site-packages/ipykernel_launcher.py:2: SettingWithCopyWarning: \n",
      "A value is trying to be set on a copy of a slice from a DataFrame.\n",
      "Try using .loc[row_indexer,col_indexer] = value instead\n",
      "\n",
      "See the caveats in the documentation: http://pandas.pydata.org/pandas-docs/stable/indexing.html#indexing-view-versus-copy\n",
      "  \n"
     ]
    }
   ],
   "source": [
    "#selecting restaurants by cuisine types and rename the category\n",
    "us_restaurants['cuisine']= pd.Series()\n",
    "us_restaurants.loc[us_restaurants.categories.str.contains('American'),'cuisine'] = 'American'\n",
    "us_restaurants.loc[us_restaurants.categories.str.contains('Mexican'), 'cuisine'] = 'Mexican'\n",
    "us_restaurants.loc[us_restaurants.categories.str.contains('Italian'), 'cuisine'] = 'Italian'\n",
    "us_restaurants.loc[us_restaurants.categories.str.contains('Japanese'), 'cuisine'] = 'Japanese'\n",
    "us_restaurants.loc[us_restaurants.categories.str.contains('Chinese'), 'cuisine'] = 'Chinese'\n",
    "us_restaurants.loc[us_restaurants.categories.str.contains('Thai'), 'cuisine'] = 'Thai'\n",
    "us_restaurants.loc[us_restaurants.categories.str.contains('Mediterranean'), 'cuisine'] = 'Mediterranean'\n",
    "us_restaurants.loc[us_restaurants.categories.str.contains('French'), 'cuisine'] = 'French'\n",
    "us_restaurants.loc[us_restaurants.categories.str.contains('Vietnamese'), 'cuisine'] = 'Vietnamese'\n",
    "us_restaurants.loc[us_restaurants.categories.str.contains('Greek'),'cuisine'] = 'Greek'\n",
    "us_restaurants.loc[us_restaurants.categories.str.contains('Indian'),'cuisine'] = 'Indian'\n",
    "us_restaurants.loc[us_restaurants.categories.str.contains('Korean'),'cuisine'] = 'Korean'\n",
    "us_restaurants.loc[us_restaurants.categories.str.contains('Hawaiian'),'cuisine'] = 'Hawaiian'\n",
    "us_restaurants.loc[us_restaurants.categories.str.contains('African'),'cuisine'] = 'African'\n",
    "us_restaurants.loc[us_restaurants.categories.str.contains('Spanish'),'cuisine'] = 'Spanish'\n",
    "us_restaurants.loc[us_restaurants.categories.str.contains('Middle_eastern'),'cuisine'] = 'Middle_eastern'\n",
    "us_restaurants.loc[us_restaurants.categories.str.contains('Egyptian'),'cuisine'] = 'Egyptian'\n",
    "us_restaurants.loc[us_restaurants.categories.str.contains('Australian'),'cuisine'] = 'Australian'\n",
    "us_restaurants.loc[us_restaurants.categories.str.contains('Pakistani'),'cuisine'] = 'Pakistani'"
   ]
  },
  {
   "cell_type": "code",
   "execution_count": 18,
   "metadata": {},
   "outputs": [],
   "source": [
    "#drop Nas in cuisine category, delete unnecessary categories and reset the index\n",
    "us_restaurants = us_restaurants.dropna(axis=0, subset=['cuisine'])\n",
    "del us_restaurants['categories']\n",
    "us_restaurants = us_restaurants.reset_index(drop=True)"
   ]
  },
  {
   "cell_type": "code",
   "execution_count": 19,
   "metadata": {},
   "outputs": [
    {
     "data": {
      "text/plain": [
       "(22790, 14)"
      ]
     },
     "execution_count": 19,
     "metadata": {},
     "output_type": "execute_result"
    }
   ],
   "source": [
    "#check total number of us restaurants\n",
    "us_restaurants.shape"
   ]
  },
  {
   "cell_type": "code",
   "execution_count": 20,
   "metadata": {},
   "outputs": [
    {
     "data": {
      "text/plain": [
       "0"
      ]
     },
     "execution_count": 20,
     "metadata": {},
     "output_type": "execute_result"
    }
   ],
   "source": [
    "#check for duplicated business id\n",
    "us_restaurants.business_id.duplicated().sum()"
   ]
  },
  {
   "cell_type": "code",
   "execution_count": 21,
   "metadata": {},
   "outputs": [
    {
     "data": {
      "text/plain": [
       "address          object\n",
       "attributes       object\n",
       "business_id      object\n",
       "city             object\n",
       "hours            object\n",
       "is_open           int64\n",
       "latitude        float64\n",
       "longitude       float64\n",
       "name             object\n",
       "postal_code      object\n",
       "review_count      int64\n",
       "stars           float64\n",
       "state            object\n",
       "cuisine          object\n",
       "dtype: object"
      ]
     },
     "execution_count": 21,
     "metadata": {},
     "output_type": "execute_result"
    }
   ],
   "source": [
    "#check datatype of each category\n",
    "us_restaurants.dtypes"
   ]
  },
  {
   "cell_type": "code",
   "execution_count": 22,
   "metadata": {},
   "outputs": [
    {
     "data": {
      "text/plain": [
       "address            0\n",
       "attributes       223\n",
       "business_id        0\n",
       "city               0\n",
       "hours           3775\n",
       "is_open            0\n",
       "latitude           0\n",
       "longitude          0\n",
       "name               0\n",
       "postal_code        0\n",
       "review_count       0\n",
       "stars              0\n",
       "state              0\n",
       "cuisine            0\n",
       "dtype: int64"
      ]
     },
     "execution_count": 22,
     "metadata": {},
     "output_type": "execute_result"
    }
   ],
   "source": [
    "#check missing values\n",
    "us_restaurants.isnull().sum()"
   ]
  },
  {
   "cell_type": "markdown",
   "metadata": {},
   "source": [
    "### Clean review table"
   ]
  },
  {
   "cell_type": "code",
   "execution_count": 23,
   "metadata": {},
   "outputs": [],
   "source": [
    "#loading review table\n",
    "review = pd.read_csv('/Users/adriana/Desktop/yelp_dataset/yelp_review.csv')"
   ]
  },
  {
   "cell_type": "code",
   "execution_count": 269,
   "metadata": {},
   "outputs": [
    {
     "data": {
      "text/plain": [
       "(5261668, 9)"
      ]
     },
     "execution_count": 269,
     "metadata": {},
     "output_type": "execute_result"
    }
   ],
   "source": [
    "review.shape"
   ]
  },
  {
   "cell_type": "code",
   "execution_count": 24,
   "metadata": {},
   "outputs": [
    {
     "data": {
      "text/plain": [
       "review_id      0\n",
       "user_id        0\n",
       "business_id    0\n",
       "stars          0\n",
       "date           0\n",
       "text           0\n",
       "useful         0\n",
       "funny          0\n",
       "cool           0\n",
       "dtype: int64"
      ]
     },
     "execution_count": 24,
     "metadata": {},
     "output_type": "execute_result"
    }
   ],
   "source": [
    "#check missing values\n",
    "review.isnull().sum()"
   ]
  },
  {
   "cell_type": "code",
   "execution_count": 25,
   "metadata": {},
   "outputs": [
    {
     "data": {
      "text/plain": [
       "0"
      ]
     },
     "execution_count": 25,
     "metadata": {},
     "output_type": "execute_result"
    }
   ],
   "source": [
    "#check duplicates of ID\n",
    "review.review_id.duplicated().sum()"
   ]
  },
  {
   "cell_type": "markdown",
   "metadata": {},
   "source": [
    "### Merging two tables "
   ]
  },
  {
   "cell_type": "code",
   "execution_count": 26,
   "metadata": {},
   "outputs": [
    {
     "data": {
      "text/plain": [
       "Index(['address', 'attributes', 'business_id', 'city', 'hours', 'is_open',\n",
       "       'latitude', 'longitude', 'name', 'postal_code', 'review_count',\n",
       "       'stars_x', 'state', 'cuisine', 'review_id', 'user_id', 'stars_y',\n",
       "       'date', 'text', 'useful', 'funny', 'cool'],\n",
       "      dtype='object')"
      ]
     },
     "execution_count": 26,
     "metadata": {},
     "output_type": "execute_result"
    }
   ],
   "source": [
    "## merge business table and review table\n",
    "restaurants_reviews = pd.merge(us_restaurants, review, on = 'business_id')\n",
    "restaurants_reviews.columns"
   ]
  },
  {
   "cell_type": "code",
   "execution_count": 282,
   "metadata": {},
   "outputs": [],
   "source": [
    "## update column names\n",
    "restaurants_reviews.rename(columns={'stars_x':'average_star','stars_y':'review_star'}, inplace=True)"
   ]
  },
  {
   "cell_type": "code",
   "execution_count": 28,
   "metadata": {},
   "outputs": [
    {
     "data": {
      "text/html": [
       "<div>\n",
       "<style scoped>\n",
       "    .dataframe tbody tr th:only-of-type {\n",
       "        vertical-align: middle;\n",
       "    }\n",
       "\n",
       "    .dataframe tbody tr th {\n",
       "        vertical-align: top;\n",
       "    }\n",
       "\n",
       "    .dataframe thead th {\n",
       "        text-align: right;\n",
       "    }\n",
       "</style>\n",
       "<table border=\"1\" class=\"dataframe\">\n",
       "  <thead>\n",
       "    <tr style=\"text-align: right;\">\n",
       "      <th></th>\n",
       "      <th>address</th>\n",
       "      <th>attributes</th>\n",
       "      <th>business_id</th>\n",
       "      <th>city</th>\n",
       "      <th>hours</th>\n",
       "      <th>is_open</th>\n",
       "      <th>latitude</th>\n",
       "      <th>longitude</th>\n",
       "      <th>name</th>\n",
       "      <th>postal_code</th>\n",
       "      <th>...</th>\n",
       "      <th>review_id</th>\n",
       "      <th>user_id</th>\n",
       "      <th>review_star</th>\n",
       "      <th>date</th>\n",
       "      <th>text</th>\n",
       "      <th>useful</th>\n",
       "      <th>funny</th>\n",
       "      <th>cool</th>\n",
       "      <th>num_words_review</th>\n",
       "      <th>labels</th>\n",
       "    </tr>\n",
       "  </thead>\n",
       "  <tbody>\n",
       "    <tr>\n",
       "      <th>0</th>\n",
       "      <td>9595 W Tropicana Ave</td>\n",
       "      <td>{'Alcohol': 'u'none'', 'WiFi': 'u'no'', 'GoodF...</td>\n",
       "      <td>fnZrZlqW1Z8iWgTVDfv_MA</td>\n",
       "      <td>Las Vegas</td>\n",
       "      <td>None</td>\n",
       "      <td>0</td>\n",
       "      <td>36.0997</td>\n",
       "      <td>-115.3016</td>\n",
       "      <td>Carl's Jr</td>\n",
       "      <td>89147</td>\n",
       "      <td>...</td>\n",
       "      <td>i2Soid_X8XsSTyIrPOst6g</td>\n",
       "      <td>xammeA3ftpFoAN13v5Blyg</td>\n",
       "      <td>1</td>\n",
       "      <td>2015-04-02</td>\n",
       "      <td>WORST experience EVER!!!!! never have i ate an...</td>\n",
       "      <td>2</td>\n",
       "      <td>0</td>\n",
       "      <td>0</td>\n",
       "      <td>233</td>\n",
       "      <td>negative</td>\n",
       "    </tr>\n",
       "    <tr>\n",
       "      <th>1</th>\n",
       "      <td>9595 W Tropicana Ave</td>\n",
       "      <td>{'Alcohol': 'u'none'', 'WiFi': 'u'no'', 'GoodF...</td>\n",
       "      <td>fnZrZlqW1Z8iWgTVDfv_MA</td>\n",
       "      <td>Las Vegas</td>\n",
       "      <td>None</td>\n",
       "      <td>0</td>\n",
       "      <td>36.0997</td>\n",
       "      <td>-115.3016</td>\n",
       "      <td>Carl's Jr</td>\n",
       "      <td>89147</td>\n",
       "      <td>...</td>\n",
       "      <td>Xg7HuBvuZHTBog1G_2Wk0w</td>\n",
       "      <td>0PXhJMztE3ijzQPjiwPERg</td>\n",
       "      <td>3</td>\n",
       "      <td>2015-03-23</td>\n",
       "      <td>Beer battered cod fish seems really rubbery. I...</td>\n",
       "      <td>0</td>\n",
       "      <td>0</td>\n",
       "      <td>0</td>\n",
       "      <td>19</td>\n",
       "      <td>negative</td>\n",
       "    </tr>\n",
       "    <tr>\n",
       "      <th>2</th>\n",
       "      <td>9595 W Tropicana Ave</td>\n",
       "      <td>{'Alcohol': 'u'none'', 'WiFi': 'u'no'', 'GoodF...</td>\n",
       "      <td>fnZrZlqW1Z8iWgTVDfv_MA</td>\n",
       "      <td>Las Vegas</td>\n",
       "      <td>None</td>\n",
       "      <td>0</td>\n",
       "      <td>36.0997</td>\n",
       "      <td>-115.3016</td>\n",
       "      <td>Carl's Jr</td>\n",
       "      <td>89147</td>\n",
       "      <td>...</td>\n",
       "      <td>WUAt5-krh075Ie44np8Hew</td>\n",
       "      <td>YDkC5VVT8s9NlIZtAr8NUA</td>\n",
       "      <td>5</td>\n",
       "      <td>2010-11-27</td>\n",
       "      <td>So why would I be giving a Fast Food chain loc...</td>\n",
       "      <td>0</td>\n",
       "      <td>0</td>\n",
       "      <td>0</td>\n",
       "      <td>144</td>\n",
       "      <td>positive</td>\n",
       "    </tr>\n",
       "    <tr>\n",
       "      <th>3</th>\n",
       "      <td>9595 W Tropicana Ave</td>\n",
       "      <td>{'Alcohol': 'u'none'', 'WiFi': 'u'no'', 'GoodF...</td>\n",
       "      <td>fnZrZlqW1Z8iWgTVDfv_MA</td>\n",
       "      <td>Las Vegas</td>\n",
       "      <td>None</td>\n",
       "      <td>0</td>\n",
       "      <td>36.0997</td>\n",
       "      <td>-115.3016</td>\n",
       "      <td>Carl's Jr</td>\n",
       "      <td>89147</td>\n",
       "      <td>...</td>\n",
       "      <td>IH998Fi8vDa6In8oyYa3bA</td>\n",
       "      <td>77lef7kKkoOVupY-7AmieQ</td>\n",
       "      <td>4</td>\n",
       "      <td>2011-04-07</td>\n",
       "      <td>Customer service has been top notch on every v...</td>\n",
       "      <td>0</td>\n",
       "      <td>0</td>\n",
       "      <td>0</td>\n",
       "      <td>36</td>\n",
       "      <td>positive</td>\n",
       "    </tr>\n",
       "    <tr>\n",
       "      <th>4</th>\n",
       "      <td>9595 W Tropicana Ave</td>\n",
       "      <td>{'Alcohol': 'u'none'', 'WiFi': 'u'no'', 'GoodF...</td>\n",
       "      <td>fnZrZlqW1Z8iWgTVDfv_MA</td>\n",
       "      <td>Las Vegas</td>\n",
       "      <td>None</td>\n",
       "      <td>0</td>\n",
       "      <td>36.0997</td>\n",
       "      <td>-115.3016</td>\n",
       "      <td>Carl's Jr</td>\n",
       "      <td>89147</td>\n",
       "      <td>...</td>\n",
       "      <td>S9vIs-je49jqbhpWSQ8yHg</td>\n",
       "      <td>mxtalrN7VHVQwGjv8ln5yg</td>\n",
       "      <td>2</td>\n",
       "      <td>2016-03-19</td>\n",
       "      <td>I come here bout 3x's a mo. &amp; I just can't do ...</td>\n",
       "      <td>0</td>\n",
       "      <td>0</td>\n",
       "      <td>0</td>\n",
       "      <td>95</td>\n",
       "      <td>negative</td>\n",
       "    </tr>\n",
       "  </tbody>\n",
       "</table>\n",
       "<p>5 rows × 24 columns</p>\n",
       "</div>"
      ],
      "text/plain": [
       "                address                                         attributes  \\\n",
       "0  9595 W Tropicana Ave  {'Alcohol': 'u'none'', 'WiFi': 'u'no'', 'GoodF...   \n",
       "1  9595 W Tropicana Ave  {'Alcohol': 'u'none'', 'WiFi': 'u'no'', 'GoodF...   \n",
       "2  9595 W Tropicana Ave  {'Alcohol': 'u'none'', 'WiFi': 'u'no'', 'GoodF...   \n",
       "3  9595 W Tropicana Ave  {'Alcohol': 'u'none'', 'WiFi': 'u'no'', 'GoodF...   \n",
       "4  9595 W Tropicana Ave  {'Alcohol': 'u'none'', 'WiFi': 'u'no'', 'GoodF...   \n",
       "\n",
       "              business_id       city hours  is_open  latitude  longitude  \\\n",
       "0  fnZrZlqW1Z8iWgTVDfv_MA  Las Vegas  None        0   36.0997  -115.3016   \n",
       "1  fnZrZlqW1Z8iWgTVDfv_MA  Las Vegas  None        0   36.0997  -115.3016   \n",
       "2  fnZrZlqW1Z8iWgTVDfv_MA  Las Vegas  None        0   36.0997  -115.3016   \n",
       "3  fnZrZlqW1Z8iWgTVDfv_MA  Las Vegas  None        0   36.0997  -115.3016   \n",
       "4  fnZrZlqW1Z8iWgTVDfv_MA  Las Vegas  None        0   36.0997  -115.3016   \n",
       "\n",
       "        name postal_code  ...               review_id                 user_id  \\\n",
       "0  Carl's Jr       89147  ...  i2Soid_X8XsSTyIrPOst6g  xammeA3ftpFoAN13v5Blyg   \n",
       "1  Carl's Jr       89147  ...  Xg7HuBvuZHTBog1G_2Wk0w  0PXhJMztE3ijzQPjiwPERg   \n",
       "2  Carl's Jr       89147  ...  WUAt5-krh075Ie44np8Hew  YDkC5VVT8s9NlIZtAr8NUA   \n",
       "3  Carl's Jr       89147  ...  IH998Fi8vDa6In8oyYa3bA  77lef7kKkoOVupY-7AmieQ   \n",
       "4  Carl's Jr       89147  ...  S9vIs-je49jqbhpWSQ8yHg  mxtalrN7VHVQwGjv8ln5yg   \n",
       "\n",
       "  review_star        date                                               text  \\\n",
       "0           1  2015-04-02  WORST experience EVER!!!!! never have i ate an...   \n",
       "1           3  2015-03-23  Beer battered cod fish seems really rubbery. I...   \n",
       "2           5  2010-11-27  So why would I be giving a Fast Food chain loc...   \n",
       "3           4  2011-04-07  Customer service has been top notch on every v...   \n",
       "4           2  2016-03-19  I come here bout 3x's a mo. & I just can't do ...   \n",
       "\n",
       "  useful  funny cool num_words_review    labels  \n",
       "0      2      0    0              233  negative  \n",
       "1      0      0    0               19  negative  \n",
       "2      0      0    0              144  positive  \n",
       "3      0      0    0               36  positive  \n",
       "4      0      0    0               95  negative  \n",
       "\n",
       "[5 rows x 24 columns]"
      ]
     },
     "execution_count": 28,
     "metadata": {},
     "output_type": "execute_result"
    }
   ],
   "source": [
    "#label reviews as positive or negative\n",
    "restaurants_reviews['labels'] = ''\n",
    "restaurants_reviews.loc[restaurants_reviews.review_star >3, 'labels'] = 'positive'\n",
    "restaurants_reviews.loc[restaurants_reviews.review_star <=3, 'labels'] = 'negative'"
   ]
  },
  {
   "cell_type": "markdown",
   "metadata": {},
   "source": [
    "## Explanatory Statistics"
   ]
  },
  {
   "cell_type": "markdown",
   "metadata": {},
   "source": [
    "### Restaurant distribution by State"
   ]
  },
  {
   "cell_type": "code",
   "execution_count": 283,
   "metadata": {},
   "outputs": [
    {
     "data": {
      "image/png": "[encoded data removed]",
      "text/plain": [
       "<Figure size 792x432 with 1 Axes>"
      ]
     },
     "metadata": {
      "needs_background": "light"
     },
     "output_type": "display_data"
    }
   ],
   "source": [
    "plt.figure(figsize=(11,6))\n",
    "grouped = us_restaurants.state.value_counts()\n",
    "sns.barplot(grouped.index, grouped.values, palette=sns.color_palette(\"rocket\", len(grouped)))\n",
    "plt.ylabel('Number of restaurants', fontsize=14)\n",
    "plt.xlabel('State', fontsize=14)\n",
    "plt.title('Count of Restaurants by State', fontsize=15)\n",
    "plt.tick_params(labelsize=14)\n",
    "for  i, v in enumerate(grouped):\n",
    "    plt.text(i, v*1.02, str(v), horizontalalignment ='center', fontweight='bold', fontsize=14)"
   ]
  },
  {
   "cell_type": "markdown",
   "metadata": {},
   "source": [
    "### Distribution of restaurants by cuisine type"
   ]
  },
  {
   "cell_type": "code",
   "execution_count": 284,
   "metadata": {},
   "outputs": [
    {
     "data": {
      "image/png": "[encoded data removed]",
      "text/plain": [
       "<Figure size 792x504 with 1 Axes>"
      ]
     },
     "metadata": {
      "needs_background": "light"
     },
     "output_type": "display_data"
    }
   ],
   "source": [
    "plt.figure(figsize=(11,7))\n",
    "grouped = us_restaurants.cuisine.value_counts()\n",
    "sns.countplot(y='cuisine',data=us_restaurants,order = grouped.index, palette=sns.color_palette(\"rocket\", len(grouped)))\n",
    "plt.xlabel('Number of restaurants', fontsize=14, labelpad=10)\n",
    "plt.ylabel('Cuisine', fontsize=14)\n",
    "plt.title('Count of Restaurants by Cuisine Type', fontsize=15)\n",
    "plt.tick_params(labelsize=14)\n",
    "for  x, y in enumerate(us_restaurants.cuisine.value_counts()):\n",
    "    plt.text(y, x+0.15, str(y),  fontsize=14)"
   ]
  },
  {
   "cell_type": "markdown",
   "metadata": {},
   "source": [
    "### Number of Restaurants against Restaurant Ratings by Users"
   ]
  },
  {
   "cell_type": "code",
   "execution_count": 295,
   "metadata": {},
   "outputs": [
    {
     "data": {
      "image/png": "[encoded data removed]",
      "text/plain": [
       "<Figure size 792x432 with 1 Axes>"
      ]
     },
     "metadata": {
      "needs_background": "light"
     },
     "output_type": "display_data"
    }
   ],
   "source": [
    "plt.figure(figsize=(11,6))\n",
    "grouped = us_restaurants.stars.value_counts().sort_index()\n",
    "sns.barplot(grouped.index, grouped.values, palette=sns.color_palette(\"rocket\", len(grouped)))\n",
    "plt.xlabel('Restaurant Ratings', labelpad=10, fontsize=14)\n",
    "plt.ylabel('Number of Restaurants', fontsize=14)\n",
    "plt.title('Number of Restaurants against Restaurant Ratings by Users', fontsize=15)\n",
    "plt.tick_params(labelsize=14)\n",
    "for  i, v in enumerate(grouped):\n",
    "    plt.text(i, v*1.02, str(v), horizontalalignment ='center',fontweight='bold', fontsize=14)"
   ]
  },
  {
   "cell_type": "markdown",
   "metadata": {},
   "source": [
    "### Count of Reviews against Review Rating"
   ]
  },
  {
   "cell_type": "code",
   "execution_count": 293,
   "metadata": {},
   "outputs": [
    {
     "data": {
      "image/png": "[encoded data removed]",
      "text/plain": [
       "<Figure size 792x504 with 1 Axes>"
      ]
     },
     "metadata": {
      "needs_background": "light"
     },
     "output_type": "display_data"
    }
   ],
   "source": [
    "plt.figure(figsize=(11,7))\n",
    "grouped = restaurants_reviews.review_star.value_counts().sort_index()\n",
    "sns.barplot(grouped.index, grouped.values, palette=sns.color_palette(\"rocket\", len(grouped)))\n",
    "plt.xlabel('Review Ratings', labelpad=10, fontsize=14)\n",
    "plt.ylabel('Number of Reviews', fontsize=14)\n",
    "plt.title('Number of Reviews against Review Ratings', fontsize=15)\n",
    "plt.tick_params(labelsize=14)\n",
    "for  i, v in enumerate(grouped):\n",
    "    plt.text(i, v*1.02, str(v), horizontalalignment ='center',fontweight='bold', fontsize=14)"
   ]
  },
  {
   "cell_type": "markdown",
   "metadata": {},
   "source": [
    "## Text Analysis"
   ]
  },
  {
   "cell_type": "code",
   "execution_count": 46,
   "metadata": {},
   "outputs": [],
   "source": [
    "## import positive and negative words file\n",
    "#positive_words = pd.read_csv('positive.txt')\n",
    "#negative_words = pd.read_csv('negative.txt', encoding='latin-1')\n",
    "#positive_words = list(positive_words)\n",
    "#negative_words = list(negative_words)"
   ]
  },
  {
   "cell_type": "code",
   "execution_count": 35,
   "metadata": {},
   "outputs": [],
   "source": [
    "#import positive words file\n",
    "file_positive = open('positive.txt')\n",
    "reader =csv.reader(file_positive)\n",
    "positive_words = [word[0] for word in reader]\n",
    "\n",
    "#import negative words file\n",
    "file_negative = open('negative.txt', encoding='latin-1')\n",
    "reader =csv.reader(file_negative)\n",
    "negative_words = [word[0] for word in reader]"
   ]
  },
  {
   "cell_type": "code",
   "execution_count": 36,
   "metadata": {},
   "outputs": [],
   "source": [
    "#convert text to lower case\n",
    "restaurants_reviews.text = restaurants_reviews.text.str.lower()\n",
    "\n",
    "#remove unnecessary punctuation\n",
    "restaurants_reviews['removed_punct_text']= restaurants_reviews.text.str.replace('\\n',''). \\\n",
    "                                          str.replace('[!\"#$%&\\()*+,-./:;<=>?@[\\\\]^_`{|}~]','')"
   ]
  },
  {
   "cell_type": "code",
   "execution_count": 37,
   "metadata": {},
   "outputs": [],
   "source": [
    "#get dataset by cuisine type\n",
    "def get_dataset(cuisine):\n",
    "    df = restaurants_reviews[['removed_punct_text','labels']][restaurants_reviews.cuisine==cuisine]\n",
    "    df.reset_index(drop=True, inplace =True)\n",
    "    df.rename(columns={'removed_punct_text':'text'}, inplace=True)\n",
    "    return df\n",
    "\n",
    "#only keep positive and negative words\n",
    "def filter_words(review):\n",
    "    tokens = [word for word in review.split() if word in positive_words + negative_words]\n",
    "    filtered_tokens = []\n",
    "    for token in tokens:\n",
    "        if re.search('[a-zA-Z]', token):\n",
    "            filtered_tokens.append(token)\n",
    "    return filtered_tokens"
   ]
  },
  {
   "cell_type": "markdown",
   "metadata": {},
   "source": [
    "### American Restaurants"
   ]
  },
  {
   "cell_type": "code",
   "execution_count": 38,
   "metadata": {},
   "outputs": [],
   "source": [
    "American_reviews = get_dataset('American')"
   ]
  },
  {
   "cell_type": "code",
   "execution_count": 39,
   "metadata": {},
   "outputs": [],
   "source": [
    "American_X_train, American_X_test, American_y_train, American_y_test = \\\n",
    "train_test_split(American_reviews.text, American_reviews.labels, test_size=0.33, random_state=42)"
   ]
  },
  {
   "cell_type": "code",
   "execution_count": 40,
   "metadata": {},
   "outputs": [
    {
     "name": "stdout",
     "output_type": "stream",
     "text": [
      "Total 524229 number of reviews\n"
     ]
    }
   ],
   "source": [
    "print('Total %d number of reviews' % American_X_train.shape[0])"
   ]
  },
  {
   "cell_type": "code",
   "execution_count": 41,
   "metadata": {},
   "outputs": [],
   "source": [
    "#filter words\n",
    "American_X_train = American_X_train.apply(filter_words)"
   ]
  },
  {
   "cell_type": "code",
   "execution_count": 42,
   "metadata": {},
   "outputs": [],
   "source": [
    "#convert list to string in the dataframe\n",
    "American_X_train = [' '.join(i) if isinstance(i, list) else i for i in American_X_train]"
   ]
  },
  {
   "cell_type": "code",
   "execution_count": 43,
   "metadata": {},
   "outputs": [
    {
     "data": {
      "text/plain": [
       "(524229, 5401)"
      ]
     },
     "execution_count": 43,
     "metadata": {},
     "output_type": "execute_result"
    }
   ],
   "source": [
    "#get bag of words\n",
    "vectorizer = CountVectorizer()\n",
    "American_feature_train = vectorizer.fit_transform(American_X_train)\n",
    "American_feature_train.shape"
   ]
  },
  {
   "cell_type": "code",
   "execution_count": null,
   "metadata": {},
   "outputs": [],
   "source": [
    "## run model\n",
    "#from sklearn.svm import SVC \n",
    "#svm = SVC(kernel='linear')\n",
    "#svm.fit(American_feature_train, American_y_train)"
   ]
  },
  {
   "cell_type": "code",
   "execution_count": 44,
   "metadata": {},
   "outputs": [
    {
     "name": "stderr",
     "output_type": "stream",
     "text": [
      "/Users/anaconda3/lib/python3.7/site-packages/sklearn/svm/base.py:929: ConvergenceWarning: Liblinear failed to converge, increase the number of iterations.\n",
      "  \"the number of iterations.\", ConvergenceWarning)\n"
     ]
    },
    {
     "data": {
      "text/plain": [
       "LinearSVC(C=1.0, class_weight=None, dual=True, fit_intercept=True,\n",
       "          intercept_scaling=1, loss='squared_hinge', max_iter=1000,\n",
       "          multi_class='ovr', penalty='l2', random_state=None, tol=0.0001,\n",
       "          verbose=0)"
      ]
     },
     "execution_count": 44,
     "metadata": {},
     "output_type": "execute_result"
    }
   ],
   "source": [
    "#run support vector classifier\n",
    "svm = LinearSVC()\n",
    "#fit the training data to the model\n",
    "svm.fit(American_feature_train, American_y_train)"
   ]
  },
  {
   "cell_type": "code",
   "execution_count": 45,
   "metadata": {},
   "outputs": [],
   "source": [
    "#create dataframe for score of each word\n",
    "coeff = svm.coef_[0]\n",
    "American_words_score = pd.DataFrame({'score': coeff, 'word': vectorizer.get_feature_names()})"
   ]
  },
  {
   "cell_type": "code",
   "execution_count": 47,
   "metadata": {},
   "outputs": [],
   "source": [
    "#get frequency of each word in all reviews for specific category\n",
    "American_reviews = pd.DataFrame(American_feature_train.toarray(), columns=vectorizer.get_feature_names())\n",
    "American_reviews['labels'] = American_y_train\n",
    "American_frequency = American_reviews[American_reviews['labels']=='positive'].sum()[:-1]"
   ]
  },
  {
   "cell_type": "code",
   "execution_count": 48,
   "metadata": {},
   "outputs": [],
   "source": [
    "American_words_score.set_index('word', inplace=True)"
   ]
  },
  {
   "cell_type": "code",
   "execution_count": 49,
   "metadata": {},
   "outputs": [],
   "source": [
    "American_polarity_score = American_words_score\n",
    "American_polarity_score['frequency'] = American_frequency"
   ]
  },
  {
   "cell_type": "code",
   "execution_count": 50,
   "metadata": {},
   "outputs": [],
   "source": [
    "American_polarity_score['polarity'] = American_polarity_score.score * \\\n",
    "                                        American_polarity_score.frequency / American_reviews.shape[0]"
   ]
  },
  {
   "cell_type": "code",
   "execution_count": 51,
   "metadata": {},
   "outputs": [],
   "source": [
    "#drop meaningless words\n",
    "unuseful_positive_words = American_polarity_score.loc[['great','amazing','love','best','awesome','excellent',\\\n",
    "                                                     'good','favorite','loved','perfect','gem','perfectly',\\\n",
    "                                                     'wonderful','happy','enjoyed','nice','well','super',\\\n",
    "                                                     'like','better','decent','fine','pretty','enough',\\\n",
    "                                                     'excited','impressed','ready','fantastic','glad','right']]\n",
    "unuseful_negative_words = American_polarity_score.loc[['bad','disappointed','unfortunately','disappointing',\\\n",
    "                                                      'horrible','lacking','terrible','sorry', 'disappoint']]\n",
    "\n",
    "unnecessary_words = unuseful_positive_words + unuseful_negative_words\n",
    "American_polarity_score.drop(unnecessary_words.index, axis=0, inplace=True)"
   ]
  },
  {
   "cell_type": "code",
   "execution_count": 52,
   "metadata": {},
   "outputs": [],
   "source": [
    "American_polarity_score.polarity = American_polarity_score.polarity.astype(float)\n",
    "American_polarity_score.frequency = American_polarity_score.frequency.astype(float)"
   ]
  },
  {
   "cell_type": "code",
   "execution_count": 57,
   "metadata": {},
   "outputs": [
    {
     "data": {
      "text/html": [
       "<div>\n",
       "<style scoped>\n",
       "    .dataframe tbody tr th:only-of-type {\n",
       "        vertical-align: middle;\n",
       "    }\n",
       "\n",
       "    .dataframe tbody tr th {\n",
       "        vertical-align: top;\n",
       "    }\n",
       "\n",
       "    .dataframe thead th {\n",
       "        text-align: right;\n",
       "    }\n",
       "</style>\n",
       "<table border=\"1\" class=\"dataframe\">\n",
       "  <thead>\n",
       "    <tr style=\"text-align: right;\">\n",
       "      <th></th>\n",
       "      <th>score</th>\n",
       "      <th>frequency</th>\n",
       "      <th>polarity</th>\n",
       "    </tr>\n",
       "    <tr>\n",
       "      <th>word</th>\n",
       "      <th></th>\n",
       "      <th></th>\n",
       "      <th></th>\n",
       "    </tr>\n",
       "  </thead>\n",
       "  <tbody>\n",
       "    <tr>\n",
       "      <th>delicious</th>\n",
       "      <td>0.3245</td>\n",
       "      <td>37548.0000</td>\n",
       "      <td>0.0232</td>\n",
       "    </tr>\n",
       "    <tr>\n",
       "      <th>friendly</th>\n",
       "      <td>0.1444</td>\n",
       "      <td>32224.0000</td>\n",
       "      <td>0.0089</td>\n",
       "    </tr>\n",
       "    <tr>\n",
       "      <th>recommend</th>\n",
       "      <td>0.1753</td>\n",
       "      <td>18562.0000</td>\n",
       "      <td>0.0062</td>\n",
       "    </tr>\n",
       "    <tr>\n",
       "      <th>fresh</th>\n",
       "      <td>0.1102</td>\n",
       "      <td>20533.0000</td>\n",
       "      <td>0.0043</td>\n",
       "    </tr>\n",
       "    <tr>\n",
       "      <th>fun</th>\n",
       "      <td>0.1258</td>\n",
       "      <td>12146.0000</td>\n",
       "      <td>0.0029</td>\n",
       "    </tr>\n",
       "    <tr>\n",
       "      <th>incredible</th>\n",
       "      <td>0.3803</td>\n",
       "      <td>3405.0000</td>\n",
       "      <td>0.0025</td>\n",
       "    </tr>\n",
       "    <tr>\n",
       "      <th>perfection</th>\n",
       "      <td>0.4037</td>\n",
       "      <td>3206.0000</td>\n",
       "      <td>0.0025</td>\n",
       "    </tr>\n",
       "    <tr>\n",
       "      <th>outstanding</th>\n",
       "      <td>0.2685</td>\n",
       "      <td>4189.0000</td>\n",
       "      <td>0.0021</td>\n",
       "    </tr>\n",
       "    <tr>\n",
       "      <th>fast</th>\n",
       "      <td>0.1185</td>\n",
       "      <td>9200.0000</td>\n",
       "      <td>0.0021</td>\n",
       "    </tr>\n",
       "    <tr>\n",
       "      <th>die</th>\n",
       "      <td>0.2969</td>\n",
       "      <td>3380.0000</td>\n",
       "      <td>0.0019</td>\n",
       "    </tr>\n",
       "    <tr>\n",
       "      <th>attentive</th>\n",
       "      <td>0.0877</td>\n",
       "      <td>10832.0000</td>\n",
       "      <td>0.0018</td>\n",
       "    </tr>\n",
       "  </tbody>\n",
       "</table>\n",
       "</div>"
      ],
      "text/plain": [
       "             score  frequency  polarity\n",
       "word                                   \n",
       "delicious   0.3245 37548.0000    0.0232\n",
       "friendly    0.1444 32224.0000    0.0089\n",
       "recommend   0.1753 18562.0000    0.0062\n",
       "fresh       0.1102 20533.0000    0.0043\n",
       "fun         0.1258 12146.0000    0.0029\n",
       "incredible  0.3803  3405.0000    0.0025\n",
       "perfection  0.4037  3206.0000    0.0025\n",
       "outstanding 0.2685  4189.0000    0.0021\n",
       "fast        0.1185  9200.0000    0.0021\n",
       "die         0.2969  3380.0000    0.0019\n",
       "attentive   0.0877 10832.0000    0.0018"
      ]
     },
     "execution_count": 57,
     "metadata": {},
     "output_type": "execute_result"
    }
   ],
   "source": [
    "American_polarity_score[American_polarity_score.polarity>0].sort_values('polarity', ascending=False)[:11]"
   ]
  },
  {
   "cell_type": "code",
   "execution_count": 302,
   "metadata": {},
   "outputs": [
    {
     "data": {
      "text/html": [
       "<div>\n",
       "<style scoped>\n",
       "    .dataframe tbody tr th:only-of-type {\n",
       "        vertical-align: middle;\n",
       "    }\n",
       "\n",
       "    .dataframe tbody tr th {\n",
       "        vertical-align: top;\n",
       "    }\n",
       "\n",
       "    .dataframe thead th {\n",
       "        text-align: right;\n",
       "    }\n",
       "</style>\n",
       "<table border=\"1\" class=\"dataframe\">\n",
       "  <thead>\n",
       "    <tr style=\"text-align: right;\">\n",
       "      <th></th>\n",
       "      <th>score</th>\n",
       "      <th>frequency</th>\n",
       "      <th>polarity</th>\n",
       "    </tr>\n",
       "    <tr>\n",
       "      <th>word</th>\n",
       "      <th></th>\n",
       "      <th></th>\n",
       "      <th></th>\n",
       "    </tr>\n",
       "  </thead>\n",
       "  <tbody>\n",
       "    <tr>\n",
       "      <th>worst</th>\n",
       "      <td>-0.7679</td>\n",
       "      <td>5121.0000</td>\n",
       "      <td>-0.0075</td>\n",
       "    </tr>\n",
       "    <tr>\n",
       "      <th>bland</th>\n",
       "      <td>-0.5891</td>\n",
       "      <td>5058.0000</td>\n",
       "      <td>-0.0057</td>\n",
       "    </tr>\n",
       "    <tr>\n",
       "      <th>mediocre</th>\n",
       "      <td>-0.7649</td>\n",
       "      <td>3838.0000</td>\n",
       "      <td>-0.0056</td>\n",
       "    </tr>\n",
       "    <tr>\n",
       "      <th>slow</th>\n",
       "      <td>-0.3608</td>\n",
       "      <td>8109.0000</td>\n",
       "      <td>-0.0056</td>\n",
       "    </tr>\n",
       "    <tr>\n",
       "      <th>cold</th>\n",
       "      <td>-0.2651</td>\n",
       "      <td>10758.0000</td>\n",
       "      <td>-0.0054</td>\n",
       "    </tr>\n",
       "    <tr>\n",
       "      <th>rude</th>\n",
       "      <td>-0.5611</td>\n",
       "      <td>4415.0000</td>\n",
       "      <td>-0.0047</td>\n",
       "    </tr>\n",
       "    <tr>\n",
       "      <th>poor</th>\n",
       "      <td>-0.5707</td>\n",
       "      <td>3979.0000</td>\n",
       "      <td>-0.0043</td>\n",
       "    </tr>\n",
       "    <tr>\n",
       "      <th>overpriced</th>\n",
       "      <td>-0.5240</td>\n",
       "      <td>3781.0000</td>\n",
       "      <td>-0.0038</td>\n",
       "    </tr>\n",
       "    <tr>\n",
       "      <th>awful</th>\n",
       "      <td>-0.6339</td>\n",
       "      <td>2950.0000</td>\n",
       "      <td>-0.0036</td>\n",
       "    </tr>\n",
       "    <tr>\n",
       "      <th>hard</th>\n",
       "      <td>-0.1230</td>\n",
       "      <td>9988.0000</td>\n",
       "      <td>-0.0023</td>\n",
       "    </tr>\n",
       "  </tbody>\n",
       "</table>\n",
       "</div>"
      ],
      "text/plain": [
       "             score  frequency  polarity\n",
       "word                                   \n",
       "worst      -0.7679  5121.0000   -0.0075\n",
       "bland      -0.5891  5058.0000   -0.0057\n",
       "mediocre   -0.7649  3838.0000   -0.0056\n",
       "slow       -0.3608  8109.0000   -0.0056\n",
       "cold       -0.2651 10758.0000   -0.0054\n",
       "rude       -0.5611  4415.0000   -0.0047\n",
       "poor       -0.5707  3979.0000   -0.0043\n",
       "overpriced -0.5240  3781.0000   -0.0038\n",
       "awful      -0.6339  2950.0000   -0.0036\n",
       "hard       -0.1230  9988.0000   -0.0023"
      ]
     },
     "execution_count": 302,
     "metadata": {},
     "output_type": "execute_result"
    }
   ],
   "source": [
    "American_polarity_score[American_polarity_score.polarity<0].sort_values('polarity')[:10]"
   ]
  },
  {
   "cell_type": "code",
   "execution_count": 58,
   "metadata": {},
   "outputs": [],
   "source": [
    "American_top_positive_words = ['delicious','friendly','recommend','fresh','fun',\\\n",
    "                             'incredible','perfection','outstanding','fast','attentive']\n",
    "American_top_negative_words = ['worst','bland','slow','rude','hard', 'cold',\\\n",
    "                             'awful','overpriced','poor','mediocre']\n",
    "American_top_words = American_polarity_score.loc[American_top_positive_words + American_top_negative_words,'polarity']"
   ]
  },
  {
   "cell_type": "code",
   "execution_count": 150,
   "metadata": {},
   "outputs": [
    {
     "data": {
      "text/plain": [
       "(array([-0.01 , -0.005,  0.   ,  0.005,  0.01 ,  0.015,  0.02 ,  0.025]),\n",
       " <a list of 8 Text xticklabel objects>)"
      ]
     },
     "execution_count": 150,
     "metadata": {},
     "output_type": "execute_result"
    },
    {
     "data": {
      "image/png": "[encoded data removed]",
      "text/plain": [
       "<Figure size 792x432 with 1 Axes>"
      ]
     },
     "metadata": {
      "needs_background": "light"
     },
     "output_type": "display_data"
    }
   ],
   "source": [
    "plt.figure(figsize=(11,6))\n",
    "colors = ['red' if c < 0 else 'green' for c in American_top_words.values]\n",
    "sns.barplot(y=American_top_words.index, x=American_top_words.values, palette=colors)\n",
    "plt.xlabel('Polarity Score', labelpad=10, fontsize=14)\n",
    "plt.ylabel('Words', fontsize=14)\n",
    "plt.title('Top 10 Positive and Negative Words in American Restaurants', fontsize=15)\n",
    "plt.tick_params(labelsize=14)\n",
    "plt.xticks(rotation=15)"
   ]
  },
  {
   "cell_type": "markdown",
   "metadata": {},
   "source": [
    "## Mexican Restaurants "
   ]
  },
  {
   "cell_type": "code",
   "execution_count": 67,
   "metadata": {},
   "outputs": [],
   "source": [
    "Mexican_reviews = get_dataset('Mexican')\n",
    "Mexican_X_train, Mexican_X_test, Mexican_y_train, Mexican_y_test = \\\n",
    "train_test_split(Mexican_reviews.text, Mexican_reviews.labels, test_size=0.33, random_state=42)"
   ]
  },
  {
   "cell_type": "code",
   "execution_count": 68,
   "metadata": {},
   "outputs": [
    {
     "name": "stdout",
     "output_type": "stream",
     "text": [
      "Total 179129 number of reviews\n"
     ]
    }
   ],
   "source": [
    "print('Total %d number of reviews' % Mexican_X_train.shape[0])"
   ]
  },
  {
   "cell_type": "code",
   "execution_count": 70,
   "metadata": {},
   "outputs": [],
   "source": [
    "#filter words\n",
    "Mexican_X_train = Mexican_X_train.apply(filter_words)"
   ]
  },
  {
   "cell_type": "code",
   "execution_count": 71,
   "metadata": {},
   "outputs": [],
   "source": [
    "#convert list to string in the dataframe\n",
    "Mexican_X_train = [' '.join(i) if isinstance(i, list) else i for i in Mexican_X_train]"
   ]
  },
  {
   "cell_type": "code",
   "execution_count": 72,
   "metadata": {},
   "outputs": [
    {
     "data": {
      "text/plain": [
       "(179129, 4581)"
      ]
     },
     "execution_count": 72,
     "metadata": {},
     "output_type": "execute_result"
    }
   ],
   "source": [
    "#get bag of words\n",
    "vectorizer = CountVectorizer()\n",
    "Mexican_feature_train = vectorizer.fit_transform(Mexican_X_train)\n",
    "Mexican_feature_train.shape"
   ]
  },
  {
   "cell_type": "code",
   "execution_count": 73,
   "metadata": {},
   "outputs": [
    {
     "name": "stderr",
     "output_type": "stream",
     "text": [
      "/Users/anaconda3/lib/python3.7/site-packages/sklearn/svm/base.py:929: ConvergenceWarning: Liblinear failed to converge, increase the number of iterations.\n",
      "  \"the number of iterations.\", ConvergenceWarning)\n"
     ]
    },
    {
     "data": {
      "text/plain": [
       "LinearSVC(C=1.0, class_weight=None, dual=True, fit_intercept=True,\n",
       "          intercept_scaling=1, loss='squared_hinge', max_iter=1000,\n",
       "          multi_class='ovr', penalty='l2', random_state=None, tol=0.0001,\n",
       "          verbose=0)"
      ]
     },
     "execution_count": 73,
     "metadata": {},
     "output_type": "execute_result"
    }
   ],
   "source": [
    "#run svc model\n",
    "svm = LinearSVC()\n",
    "#Fit the training data to the model\n",
    "svm.fit(Mexican_feature_train, Mexican_y_train)"
   ]
  },
  {
   "cell_type": "code",
   "execution_count": 74,
   "metadata": {},
   "outputs": [],
   "source": [
    "#create dataframe for score of each word\n",
    "coeff = svm.coef_[0]\n",
    "Mexican_words_score = pd.DataFrame({'score': coeff, 'word': vectorizer.get_feature_names()})"
   ]
  },
  {
   "cell_type": "code",
   "execution_count": 75,
   "metadata": {},
   "outputs": [],
   "source": [
    "#get frequency of each word in all reviews for specific category\n",
    "Mexican_reviews = pd.DataFrame(Mexican_feature_train.toarray(), columns=vectorizer.get_feature_names())\n",
    "Mexican_reviews['labels'] = Mexican_y_train\n",
    "Mexican_frequency = Mexican_reviews[Mexican_reviews['labels']=='positive'].sum()[:-1]"
   ]
  },
  {
   "cell_type": "code",
   "execution_count": 76,
   "metadata": {},
   "outputs": [],
   "source": [
    "Mexican_words_score.set_index('word', inplace=True)"
   ]
  },
  {
   "cell_type": "code",
   "execution_count": 77,
   "metadata": {},
   "outputs": [],
   "source": [
    "Mexican_polarity_score = Mexican_words_score\n",
    "Mexican_polarity_score['frequency'] = Mexican_frequency"
   ]
  },
  {
   "cell_type": "code",
   "execution_count": 78,
   "metadata": {},
   "outputs": [],
   "source": [
    "Mexican_polarity_score['polarity'] = Mexican_polarity_score.score * \\\n",
    "                                        Mexican_polarity_score.frequency / Mexican_reviews.shape[0]"
   ]
  },
  {
   "cell_type": "code",
   "execution_count": 79,
   "metadata": {},
   "outputs": [],
   "source": [
    "#drop meaningless words\n",
    "unuseful_positive_words = Mexican_polarity_score.loc[['great','amazing','love','best','awesome','excellent',\\\n",
    "                                                     'good','favorite','loved','perfect','gem','perfectly',\\\n",
    "                                                     'wonderful','happy','enjoyed','nice','well','super',\\\n",
    "                                                     'like','better','decent','fine','pretty','enough',\\\n",
    "                                                     'excited','impressed','ready','fantastic','glad','right']]\n",
    "unuseful_negative_words = Mexican_polarity_score.loc[['bad','disappointed','unfortunately','disappointing',\\\n",
    "                                                      'horrible','lacking','terrible','sorry', 'disappoint']]\n",
    "\n",
    "unnecessary_words = unuseful_positive_words + unuseful_negative_words\n",
    "Mexican_polarity_score.drop(unnecessary_words.index, axis=0, inplace=True)"
   ]
  },
  {
   "cell_type": "code",
   "execution_count": 80,
   "metadata": {},
   "outputs": [],
   "source": [
    "Mexican_polarity_score.polarity = Mexican_polarity_score.polarity.astype(float)\n",
    "Mexican_polarity_score.frequency = Mexican_polarity_score.frequency.astype(float)"
   ]
  },
  {
   "cell_type": "code",
   "execution_count": 81,
   "metadata": {},
   "outputs": [
    {
     "data": {
      "text/html": [
       "<div>\n",
       "<style scoped>\n",
       "    .dataframe tbody tr th:only-of-type {\n",
       "        vertical-align: middle;\n",
       "    }\n",
       "\n",
       "    .dataframe tbody tr th {\n",
       "        vertical-align: top;\n",
       "    }\n",
       "\n",
       "    .dataframe thead th {\n",
       "        text-align: right;\n",
       "    }\n",
       "</style>\n",
       "<table border=\"1\" class=\"dataframe\">\n",
       "  <thead>\n",
       "    <tr style=\"text-align: right;\">\n",
       "      <th></th>\n",
       "      <th>score</th>\n",
       "      <th>frequency</th>\n",
       "      <th>polarity</th>\n",
       "    </tr>\n",
       "    <tr>\n",
       "      <th>word</th>\n",
       "      <th></th>\n",
       "      <th></th>\n",
       "      <th></th>\n",
       "    </tr>\n",
       "  </thead>\n",
       "  <tbody>\n",
       "    <tr>\n",
       "      <th>delicious</th>\n",
       "      <td>0.3980</td>\n",
       "      <td>12238.0000</td>\n",
       "      <td>0.0272</td>\n",
       "    </tr>\n",
       "    <tr>\n",
       "      <th>friendly</th>\n",
       "      <td>0.1712</td>\n",
       "      <td>9878.0000</td>\n",
       "      <td>0.0094</td>\n",
       "    </tr>\n",
       "    <tr>\n",
       "      <th>fresh</th>\n",
       "      <td>0.1585</td>\n",
       "      <td>10097.0000</td>\n",
       "      <td>0.0089</td>\n",
       "    </tr>\n",
       "    <tr>\n",
       "      <th>recommend</th>\n",
       "      <td>0.1665</td>\n",
       "      <td>5969.0000</td>\n",
       "      <td>0.0055</td>\n",
       "    </tr>\n",
       "    <tr>\n",
       "      <th>authentic</th>\n",
       "      <td>0.1362</td>\n",
       "      <td>5193.0000</td>\n",
       "      <td>0.0039</td>\n",
       "    </tr>\n",
       "    <tr>\n",
       "      <th>fast</th>\n",
       "      <td>0.1072</td>\n",
       "      <td>4944.0000</td>\n",
       "      <td>0.0030</td>\n",
       "    </tr>\n",
       "    <tr>\n",
       "      <th>clean</th>\n",
       "      <td>0.1252</td>\n",
       "      <td>3800.0000</td>\n",
       "      <td>0.0027</td>\n",
       "    </tr>\n",
       "    <tr>\n",
       "      <th>incredible</th>\n",
       "      <td>0.4637</td>\n",
       "      <td>962.0000</td>\n",
       "      <td>0.0025</td>\n",
       "    </tr>\n",
       "    <tr>\n",
       "      <th>bomb</th>\n",
       "      <td>0.4433</td>\n",
       "      <td>892.0000</td>\n",
       "      <td>0.0022</td>\n",
       "    </tr>\n",
       "    <tr>\n",
       "      <th>die</th>\n",
       "      <td>0.4203</td>\n",
       "      <td>909.0000</td>\n",
       "      <td>0.0021</td>\n",
       "    </tr>\n",
       "    <tr>\n",
       "      <th>outstanding</th>\n",
       "      <td>0.3331</td>\n",
       "      <td>1089.0000</td>\n",
       "      <td>0.0020</td>\n",
       "    </tr>\n",
       "  </tbody>\n",
       "</table>\n",
       "</div>"
      ],
      "text/plain": [
       "             score  frequency  polarity\n",
       "word                                   \n",
       "delicious   0.3980 12238.0000    0.0272\n",
       "friendly    0.1712  9878.0000    0.0094\n",
       "fresh       0.1585 10097.0000    0.0089\n",
       "recommend   0.1665  5969.0000    0.0055\n",
       "authentic   0.1362  5193.0000    0.0039\n",
       "fast        0.1072  4944.0000    0.0030\n",
       "clean       0.1252  3800.0000    0.0027\n",
       "incredible  0.4637   962.0000    0.0025\n",
       "bomb        0.4433   892.0000    0.0022\n",
       "die         0.4203   909.0000    0.0021\n",
       "outstanding 0.3331  1089.0000    0.0020"
      ]
     },
     "execution_count": 81,
     "metadata": {},
     "output_type": "execute_result"
    }
   ],
   "source": [
    "Mexican_polarity_score[Mexican_polarity_score.polarity>0].sort_values('polarity', ascending=False)[:11]"
   ]
  },
  {
   "cell_type": "code",
   "execution_count": 82,
   "metadata": {},
   "outputs": [
    {
     "data": {
      "text/html": [
       "<div>\n",
       "<style scoped>\n",
       "    .dataframe tbody tr th:only-of-type {\n",
       "        vertical-align: middle;\n",
       "    }\n",
       "\n",
       "    .dataframe tbody tr th {\n",
       "        vertical-align: top;\n",
       "    }\n",
       "\n",
       "    .dataframe thead th {\n",
       "        text-align: right;\n",
       "    }\n",
       "</style>\n",
       "<table border=\"1\" class=\"dataframe\">\n",
       "  <thead>\n",
       "    <tr style=\"text-align: right;\">\n",
       "      <th></th>\n",
       "      <th>score</th>\n",
       "      <th>frequency</th>\n",
       "      <th>polarity</th>\n",
       "    </tr>\n",
       "    <tr>\n",
       "      <th>word</th>\n",
       "      <th></th>\n",
       "      <th></th>\n",
       "      <th></th>\n",
       "    </tr>\n",
       "  </thead>\n",
       "  <tbody>\n",
       "    <tr>\n",
       "      <th>bland</th>\n",
       "      <td>-0.6537</td>\n",
       "      <td>2847.0000</td>\n",
       "      <td>-0.0104</td>\n",
       "    </tr>\n",
       "    <tr>\n",
       "      <th>worst</th>\n",
       "      <td>-0.8342</td>\n",
       "      <td>1960.0000</td>\n",
       "      <td>-0.0091</td>\n",
       "    </tr>\n",
       "    <tr>\n",
       "      <th>rude</th>\n",
       "      <td>-0.6190</td>\n",
       "      <td>1627.0000</td>\n",
       "      <td>-0.0056</td>\n",
       "    </tr>\n",
       "    <tr>\n",
       "      <th>mediocre</th>\n",
       "      <td>-0.8141</td>\n",
       "      <td>1140.0000</td>\n",
       "      <td>-0.0052</td>\n",
       "    </tr>\n",
       "    <tr>\n",
       "      <th>cold</th>\n",
       "      <td>-0.3567</td>\n",
       "      <td>2513.0000</td>\n",
       "      <td>-0.0050</td>\n",
       "    </tr>\n",
       "    <tr>\n",
       "      <th>slow</th>\n",
       "      <td>-0.3439</td>\n",
       "      <td>2468.0000</td>\n",
       "      <td>-0.0047</td>\n",
       "    </tr>\n",
       "    <tr>\n",
       "      <th>poor</th>\n",
       "      <td>-0.5651</td>\n",
       "      <td>1153.0000</td>\n",
       "      <td>-0.0036</td>\n",
       "    </tr>\n",
       "    <tr>\n",
       "      <th>overpriced</th>\n",
       "      <td>-0.5744</td>\n",
       "      <td>1086.0000</td>\n",
       "      <td>-0.0035</td>\n",
       "    </tr>\n",
       "    <tr>\n",
       "      <th>awful</th>\n",
       "      <td>-0.6084</td>\n",
       "      <td>1021.0000</td>\n",
       "      <td>-0.0035</td>\n",
       "    </tr>\n",
       "    <tr>\n",
       "      <th>disgusting</th>\n",
       "      <td>-0.7714</td>\n",
       "      <td>637.0000</td>\n",
       "      <td>-0.0027</td>\n",
       "    </tr>\n",
       "  </tbody>\n",
       "</table>\n",
       "</div>"
      ],
      "text/plain": [
       "             score  frequency  polarity\n",
       "word                                   \n",
       "bland      -0.6537  2847.0000   -0.0104\n",
       "worst      -0.8342  1960.0000   -0.0091\n",
       "rude       -0.6190  1627.0000   -0.0056\n",
       "mediocre   -0.8141  1140.0000   -0.0052\n",
       "cold       -0.3567  2513.0000   -0.0050\n",
       "slow       -0.3439  2468.0000   -0.0047\n",
       "poor       -0.5651  1153.0000   -0.0036\n",
       "overpriced -0.5744  1086.0000   -0.0035\n",
       "awful      -0.6084  1021.0000   -0.0035\n",
       "disgusting -0.7714   637.0000   -0.0027"
      ]
     },
     "execution_count": 82,
     "metadata": {},
     "output_type": "execute_result"
    }
   ],
   "source": [
    "Mexican_polarity_score[Mexican_polarity_score.polarity<0].sort_values('polarity')[:10]"
   ]
  },
  {
   "cell_type": "code",
   "execution_count": 84,
   "metadata": {},
   "outputs": [],
   "source": [
    "Mexican_top_positive_words = ['delicious','fresh','recommend','authentic','fast','clean',\\\n",
    "                             'incredible','bomb','outstanding','friendly']\n",
    "Mexican_top_negative_words = ['bland','worst','rude','mediocre','cold', 'slow',\\\n",
    "                             'poor','overpriced','awful','disgusting']\n",
    "Mexican_top_words = Mexican_polarity_score.loc[Mexican_top_positive_words + Mexican_top_negative_words,'polarity']"
   ]
  },
  {
   "cell_type": "code",
   "execution_count": 149,
   "metadata": {},
   "outputs": [
    {
     "data": {
      "text/plain": [
       "(array([-0.015, -0.01 , -0.005,  0.   ,  0.005,  0.01 ,  0.015,  0.02 ,\n",
       "         0.025,  0.03 ]), <a list of 10 Text xticklabel objects>)"
      ]
     },
     "execution_count": 149,
     "metadata": {},
     "output_type": "execute_result"
    },
    {
     "data": {
      "image/png": "[encoded data removed]",
      "text/plain": [
       "<Figure size 792x432 with 1 Axes>"
      ]
     },
     "metadata": {
      "needs_background": "light"
     },
     "output_type": "display_data"
    }
   ],
   "source": [
    "plt.figure(figsize=(11,6))\n",
    "colors = ['red' if c < 0 else 'green' for c in Mexican_top_words.values]\n",
    "sns.barplot(y=Mexican_top_words.index, x=Mexican_top_words.values, palette=colors)\n",
    "plt.xlabel('Polarity Score', labelpad=10, fontsize=14)\n",
    "plt.ylabel('Words', fontsize=14)\n",
    "plt.title('Top 10 Positive and Negative Words in Mexican Restaurants', fontsize=15)\n",
    "plt.tick_params(labelsize=14)\n",
    "plt.xticks(rotation=15)"
   ]
  },
  {
   "cell_type": "markdown",
   "metadata": {},
   "source": [
    "## Italian Restaurants "
   ]
  },
  {
   "cell_type": "code",
   "execution_count": 86,
   "metadata": {},
   "outputs": [
    {
     "name": "stdout",
     "output_type": "stream",
     "text": [
      "Total 160650 number of reviews\n"
     ]
    }
   ],
   "source": [
    "Italian_reviews = get_dataset('Italian')\n",
    "Italian_X_train, Italian_X_test, Italian_y_train, Italian_y_test = \\\n",
    "train_test_split(Italian_reviews.text, Italian_reviews.labels, test_size=0.33, random_state=42)\n",
    "print('Total %d number of reviews' % Italian_X_train.shape[0])"
   ]
  },
  {
   "cell_type": "code",
   "execution_count": 87,
   "metadata": {},
   "outputs": [],
   "source": [
    "## filter words\n",
    "Italian_X_train = Italian_X_train.apply(filter_words)"
   ]
  },
  {
   "cell_type": "code",
   "execution_count": 88,
   "metadata": {},
   "outputs": [],
   "source": [
    "#convert list to string in the dataframe\n",
    "Italian_X_train = [' '.join(i) if isinstance(i, list) else i for i in Italian_X_train]"
   ]
  },
  {
   "cell_type": "code",
   "execution_count": 130,
   "metadata": {},
   "outputs": [
    {
     "data": {
      "text/plain": [
       "(160650, 4643)"
      ]
     },
     "execution_count": 130,
     "metadata": {},
     "output_type": "execute_result"
    }
   ],
   "source": [
    "# get bag of words \n",
    "vectorizer = CountVectorizer()\n",
    "Italian_feature_train = vectorizer.fit_transform(Italian_X_train)\n",
    "Italian_feature_train.shape"
   ]
  },
  {
   "cell_type": "code",
   "execution_count": 131,
   "metadata": {},
   "outputs": [
    {
     "name": "stderr",
     "output_type": "stream",
     "text": [
      "/Users/anaconda3/lib/python3.7/site-packages/sklearn/svm/base.py:929: ConvergenceWarning: Liblinear failed to converge, increase the number of iterations.\n",
      "  \"the number of iterations.\", ConvergenceWarning)\n"
     ]
    },
    {
     "data": {
      "text/plain": [
       "LinearSVC(C=1.0, class_weight=None, dual=True, fit_intercept=True,\n",
       "          intercept_scaling=1, loss='squared_hinge', max_iter=1000,\n",
       "          multi_class='ovr', penalty='l2', random_state=None, tol=0.0001,\n",
       "          verbose=0)"
      ]
     },
     "execution_count": 131,
     "metadata": {},
     "output_type": "execute_result"
    }
   ],
   "source": [
    "# run svm model\n",
    "svm = LinearSVC()\n",
    "#Fit the training data to the model\n",
    "svm.fit(Italian_feature_train, Italian_y_train)"
   ]
  },
  {
   "cell_type": "code",
   "execution_count": 132,
   "metadata": {},
   "outputs": [],
   "source": [
    "#create dataframe for score of each word\n",
    "coeff = svm.coef_[0]\n",
    "Italian_words_score = pd.DataFrame({'score': coeff, 'word': vectorizer.get_feature_names()})"
   ]
  },
  {
   "cell_type": "code",
   "execution_count": 133,
   "metadata": {},
   "outputs": [],
   "source": [
    "#get frequency of each word in all reviews for specific category\n",
    "Italian_reviews = pd.DataFrame(Italian_feature_train.toarray(), columns=vectorizer.get_feature_names())\n",
    "Italian_reviews['labels'] = Italian_y_train\n",
    "Italian_frequency = Italian_reviews[Italian_reviews['labels']=='positive'].sum()[:-1]"
   ]
  },
  {
   "cell_type": "code",
   "execution_count": 134,
   "metadata": {},
   "outputs": [],
   "source": [
    "Italian_words_score.set_index('word', inplace=True)\n",
    "Italian_polarity_score = Italian_words_score\n",
    "Italian_polarity_score['frequency'] = Italian_frequency"
   ]
  },
  {
   "cell_type": "code",
   "execution_count": 135,
   "metadata": {},
   "outputs": [],
   "source": [
    "Italian_polarity_score['polarity'] = Italian_polarity_score.score * \\\n",
    "                                        Italian_polarity_score.frequency / Italian_reviews.shape[0]"
   ]
  },
  {
   "cell_type": "code",
   "execution_count": 136,
   "metadata": {},
   "outputs": [],
   "source": [
    "#drop meaningless words\n",
    "unuseful_positive_words = Italian_polarity_score.loc[['great','amazing','love','best','awesome','excellent',\\\n",
    "                                                     'good','favorite','loved','perfect','gem','perfectly',\\\n",
    "                                                     'wonderful','happy','enjoyed','nice','well','super',\\\n",
    "                                                     'like','better','decent','fine','pretty','enough',\\\n",
    "                                                     'excited','impressed','ready','fantastic','glad','right']]\n",
    "unuseful_negative_words = Italian_polarity_score.loc[['bad','disappointed','unfortunately','disappointing',\\\n",
    "                                                      'horrible','lacking','terrible','sorry', 'disappoint']]\n",
    "\n",
    "unnecessary_words = unuseful_positive_words + unuseful_negative_words\n",
    "Italian_polarity_score.drop(unnecessary_words.index, axis=0, inplace=True)"
   ]
  },
  {
   "cell_type": "code",
   "execution_count": 137,
   "metadata": {},
   "outputs": [],
   "source": [
    "Italian_polarity_score.polarity = Italian_polarity_score.polarity.astype(float)\n",
    "Italian_polarity_score.frequency = Italian_polarity_score.frequency.astype(float)"
   ]
  },
  {
   "cell_type": "code",
   "execution_count": 142,
   "metadata": {},
   "outputs": [
    {
     "data": {
      "text/html": [
       "<div>\n",
       "<style scoped>\n",
       "    .dataframe tbody tr th:only-of-type {\n",
       "        vertical-align: middle;\n",
       "    }\n",
       "\n",
       "    .dataframe tbody tr th {\n",
       "        vertical-align: top;\n",
       "    }\n",
       "\n",
       "    .dataframe thead th {\n",
       "        text-align: right;\n",
       "    }\n",
       "</style>\n",
       "<table border=\"1\" class=\"dataframe\">\n",
       "  <thead>\n",
       "    <tr style=\"text-align: right;\">\n",
       "      <th></th>\n",
       "      <th>score</th>\n",
       "      <th>frequency</th>\n",
       "      <th>polarity</th>\n",
       "    </tr>\n",
       "    <tr>\n",
       "      <th>word</th>\n",
       "      <th></th>\n",
       "      <th></th>\n",
       "      <th></th>\n",
       "    </tr>\n",
       "  </thead>\n",
       "  <tbody>\n",
       "    <tr>\n",
       "      <th>delicious</th>\n",
       "      <td>0.3396</td>\n",
       "      <td>13496.0000</td>\n",
       "      <td>0.0285</td>\n",
       "    </tr>\n",
       "    <tr>\n",
       "      <th>friendly</th>\n",
       "      <td>0.1425</td>\n",
       "      <td>9132.0000</td>\n",
       "      <td>0.0081</td>\n",
       "    </tr>\n",
       "    <tr>\n",
       "      <th>recommend</th>\n",
       "      <td>0.1858</td>\n",
       "      <td>6460.0000</td>\n",
       "      <td>0.0075</td>\n",
       "    </tr>\n",
       "    <tr>\n",
       "      <th>fresh</th>\n",
       "      <td>0.1178</td>\n",
       "      <td>9363.0000</td>\n",
       "      <td>0.0069</td>\n",
       "    </tr>\n",
       "    <tr>\n",
       "      <th>incredible</th>\n",
       "      <td>0.3392</td>\n",
       "      <td>1309.0000</td>\n",
       "      <td>0.0028</td>\n",
       "    </tr>\n",
       "    <tr>\n",
       "      <th>authentic</th>\n",
       "      <td>0.2143</td>\n",
       "      <td>2071.0000</td>\n",
       "      <td>0.0028</td>\n",
       "    </tr>\n",
       "    <tr>\n",
       "      <th>outstanding</th>\n",
       "      <td>0.2577</td>\n",
       "      <td>1664.0000</td>\n",
       "      <td>0.0027</td>\n",
       "    </tr>\n",
       "    <tr>\n",
       "      <th>die</th>\n",
       "      <td>0.3183</td>\n",
       "      <td>1344.0000</td>\n",
       "      <td>0.0027</td>\n",
       "    </tr>\n",
       "    <tr>\n",
       "      <th>perfection</th>\n",
       "      <td>0.4227</td>\n",
       "      <td>1004.0000</td>\n",
       "      <td>0.0026</td>\n",
       "    </tr>\n",
       "    <tr>\n",
       "      <th>thank</th>\n",
       "      <td>0.2362</td>\n",
       "      <td>1707.0000</td>\n",
       "      <td>0.0025</td>\n",
       "    </tr>\n",
       "    <tr>\n",
       "      <th>reasonable</th>\n",
       "      <td>0.1811</td>\n",
       "      <td>1815.0000</td>\n",
       "      <td>0.0020</td>\n",
       "    </tr>\n",
       "    <tr>\n",
       "      <th>fabulous</th>\n",
       "      <td>0.2913</td>\n",
       "      <td>1102.0000</td>\n",
       "      <td>0.0020</td>\n",
       "    </tr>\n",
       "  </tbody>\n",
       "</table>\n",
       "</div>"
      ],
      "text/plain": [
       "             score  frequency  polarity\n",
       "word                                   \n",
       "delicious   0.3396 13496.0000    0.0285\n",
       "friendly    0.1425  9132.0000    0.0081\n",
       "recommend   0.1858  6460.0000    0.0075\n",
       "fresh       0.1178  9363.0000    0.0069\n",
       "incredible  0.3392  1309.0000    0.0028\n",
       "authentic   0.2143  2071.0000    0.0028\n",
       "outstanding 0.2577  1664.0000    0.0027\n",
       "die         0.3183  1344.0000    0.0027\n",
       "perfection  0.4227  1004.0000    0.0026\n",
       "thank       0.2362  1707.0000    0.0025\n",
       "reasonable  0.1811  1815.0000    0.0020\n",
       "fabulous    0.2913  1102.0000    0.0020"
      ]
     },
     "execution_count": 142,
     "metadata": {},
     "output_type": "execute_result"
    }
   ],
   "source": [
    "Italian_polarity_score[Italian_polarity_score.polarity>0].sort_values('polarity', ascending=False)[:12]"
   ]
  },
  {
   "cell_type": "code",
   "execution_count": 303,
   "metadata": {},
   "outputs": [
    {
     "data": {
      "text/html": [
       "<div>\n",
       "<style scoped>\n",
       "    .dataframe tbody tr th:only-of-type {\n",
       "        vertical-align: middle;\n",
       "    }\n",
       "\n",
       "    .dataframe tbody tr th {\n",
       "        vertical-align: top;\n",
       "    }\n",
       "\n",
       "    .dataframe thead th {\n",
       "        text-align: right;\n",
       "    }\n",
       "</style>\n",
       "<table border=\"1\" class=\"dataframe\">\n",
       "  <thead>\n",
       "    <tr style=\"text-align: right;\">\n",
       "      <th></th>\n",
       "      <th>score</th>\n",
       "      <th>frequency</th>\n",
       "      <th>polarity</th>\n",
       "    </tr>\n",
       "    <tr>\n",
       "      <th>word</th>\n",
       "      <th></th>\n",
       "      <th></th>\n",
       "      <th></th>\n",
       "    </tr>\n",
       "  </thead>\n",
       "  <tbody>\n",
       "    <tr>\n",
       "      <th>worst</th>\n",
       "      <td>-0.8471</td>\n",
       "      <td>1675.0000</td>\n",
       "      <td>-0.0088</td>\n",
       "    </tr>\n",
       "    <tr>\n",
       "      <th>bland</th>\n",
       "      <td>-0.6741</td>\n",
       "      <td>2025.0000</td>\n",
       "      <td>-0.0085</td>\n",
       "    </tr>\n",
       "    <tr>\n",
       "      <th>mediocre</th>\n",
       "      <td>-0.8153</td>\n",
       "      <td>1234.0000</td>\n",
       "      <td>-0.0063</td>\n",
       "    </tr>\n",
       "    <tr>\n",
       "      <th>cold</th>\n",
       "      <td>-0.3068</td>\n",
       "      <td>2868.0000</td>\n",
       "      <td>-0.0055</td>\n",
       "    </tr>\n",
       "    <tr>\n",
       "      <th>rude</th>\n",
       "      <td>-0.5405</td>\n",
       "      <td>1581.0000</td>\n",
       "      <td>-0.0053</td>\n",
       "    </tr>\n",
       "    <tr>\n",
       "      <th>awful</th>\n",
       "      <td>-0.7870</td>\n",
       "      <td>879.0000</td>\n",
       "      <td>-0.0043</td>\n",
       "    </tr>\n",
       "    <tr>\n",
       "      <th>overpriced</th>\n",
       "      <td>-0.5651</td>\n",
       "      <td>1220.0000</td>\n",
       "      <td>-0.0043</td>\n",
       "    </tr>\n",
       "    <tr>\n",
       "      <th>slow</th>\n",
       "      <td>-0.3464</td>\n",
       "      <td>1983.0000</td>\n",
       "      <td>-0.0043</td>\n",
       "    </tr>\n",
       "    <tr>\n",
       "      <th>poor</th>\n",
       "      <td>-0.5092</td>\n",
       "      <td>1254.0000</td>\n",
       "      <td>-0.0040</td>\n",
       "    </tr>\n",
       "    <tr>\n",
       "      <th>wrong</th>\n",
       "      <td>-0.1520</td>\n",
       "      <td>2826.0000</td>\n",
       "      <td>-0.0027</td>\n",
       "    </tr>\n",
       "  </tbody>\n",
       "</table>\n",
       "</div>"
      ],
      "text/plain": [
       "             score  frequency  polarity\n",
       "word                                   \n",
       "worst      -0.8471  1675.0000   -0.0088\n",
       "bland      -0.6741  2025.0000   -0.0085\n",
       "mediocre   -0.8153  1234.0000   -0.0063\n",
       "cold       -0.3068  2868.0000   -0.0055\n",
       "rude       -0.5405  1581.0000   -0.0053\n",
       "awful      -0.7870   879.0000   -0.0043\n",
       "overpriced -0.5651  1220.0000   -0.0043\n",
       "slow       -0.3464  1983.0000   -0.0043\n",
       "poor       -0.5092  1254.0000   -0.0040\n",
       "wrong      -0.1520  2826.0000   -0.0027"
      ]
     },
     "execution_count": 303,
     "metadata": {},
     "output_type": "execute_result"
    }
   ],
   "source": [
    "Italian_polarity_score[Italian_polarity_score.polarity<0].sort_values('polarity')[:10]"
   ]
  },
  {
   "cell_type": "code",
   "execution_count": 304,
   "metadata": {},
   "outputs": [],
   "source": [
    "Italian_top_positive_words = ['delicious','fresh','recommend','authentic','perfection',\\\n",
    "                             'incredible','reasonable','outstanding','friendly', 'fabulous']\n",
    "Italian_top_negative_words = ['bland','worst','rude','mediocre','cold', 'slow',\\\n",
    "                             'poor','overpriced','awful','wrong']\n",
    "Italian_top_words = Italian_polarity_score.loc[Italian_top_positive_words + Italian_top_negative_words,'polarity']"
   ]
  },
  {
   "cell_type": "code",
   "execution_count": 305,
   "metadata": {},
   "outputs": [
    {
     "data": {
      "text/plain": [
       "(array([-0.015, -0.01 , -0.005,  0.   ,  0.005,  0.01 ,  0.015,  0.02 ,\n",
       "         0.025,  0.03 ,  0.035]), <a list of 11 Text xticklabel objects>)"
      ]
     },
     "execution_count": 305,
     "metadata": {},
     "output_type": "execute_result"
    },
    {
     "data": {
      "image/png": "[encoded data removed]",
      "text/plain": [
       "<Figure size 792x432 with 1 Axes>"
      ]
     },
     "metadata": {
      "needs_background": "light"
     },
     "output_type": "display_data"
    }
   ],
   "source": [
    "plt.figure(figsize=(11,6))\n",
    "colors = ['red' if c < 0 else 'green' for c in Italian_top_words.values]\n",
    "sns.barplot(y=Italian_top_words.index, x=Italian_top_words.values, palette=colors)\n",
    "plt.xlabel('Polarity Score', labelpad=10, fontsize=14)\n",
    "plt.ylabel('Words', fontsize=14)\n",
    "plt.title('Top 10 Positive and Negative Words in Italian Restaurants', fontsize=15)\n",
    "plt.tick_params(labelsize=14)\n",
    "plt.xticks(rotation=15)"
   ]
  },
  {
   "cell_type": "markdown",
   "metadata": {},
   "source": [
    "## Chinese Restaurant"
   ]
  },
  {
   "cell_type": "code",
   "execution_count": 92,
   "metadata": {},
   "outputs": [
    {
     "name": "stdout",
     "output_type": "stream",
     "text": [
      "Total 78911 number of reviews\n"
     ]
    }
   ],
   "source": [
    "Chinese_reviews = get_dataset('Chinese')\n",
    "Chinese_X_train, Chinese_X_test, Chinese_y_train, Chinese_y_test = \\\n",
    "train_test_split(Chinese_reviews.text, Chinese_reviews.labels, test_size=0.33, random_state=42)\n",
    "print('Total %d number of reviews' % Chinese_X_train.shape[0])"
   ]
  },
  {
   "cell_type": "code",
   "execution_count": 93,
   "metadata": {},
   "outputs": [],
   "source": [
    "# filter words\n",
    "Chinese_X_train = Chinese_X_train.apply(filter_words)"
   ]
  },
  {
   "cell_type": "code",
   "execution_count": 94,
   "metadata": {},
   "outputs": [],
   "source": [
    "#convert list to string in the dataframe\n",
    "Chinese_X_train = [' '.join(i) if isinstance(i, list) else i for i in Chinese_X_train]"
   ]
  },
  {
   "cell_type": "code",
   "execution_count": 95,
   "metadata": {},
   "outputs": [
    {
     "data": {
      "text/plain": [
       "(78911, 4087)"
      ]
     },
     "execution_count": 95,
     "metadata": {},
     "output_type": "execute_result"
    }
   ],
   "source": [
    "#get bag of words : the frequencies of various words appeared in each review\n",
    "vectorizer = CountVectorizer()\n",
    "Chinese_feature_train = vectorizer.fit_transform(Chinese_X_train)\n",
    "Chinese_feature_train.shape"
   ]
  },
  {
   "cell_type": "code",
   "execution_count": 117,
   "metadata": {},
   "outputs": [
    {
     "data": {
      "text/plain": [
       "LinearSVC(C=1.0, class_weight=None, dual=True, fit_intercept=True,\n",
       "          intercept_scaling=1, loss='squared_hinge', max_iter=1000,\n",
       "          multi_class='ovr', penalty='l2', random_state=None, tol=0.0001,\n",
       "          verbose=0)"
      ]
     },
     "execution_count": 117,
     "metadata": {},
     "output_type": "execute_result"
    }
   ],
   "source": [
    "# run svm model\n",
    "svm_CHN = LinearSVC()\n",
    "svm_CHN.fit(Chinese_feature_train, Chinese_y_train)"
   ]
  },
  {
   "cell_type": "code",
   "execution_count": 118,
   "metadata": {},
   "outputs": [],
   "source": [
    "# create dataframe for score of each word\n",
    "coeff = svm_CHN.coef_[0]\n",
    "Chinese_words_score = pd.DataFrame({'score': coeff, 'word': vectorizer.get_feature_names()})"
   ]
  },
  {
   "cell_type": "code",
   "execution_count": 119,
   "metadata": {},
   "outputs": [],
   "source": [
    "# get frequency of each word in all reviews for specific category\n",
    "Chinese_reviews = pd.DataFrame(Chinese_feature_train.toarray(), columns=vectorizer.get_feature_names())\n",
    "Chinese_reviews['labels'] = Chinese_y_train\n",
    "Chinese_frequency = Chinese_reviews[Chinese_reviews['labels']=='positive'].sum()[:-1]"
   ]
  },
  {
   "cell_type": "code",
   "execution_count": 120,
   "metadata": {},
   "outputs": [],
   "source": [
    "Chinese_words_score.set_index('word', inplace=True)\n",
    "Chinese_polarity_score = Chinese_words_score\n",
    "Chinese_polarity_score['frequency'] = Chinese_frequency"
   ]
  },
  {
   "cell_type": "code",
   "execution_count": 121,
   "metadata": {},
   "outputs": [],
   "source": [
    "Chinese_polarity_score['polarity'] = Chinese_polarity_score.score * \\\n",
    "                                        Chinese_polarity_score.frequency / Chinese_reviews.shape[0]"
   ]
  },
  {
   "cell_type": "code",
   "execution_count": 123,
   "metadata": {},
   "outputs": [],
   "source": [
    "# drop meaningless words\n",
    "unuseful_positive_words = Chinese_polarity_score.loc[['great','amazing','love','best','awesome','excellent',\\\n",
    "                                                     'good','favorite','loved','perfect','gem','perfectly',\\\n",
    "                                                     'wonderful','happy','enjoyed','nice','well','super',\\\n",
    "                                                     'like','better','decent','fine','pretty','enough',\\\n",
    "                                                     'excited','impressed','ready','fantastic','glad','right']]\n",
    "unuseful_negative_words = Chinese_polarity_score.loc[['bad','disappointed','unfortunately','disappointing',\\\n",
    "                                                      'horrible','lacking','terrible','sorry', 'disappoint']]\n",
    "\n",
    "unnecessary_words = unuseful_positive_words + unuseful_negative_words\n",
    "Chinese_polarity_score.drop(unnecessary_words.index, axis=0, inplace=True)"
   ]
  },
  {
   "cell_type": "code",
   "execution_count": 124,
   "metadata": {},
   "outputs": [],
   "source": [
    "Chinese_polarity_score.polarity = Chinese_polarity_score.polarity.astype(float)\n",
    "Chinese_polarity_score.frequency = Chinese_polarity_score.frequency.astype(float)"
   ]
  },
  {
   "cell_type": "code",
   "execution_count": 125,
   "metadata": {},
   "outputs": [
    {
     "data": {
      "text/html": [
       "<div>\n",
       "<style scoped>\n",
       "    .dataframe tbody tr th:only-of-type {\n",
       "        vertical-align: middle;\n",
       "    }\n",
       "\n",
       "    .dataframe tbody tr th {\n",
       "        vertical-align: top;\n",
       "    }\n",
       "\n",
       "    .dataframe thead th {\n",
       "        text-align: right;\n",
       "    }\n",
       "</style>\n",
       "<table border=\"1\" class=\"dataframe\">\n",
       "  <thead>\n",
       "    <tr style=\"text-align: right;\">\n",
       "      <th></th>\n",
       "      <th>score</th>\n",
       "      <th>frequency</th>\n",
       "      <th>polarity</th>\n",
       "    </tr>\n",
       "    <tr>\n",
       "      <th>word</th>\n",
       "      <th></th>\n",
       "      <th></th>\n",
       "      <th></th>\n",
       "    </tr>\n",
       "  </thead>\n",
       "  <tbody>\n",
       "    <tr>\n",
       "      <th>delicious</th>\n",
       "      <td>0.4054</td>\n",
       "      <td>4217.0000</td>\n",
       "      <td>0.0217</td>\n",
       "    </tr>\n",
       "    <tr>\n",
       "      <th>fresh</th>\n",
       "      <td>0.1751</td>\n",
       "      <td>4092.0000</td>\n",
       "      <td>0.0091</td>\n",
       "    </tr>\n",
       "    <tr>\n",
       "      <th>friendly</th>\n",
       "      <td>0.1915</td>\n",
       "      <td>3588.0000</td>\n",
       "      <td>0.0087</td>\n",
       "    </tr>\n",
       "    <tr>\n",
       "      <th>recommend</th>\n",
       "      <td>0.1763</td>\n",
       "      <td>2620.0000</td>\n",
       "      <td>0.0059</td>\n",
       "    </tr>\n",
       "    <tr>\n",
       "      <th>authentic</th>\n",
       "      <td>0.2170</td>\n",
       "      <td>1987.0000</td>\n",
       "      <td>0.0055</td>\n",
       "    </tr>\n",
       "    <tr>\n",
       "      <th>hot</th>\n",
       "      <td>0.0779</td>\n",
       "      <td>4642.0000</td>\n",
       "      <td>0.0046</td>\n",
       "    </tr>\n",
       "    <tr>\n",
       "      <th>reasonable</th>\n",
       "      <td>0.2405</td>\n",
       "      <td>969.0000</td>\n",
       "      <td>0.0030</td>\n",
       "    </tr>\n",
       "    <tr>\n",
       "      <th>clean</th>\n",
       "      <td>0.1010</td>\n",
       "      <td>2146.0000</td>\n",
       "      <td>0.0027</td>\n",
       "    </tr>\n",
       "    <tr>\n",
       "      <th>fast</th>\n",
       "      <td>0.0942</td>\n",
       "      <td>2294.0000</td>\n",
       "      <td>0.0027</td>\n",
       "    </tr>\n",
       "    <tr>\n",
       "      <th>fun</th>\n",
       "      <td>0.1119</td>\n",
       "      <td>1201.0000</td>\n",
       "      <td>0.0017</td>\n",
       "    </tr>\n",
       "    <tr>\n",
       "      <th>incredible</th>\n",
       "      <td>0.4638</td>\n",
       "      <td>269.0000</td>\n",
       "      <td>0.0016</td>\n",
       "    </tr>\n",
       "  </tbody>\n",
       "</table>\n",
       "</div>"
      ],
      "text/plain": [
       "            score  frequency  polarity\n",
       "word                                  \n",
       "delicious  0.4054  4217.0000    0.0217\n",
       "fresh      0.1751  4092.0000    0.0091\n",
       "friendly   0.1915  3588.0000    0.0087\n",
       "recommend  0.1763  2620.0000    0.0059\n",
       "authentic  0.2170  1987.0000    0.0055\n",
       "hot        0.0779  4642.0000    0.0046\n",
       "reasonable 0.2405   969.0000    0.0030\n",
       "clean      0.1010  2146.0000    0.0027\n",
       "fast       0.0942  2294.0000    0.0027\n",
       "fun        0.1119  1201.0000    0.0017\n",
       "incredible 0.4638   269.0000    0.0016"
      ]
     },
     "execution_count": 125,
     "metadata": {},
     "output_type": "execute_result"
    }
   ],
   "source": [
    "Chinese_polarity_score[Chinese_polarity_score.polarity>0].sort_values('polarity', ascending=False)[:11]"
   ]
  },
  {
   "cell_type": "code",
   "execution_count": 126,
   "metadata": {},
   "outputs": [
    {
     "data": {
      "text/html": [
       "<div>\n",
       "<style scoped>\n",
       "    .dataframe tbody tr th:only-of-type {\n",
       "        vertical-align: middle;\n",
       "    }\n",
       "\n",
       "    .dataframe tbody tr th {\n",
       "        vertical-align: top;\n",
       "    }\n",
       "\n",
       "    .dataframe thead th {\n",
       "        text-align: right;\n",
       "    }\n",
       "</style>\n",
       "<table border=\"1\" class=\"dataframe\">\n",
       "  <thead>\n",
       "    <tr style=\"text-align: right;\">\n",
       "      <th></th>\n",
       "      <th>score</th>\n",
       "      <th>frequency</th>\n",
       "      <th>polarity</th>\n",
       "    </tr>\n",
       "    <tr>\n",
       "      <th>word</th>\n",
       "      <th></th>\n",
       "      <th></th>\n",
       "      <th></th>\n",
       "    </tr>\n",
       "  </thead>\n",
       "  <tbody>\n",
       "    <tr>\n",
       "      <th>worst</th>\n",
       "      <td>-0.8825</td>\n",
       "      <td>1047.0000</td>\n",
       "      <td>-0.0117</td>\n",
       "    </tr>\n",
       "    <tr>\n",
       "      <th>bland</th>\n",
       "      <td>-0.5769</td>\n",
       "      <td>1381.0000</td>\n",
       "      <td>-0.0101</td>\n",
       "    </tr>\n",
       "    <tr>\n",
       "      <th>mediocre</th>\n",
       "      <td>-0.7316</td>\n",
       "      <td>523.0000</td>\n",
       "      <td>-0.0048</td>\n",
       "    </tr>\n",
       "    <tr>\n",
       "      <th>rude</th>\n",
       "      <td>-0.4366</td>\n",
       "      <td>825.0000</td>\n",
       "      <td>-0.0046</td>\n",
       "    </tr>\n",
       "    <tr>\n",
       "      <th>poor</th>\n",
       "      <td>-0.5728</td>\n",
       "      <td>545.0000</td>\n",
       "      <td>-0.0040</td>\n",
       "    </tr>\n",
       "    <tr>\n",
       "      <th>awful</th>\n",
       "      <td>-0.6393</td>\n",
       "      <td>469.0000</td>\n",
       "      <td>-0.0038</td>\n",
       "    </tr>\n",
       "    <tr>\n",
       "      <th>cold</th>\n",
       "      <td>-0.2311</td>\n",
       "      <td>1231.0000</td>\n",
       "      <td>-0.0036</td>\n",
       "    </tr>\n",
       "    <tr>\n",
       "      <th>disgusting</th>\n",
       "      <td>-0.7286</td>\n",
       "      <td>381.0000</td>\n",
       "      <td>-0.0035</td>\n",
       "    </tr>\n",
       "    <tr>\n",
       "      <th>overpriced</th>\n",
       "      <td>-0.5498</td>\n",
       "      <td>467.0000</td>\n",
       "      <td>-0.0033</td>\n",
       "    </tr>\n",
       "    <tr>\n",
       "      <th>dirty</th>\n",
       "      <td>-0.4152</td>\n",
       "      <td>611.0000</td>\n",
       "      <td>-0.0032</td>\n",
       "    </tr>\n",
       "  </tbody>\n",
       "</table>\n",
       "</div>"
      ],
      "text/plain": [
       "             score  frequency  polarity\n",
       "word                                   \n",
       "worst      -0.8825  1047.0000   -0.0117\n",
       "bland      -0.5769  1381.0000   -0.0101\n",
       "mediocre   -0.7316   523.0000   -0.0048\n",
       "rude       -0.4366   825.0000   -0.0046\n",
       "poor       -0.5728   545.0000   -0.0040\n",
       "awful      -0.6393   469.0000   -0.0038\n",
       "cold       -0.2311  1231.0000   -0.0036\n",
       "disgusting -0.7286   381.0000   -0.0035\n",
       "overpriced -0.5498   467.0000   -0.0033\n",
       "dirty      -0.4152   611.0000   -0.0032"
      ]
     },
     "execution_count": 126,
     "metadata": {},
     "output_type": "execute_result"
    }
   ],
   "source": [
    "Chinese_polarity_score[Chinese_polarity_score.polarity<0].sort_values('polarity')[:10]"
   ]
  },
  {
   "cell_type": "code",
   "execution_count": 127,
   "metadata": {},
   "outputs": [],
   "source": [
    "Chinese_top_positive_words = ['delicious','fresh','friendly','recommend','authentic','hot','reasonable',\\\n",
    "                             'incredible','clean','fast']\n",
    "Chinese_top_negative_words = ['bland','worst','rude','mediocre','cold', 'dirty',\\\n",
    "                             'poor','overpriced','awful','disgusting']\n",
    "Chinese_top_words = Chinese_polarity_score.loc[Chinese_top_positive_words + Chinese_top_negative_words,'polarity']"
   ]
  },
  {
   "cell_type": "code",
   "execution_count": 166,
   "metadata": {},
   "outputs": [
    {
     "data": {
      "text/plain": [
       "(array([-0.015, -0.01 , -0.005,  0.   ,  0.005,  0.01 ,  0.015,  0.02 ,\n",
       "         0.025]), <a list of 9 Text xticklabel objects>)"
      ]
     },
     "execution_count": 166,
     "metadata": {},
     "output_type": "execute_result"
    },
    {
     "data": {
      "image/png": "[encoded data removed]",
      "text/plain": [
       "<Figure size 792x432 with 1 Axes>"
      ]
     },
     "metadata": {
      "needs_background": "light"
     },
     "output_type": "display_data"
    }
   ],
   "source": [
    "plt.figure(figsize=(11,6))\n",
    "colors = ['red' if c < 0 else 'green' for c in Chinese_top_words.values]\n",
    "sns.barplot(y=Chinese_top_words.index, x=Chinese_top_words.values, palette=colors)\n",
    "plt.xlabel('Polarity Score', labelpad=10, fontsize=14)\n",
    "plt.ylabel('Words', fontsize=14)\n",
    "plt.title('Top 10 Positive and Negative Words in Chinese Restaurants', fontsize=15)\n",
    "plt.tick_params(labelsize=14)\n",
    "plt.xticks(rotation=15)"
   ]
  },
  {
   "cell_type": "markdown",
   "metadata": {},
   "source": [
    "## Japanese Restaurants"
   ]
  },
  {
   "cell_type": "code",
   "execution_count": 152,
   "metadata": {},
   "outputs": [
    {
     "name": "stdout",
     "output_type": "stream",
     "text": [
      "Total 78911 number of reviews\n"
     ]
    }
   ],
   "source": [
    "Japanese_reviews = get_dataset('Chinese')\n",
    "Japanese_X_train, Japanese_X_test, Japanese_y_train, Japanese_y_test = \\\n",
    "train_test_split(Japanese_reviews.text, Japanese_reviews.labels, test_size=0.33, random_state=42)\n",
    "print('Total %d number of reviews' % Japanese_X_train.shape[0])"
   ]
  },
  {
   "cell_type": "code",
   "execution_count": 153,
   "metadata": {},
   "outputs": [],
   "source": [
    "# filter words\n",
    "Japanese_X_train = Japanese_X_train.apply(filter_words)\n",
    "\n",
    "#convert list to string in the dataframe\n",
    "Japanese_X_train = [' '.join(i) if isinstance(i, list) else i for i in Japanese_X_train]"
   ]
  },
  {
   "cell_type": "code",
   "execution_count": 154,
   "metadata": {},
   "outputs": [
    {
     "data": {
      "text/plain": [
       "(78911, 4087)"
      ]
     },
     "execution_count": 154,
     "metadata": {},
     "output_type": "execute_result"
    }
   ],
   "source": [
    "# get bag of words\n",
    "vectorizer = CountVectorizer()\n",
    "Japanese_feature_train = vectorizer.fit_transform(Japanese_X_train)\n",
    "Japanese_feature_train.shape"
   ]
  },
  {
   "cell_type": "code",
   "execution_count": 155,
   "metadata": {},
   "outputs": [
    {
     "name": "stderr",
     "output_type": "stream",
     "text": [
      "/Users/anaconda3/lib/python3.7/site-packages/sklearn/svm/base.py:929: ConvergenceWarning: Liblinear failed to converge, increase the number of iterations.\n",
      "  \"the number of iterations.\", ConvergenceWarning)\n"
     ]
    },
    {
     "data": {
      "text/plain": [
       "LinearSVC(C=1.0, class_weight=None, dual=True, fit_intercept=True,\n",
       "          intercept_scaling=1, loss='squared_hinge', max_iter=1000,\n",
       "          multi_class='ovr', penalty='l2', random_state=None, tol=0.0001,\n",
       "          verbose=0)"
      ]
     },
     "execution_count": 155,
     "metadata": {},
     "output_type": "execute_result"
    }
   ],
   "source": [
    "# run svm model\n",
    "svm_JP = LinearSVC()\n",
    "\n",
    "#Fit the training data to the model\n",
    "svm_JP.fit(Japanese_feature_train, Japanese_y_train)"
   ]
  },
  {
   "cell_type": "code",
   "execution_count": 156,
   "metadata": {},
   "outputs": [],
   "source": [
    "# create dataframe for score of each word\n",
    "coeff = svm_JP.coef_[0]\n",
    "Japanese_words_score = pd.DataFrame({'score': coeff, 'word': vectorizer.get_feature_names()})"
   ]
  },
  {
   "cell_type": "code",
   "execution_count": 157,
   "metadata": {},
   "outputs": [],
   "source": [
    "# get frequency of each word in all reviews for specific category\n",
    "Japanese_reviews = pd.DataFrame(Japanese_feature_train.toarray(), columns=vectorizer.get_feature_names())\n",
    "Japanese_reviews['labels'] = Japanese_y_train\n",
    "Japanese_frequency = Japanese_reviews[Japanese_reviews['labels']=='positive'].sum()[:-1]"
   ]
  },
  {
   "cell_type": "code",
   "execution_count": 158,
   "metadata": {},
   "outputs": [],
   "source": [
    "Japanese_words_score.set_index('word', inplace=True)\n",
    "Japanese_polarity_score = Japanese_words_score\n",
    "Japanese_polarity_score['frequency'] = Japanese_frequency"
   ]
  },
  {
   "cell_type": "code",
   "execution_count": 159,
   "metadata": {},
   "outputs": [],
   "source": [
    "Japanese_polarity_score['polarity'] = Japanese_polarity_score.score * \\\n",
    "                                        Japanese_polarity_score.frequency / Japanese_reviews.shape[0]"
   ]
  },
  {
   "cell_type": "code",
   "execution_count": 160,
   "metadata": {},
   "outputs": [],
   "source": [
    "# drop meaningless words\n",
    "unuseful_positive_words = Japanese_polarity_score.loc[['great','amazing','love','best','awesome','excellent',\\\n",
    "                                                     'good','favorite','loved','perfect','gem','perfectly',\\\n",
    "                                                     'wonderful','happy','enjoyed','nice','well','super',\\\n",
    "                                                     'like','better','decent','fine','pretty','enough',\\\n",
    "                                                     'excited','impressed','ready','fantastic','glad','right']]\n",
    "unuseful_negative_words = Japanese_polarity_score.loc[['bad','disappointed','unfortunately','disappointing',\\\n",
    "                                                      'horrible','lacking','terrible','sorry', 'disappoint']]\n",
    "\n",
    "unnecessary_words = unuseful_positive_words + unuseful_negative_words\n",
    "Japanese_polarity_score.drop(unnecessary_words.index, axis=0, inplace=True)"
   ]
  },
  {
   "cell_type": "code",
   "execution_count": 161,
   "metadata": {},
   "outputs": [],
   "source": [
    "Japanese_polarity_score.polarity = Japanese_polarity_score.polarity.astype(float)\n",
    "Japanese_polarity_score.frequency = Japanese_polarity_score.frequency.astype(float)"
   ]
  },
  {
   "cell_type": "code",
   "execution_count": 162,
   "metadata": {},
   "outputs": [
    {
     "data": {
      "text/html": [
       "<div>\n",
       "<style scoped>\n",
       "    .dataframe tbody tr th:only-of-type {\n",
       "        vertical-align: middle;\n",
       "    }\n",
       "\n",
       "    .dataframe tbody tr th {\n",
       "        vertical-align: top;\n",
       "    }\n",
       "\n",
       "    .dataframe thead th {\n",
       "        text-align: right;\n",
       "    }\n",
       "</style>\n",
       "<table border=\"1\" class=\"dataframe\">\n",
       "  <thead>\n",
       "    <tr style=\"text-align: right;\">\n",
       "      <th></th>\n",
       "      <th>score</th>\n",
       "      <th>frequency</th>\n",
       "      <th>polarity</th>\n",
       "    </tr>\n",
       "    <tr>\n",
       "      <th>word</th>\n",
       "      <th></th>\n",
       "      <th></th>\n",
       "      <th></th>\n",
       "    </tr>\n",
       "  </thead>\n",
       "  <tbody>\n",
       "    <tr>\n",
       "      <th>delicious</th>\n",
       "      <td>0.4054</td>\n",
       "      <td>4217.0000</td>\n",
       "      <td>0.0217</td>\n",
       "    </tr>\n",
       "    <tr>\n",
       "      <th>fresh</th>\n",
       "      <td>0.1751</td>\n",
       "      <td>4092.0000</td>\n",
       "      <td>0.0091</td>\n",
       "    </tr>\n",
       "    <tr>\n",
       "      <th>friendly</th>\n",
       "      <td>0.1915</td>\n",
       "      <td>3588.0000</td>\n",
       "      <td>0.0087</td>\n",
       "    </tr>\n",
       "    <tr>\n",
       "      <th>recommend</th>\n",
       "      <td>0.1763</td>\n",
       "      <td>2620.0000</td>\n",
       "      <td>0.0059</td>\n",
       "    </tr>\n",
       "    <tr>\n",
       "      <th>authentic</th>\n",
       "      <td>0.2170</td>\n",
       "      <td>1987.0000</td>\n",
       "      <td>0.0055</td>\n",
       "    </tr>\n",
       "    <tr>\n",
       "      <th>hot</th>\n",
       "      <td>0.0779</td>\n",
       "      <td>4642.0000</td>\n",
       "      <td>0.0046</td>\n",
       "    </tr>\n",
       "    <tr>\n",
       "      <th>reasonable</th>\n",
       "      <td>0.2405</td>\n",
       "      <td>969.0000</td>\n",
       "      <td>0.0030</td>\n",
       "    </tr>\n",
       "    <tr>\n",
       "      <th>clean</th>\n",
       "      <td>0.1010</td>\n",
       "      <td>2146.0000</td>\n",
       "      <td>0.0027</td>\n",
       "    </tr>\n",
       "    <tr>\n",
       "      <th>fast</th>\n",
       "      <td>0.0942</td>\n",
       "      <td>2294.0000</td>\n",
       "      <td>0.0027</td>\n",
       "    </tr>\n",
       "    <tr>\n",
       "      <th>fun</th>\n",
       "      <td>0.1119</td>\n",
       "      <td>1201.0000</td>\n",
       "      <td>0.0017</td>\n",
       "    </tr>\n",
       "    <tr>\n",
       "      <th>incredible</th>\n",
       "      <td>0.4638</td>\n",
       "      <td>269.0000</td>\n",
       "      <td>0.0016</td>\n",
       "    </tr>\n",
       "  </tbody>\n",
       "</table>\n",
       "</div>"
      ],
      "text/plain": [
       "            score  frequency  polarity\n",
       "word                                  \n",
       "delicious  0.4054  4217.0000    0.0217\n",
       "fresh      0.1751  4092.0000    0.0091\n",
       "friendly   0.1915  3588.0000    0.0087\n",
       "recommend  0.1763  2620.0000    0.0059\n",
       "authentic  0.2170  1987.0000    0.0055\n",
       "hot        0.0779  4642.0000    0.0046\n",
       "reasonable 0.2405   969.0000    0.0030\n",
       "clean      0.1010  2146.0000    0.0027\n",
       "fast       0.0942  2294.0000    0.0027\n",
       "fun        0.1119  1201.0000    0.0017\n",
       "incredible 0.4638   269.0000    0.0016"
      ]
     },
     "execution_count": 162,
     "metadata": {},
     "output_type": "execute_result"
    }
   ],
   "source": [
    "Japanese_polarity_score[Japanese_polarity_score.polarity>0].sort_values('polarity', ascending=False)[:11]"
   ]
  },
  {
   "cell_type": "code",
   "execution_count": 163,
   "metadata": {},
   "outputs": [
    {
     "data": {
      "text/html": [
       "<div>\n",
       "<style scoped>\n",
       "    .dataframe tbody tr th:only-of-type {\n",
       "        vertical-align: middle;\n",
       "    }\n",
       "\n",
       "    .dataframe tbody tr th {\n",
       "        vertical-align: top;\n",
       "    }\n",
       "\n",
       "    .dataframe thead th {\n",
       "        text-align: right;\n",
       "    }\n",
       "</style>\n",
       "<table border=\"1\" class=\"dataframe\">\n",
       "  <thead>\n",
       "    <tr style=\"text-align: right;\">\n",
       "      <th></th>\n",
       "      <th>score</th>\n",
       "      <th>frequency</th>\n",
       "      <th>polarity</th>\n",
       "    </tr>\n",
       "    <tr>\n",
       "      <th>word</th>\n",
       "      <th></th>\n",
       "      <th></th>\n",
       "      <th></th>\n",
       "    </tr>\n",
       "  </thead>\n",
       "  <tbody>\n",
       "    <tr>\n",
       "      <th>worst</th>\n",
       "      <td>-0.8825</td>\n",
       "      <td>1047.0000</td>\n",
       "      <td>-0.0117</td>\n",
       "    </tr>\n",
       "    <tr>\n",
       "      <th>bland</th>\n",
       "      <td>-0.5769</td>\n",
       "      <td>1381.0000</td>\n",
       "      <td>-0.0101</td>\n",
       "    </tr>\n",
       "    <tr>\n",
       "      <th>mediocre</th>\n",
       "      <td>-0.7316</td>\n",
       "      <td>523.0000</td>\n",
       "      <td>-0.0048</td>\n",
       "    </tr>\n",
       "    <tr>\n",
       "      <th>rude</th>\n",
       "      <td>-0.4366</td>\n",
       "      <td>825.0000</td>\n",
       "      <td>-0.0046</td>\n",
       "    </tr>\n",
       "    <tr>\n",
       "      <th>poor</th>\n",
       "      <td>-0.5728</td>\n",
       "      <td>545.0000</td>\n",
       "      <td>-0.0040</td>\n",
       "    </tr>\n",
       "    <tr>\n",
       "      <th>awful</th>\n",
       "      <td>-0.6393</td>\n",
       "      <td>469.0000</td>\n",
       "      <td>-0.0038</td>\n",
       "    </tr>\n",
       "    <tr>\n",
       "      <th>cold</th>\n",
       "      <td>-0.2311</td>\n",
       "      <td>1231.0000</td>\n",
       "      <td>-0.0036</td>\n",
       "    </tr>\n",
       "    <tr>\n",
       "      <th>disgusting</th>\n",
       "      <td>-0.7286</td>\n",
       "      <td>381.0000</td>\n",
       "      <td>-0.0035</td>\n",
       "    </tr>\n",
       "    <tr>\n",
       "      <th>overpriced</th>\n",
       "      <td>-0.5498</td>\n",
       "      <td>467.0000</td>\n",
       "      <td>-0.0033</td>\n",
       "    </tr>\n",
       "    <tr>\n",
       "      <th>dirty</th>\n",
       "      <td>-0.4152</td>\n",
       "      <td>611.0000</td>\n",
       "      <td>-0.0032</td>\n",
       "    </tr>\n",
       "  </tbody>\n",
       "</table>\n",
       "</div>"
      ],
      "text/plain": [
       "             score  frequency  polarity\n",
       "word                                   \n",
       "worst      -0.8825  1047.0000   -0.0117\n",
       "bland      -0.5769  1381.0000   -0.0101\n",
       "mediocre   -0.7316   523.0000   -0.0048\n",
       "rude       -0.4366   825.0000   -0.0046\n",
       "poor       -0.5728   545.0000   -0.0040\n",
       "awful      -0.6393   469.0000   -0.0038\n",
       "cold       -0.2311  1231.0000   -0.0036\n",
       "disgusting -0.7286   381.0000   -0.0035\n",
       "overpriced -0.5498   467.0000   -0.0033\n",
       "dirty      -0.4152   611.0000   -0.0032"
      ]
     },
     "execution_count": 163,
     "metadata": {},
     "output_type": "execute_result"
    }
   ],
   "source": [
    "Japanese_polarity_score[Japanese_polarity_score.polarity<0].sort_values('polarity')[:10]"
   ]
  },
  {
   "cell_type": "code",
   "execution_count": 164,
   "metadata": {},
   "outputs": [],
   "source": [
    "Japanese_top_positive_words = ['delicious','fresh','friendly','recommend','authentic','hot','reasonable',\\\n",
    "                             'incredible','clean','fast']\n",
    "Japanese_top_negative_words = ['bland','worst','rude','mediocre','cold', 'dirty',\\\n",
    "                             'poor','overpriced','awful','disgusting']\n",
    "Japanese_top_words = Japanese_polarity_score.loc[Japanese_top_positive_words + Japanese_top_negative_words,'polarity']"
   ]
  },
  {
   "cell_type": "code",
   "execution_count": 165,
   "metadata": {
    "scrolled": false
   },
   "outputs": [
    {
     "data": {
      "text/plain": [
       "(array([-0.015, -0.01 , -0.005,  0.   ,  0.005,  0.01 ,  0.015,  0.02 ,\n",
       "         0.025]), <a list of 9 Text xticklabel objects>)"
      ]
     },
     "execution_count": 165,
     "metadata": {},
     "output_type": "execute_result"
    },
    {
     "data": {
      "image/png": "[encoded data removed]",
      "text/plain": [
       "<Figure size 792x432 with 1 Axes>"
      ]
     },
     "metadata": {
      "needs_background": "light"
     },
     "output_type": "display_data"
    }
   ],
   "source": [
    "plt.figure(figsize=(11,6))\n",
    "colors = ['red' if c < 0 else 'green' for c in Chinese_top_words.values]\n",
    "sns.barplot(y=Japanese_top_words.index, x=Japanese_top_words.values, palette=colors)\n",
    "plt.xlabel('Polarity Score', labelpad=10, fontsize=14)\n",
    "plt.ylabel('Words', fontsize=14)\n",
    "plt.title('Top 10 Positive and Negative Words in Japanese Restaurants', fontsize=15)\n",
    "plt.tick_params(labelsize=14)\n",
    "plt.xticks(rotation=15)"
   ]
  },
  {
   "cell_type": "code",
   "execution_count": 263,
   "metadata": {},
   "outputs": [],
   "source": [
    "top_pos_words = pd.DataFrame(np.array([American_top_positive_words,\\\n",
    "                                       Mexican_top_positive_words,\\\n",
    "                                       Italian_top_positive_words,\\\n",
    "                                       Japanese_top_positive_words,\\\n",
    "                                       Chinese_top_positive_words]), \\\n",
    "                             columns=['1','2','3','4','5','6','7','8','9','10'])"
   ]
  },
  {
   "cell_type": "code",
   "execution_count": 264,
   "metadata": {},
   "outputs": [
    {
     "data": {
      "text/html": [
       "<div>\n",
       "<style scoped>\n",
       "    .dataframe tbody tr th:only-of-type {\n",
       "        vertical-align: middle;\n",
       "    }\n",
       "\n",
       "    .dataframe tbody tr th {\n",
       "        vertical-align: top;\n",
       "    }\n",
       "\n",
       "    .dataframe thead th {\n",
       "        text-align: right;\n",
       "    }\n",
       "</style>\n",
       "<table border=\"1\" class=\"dataframe\">\n",
       "  <thead>\n",
       "    <tr style=\"text-align: right;\">\n",
       "      <th></th>\n",
       "      <th>1</th>\n",
       "      <th>2</th>\n",
       "      <th>3</th>\n",
       "      <th>4</th>\n",
       "      <th>5</th>\n",
       "      <th>6</th>\n",
       "      <th>7</th>\n",
       "      <th>8</th>\n",
       "      <th>9</th>\n",
       "      <th>10</th>\n",
       "    </tr>\n",
       "  </thead>\n",
       "  <tbody>\n",
       "    <tr>\n",
       "      <th>American</th>\n",
       "      <td>delicious</td>\n",
       "      <td>friendly</td>\n",
       "      <td>recommend</td>\n",
       "      <td>fresh</td>\n",
       "      <td>fun</td>\n",
       "      <td>incredible</td>\n",
       "      <td>perfection</td>\n",
       "      <td>outstanding</td>\n",
       "      <td>fast</td>\n",
       "      <td>attentive</td>\n",
       "    </tr>\n",
       "    <tr>\n",
       "      <th>Mexican</th>\n",
       "      <td>delicious</td>\n",
       "      <td>fresh</td>\n",
       "      <td>recommend</td>\n",
       "      <td>authentic</td>\n",
       "      <td>fast</td>\n",
       "      <td>clean</td>\n",
       "      <td>incredible</td>\n",
       "      <td>bomb</td>\n",
       "      <td>outstanding</td>\n",
       "      <td>friendly</td>\n",
       "    </tr>\n",
       "    <tr>\n",
       "      <th>Italian</th>\n",
       "      <td>delicious</td>\n",
       "      <td>fresh</td>\n",
       "      <td>recommend</td>\n",
       "      <td>authentic</td>\n",
       "      <td>perfection</td>\n",
       "      <td>incredible</td>\n",
       "      <td>reasonable</td>\n",
       "      <td>outstanding</td>\n",
       "      <td>friendly</td>\n",
       "      <td>fabulous</td>\n",
       "    </tr>\n",
       "    <tr>\n",
       "      <th>Japanese</th>\n",
       "      <td>delicious</td>\n",
       "      <td>fresh</td>\n",
       "      <td>friendly</td>\n",
       "      <td>recommend</td>\n",
       "      <td>authentic</td>\n",
       "      <td>hot</td>\n",
       "      <td>reasonable</td>\n",
       "      <td>incredible</td>\n",
       "      <td>clean</td>\n",
       "      <td>fast</td>\n",
       "    </tr>\n",
       "    <tr>\n",
       "      <th>Chinese</th>\n",
       "      <td>delicious</td>\n",
       "      <td>fresh</td>\n",
       "      <td>friendly</td>\n",
       "      <td>recommend</td>\n",
       "      <td>authentic</td>\n",
       "      <td>hot</td>\n",
       "      <td>reasonable</td>\n",
       "      <td>incredible</td>\n",
       "      <td>clean</td>\n",
       "      <td>fast</td>\n",
       "    </tr>\n",
       "  </tbody>\n",
       "</table>\n",
       "</div>"
      ],
      "text/plain": [
       "                  1         2          3          4           5           6  \\\n",
       "American  delicious  friendly  recommend      fresh         fun  incredible   \n",
       "Mexican   delicious     fresh  recommend  authentic        fast       clean   \n",
       "Italian   delicious     fresh  recommend  authentic  perfection  incredible   \n",
       "Japanese  delicious     fresh   friendly  recommend   authentic         hot   \n",
       "Chinese   delicious     fresh   friendly  recommend   authentic         hot   \n",
       "\n",
       "                   7            8            9         10  \n",
       "American  perfection  outstanding         fast  attentive  \n",
       "Mexican   incredible         bomb  outstanding   friendly  \n",
       "Italian   reasonable  outstanding     friendly   fabulous  \n",
       "Japanese  reasonable   incredible        clean       fast  \n",
       "Chinese   reasonable   incredible        clean       fast  "
      ]
     },
     "execution_count": 264,
     "metadata": {},
     "output_type": "execute_result"
    }
   ],
   "source": [
    "top_pos_words.rename(index={0: \"American\", 1: \"Mexican\", 2: \"Italian\", 3: \"Japanese\", 4:\"Chinese\"})"
   ]
  },
  {
   "cell_type": "code",
   "execution_count": 265,
   "metadata": {},
   "outputs": [],
   "source": [
    "top_neg_words = pd.DataFrame(np.array([American_top_negative_words,\\\n",
    "                                       Mexican_top_negative_words,\\\n",
    "                                       Italian_top_negative_words,\\\n",
    "                                       Japanese_top_negative_words,\\\n",
    "                                       Chinese_top_negative_words]), \\\n",
    "                             columns=['1','2','3','4','5','6','7','8','9','10'])"
   ]
  },
  {
   "cell_type": "code",
   "execution_count": 266,
   "metadata": {},
   "outputs": [
    {
     "data": {
      "text/html": [
       "<div>\n",
       "<style scoped>\n",
       "    .dataframe tbody tr th:only-of-type {\n",
       "        vertical-align: middle;\n",
       "    }\n",
       "\n",
       "    .dataframe tbody tr th {\n",
       "        vertical-align: top;\n",
       "    }\n",
       "\n",
       "    .dataframe thead th {\n",
       "        text-align: right;\n",
       "    }\n",
       "</style>\n",
       "<table border=\"1\" class=\"dataframe\">\n",
       "  <thead>\n",
       "    <tr style=\"text-align: right;\">\n",
       "      <th></th>\n",
       "      <th>1</th>\n",
       "      <th>2</th>\n",
       "      <th>3</th>\n",
       "      <th>4</th>\n",
       "      <th>5</th>\n",
       "      <th>6</th>\n",
       "      <th>7</th>\n",
       "      <th>8</th>\n",
       "      <th>9</th>\n",
       "      <th>10</th>\n",
       "    </tr>\n",
       "  </thead>\n",
       "  <tbody>\n",
       "    <tr>\n",
       "      <th>American</th>\n",
       "      <td>worst</td>\n",
       "      <td>bland</td>\n",
       "      <td>slow</td>\n",
       "      <td>rude</td>\n",
       "      <td>hard</td>\n",
       "      <td>cold</td>\n",
       "      <td>awful</td>\n",
       "      <td>overpriced</td>\n",
       "      <td>poor</td>\n",
       "      <td>mediocre</td>\n",
       "    </tr>\n",
       "    <tr>\n",
       "      <th>Mexican</th>\n",
       "      <td>bland</td>\n",
       "      <td>worst</td>\n",
       "      <td>rude</td>\n",
       "      <td>mediocre</td>\n",
       "      <td>cold</td>\n",
       "      <td>slow</td>\n",
       "      <td>poor</td>\n",
       "      <td>overpriced</td>\n",
       "      <td>awful</td>\n",
       "      <td>disgusting</td>\n",
       "    </tr>\n",
       "    <tr>\n",
       "      <th>Italian</th>\n",
       "      <td>bland</td>\n",
       "      <td>worst</td>\n",
       "      <td>rude</td>\n",
       "      <td>mediocre</td>\n",
       "      <td>cold</td>\n",
       "      <td>slow</td>\n",
       "      <td>poor</td>\n",
       "      <td>overpriced</td>\n",
       "      <td>awful</td>\n",
       "      <td>expensive</td>\n",
       "    </tr>\n",
       "    <tr>\n",
       "      <th>Japanese</th>\n",
       "      <td>bland</td>\n",
       "      <td>worst</td>\n",
       "      <td>rude</td>\n",
       "      <td>mediocre</td>\n",
       "      <td>cold</td>\n",
       "      <td>dirty</td>\n",
       "      <td>poor</td>\n",
       "      <td>overpriced</td>\n",
       "      <td>awful</td>\n",
       "      <td>disgusting</td>\n",
       "    </tr>\n",
       "    <tr>\n",
       "      <th>Chinese</th>\n",
       "      <td>bland</td>\n",
       "      <td>worst</td>\n",
       "      <td>rude</td>\n",
       "      <td>mediocre</td>\n",
       "      <td>cold</td>\n",
       "      <td>dirty</td>\n",
       "      <td>poor</td>\n",
       "      <td>overpriced</td>\n",
       "      <td>awful</td>\n",
       "      <td>disgusting</td>\n",
       "    </tr>\n",
       "  </tbody>\n",
       "</table>\n",
       "</div>"
      ],
      "text/plain": [
       "              1      2     3         4     5      6      7           8      9  \\\n",
       "American  worst  bland  slow      rude  hard   cold  awful  overpriced   poor   \n",
       "Mexican   bland  worst  rude  mediocre  cold   slow   poor  overpriced  awful   \n",
       "Italian   bland  worst  rude  mediocre  cold   slow   poor  overpriced  awful   \n",
       "Japanese  bland  worst  rude  mediocre  cold  dirty   poor  overpriced  awful   \n",
       "Chinese   bland  worst  rude  mediocre  cold  dirty   poor  overpriced  awful   \n",
       "\n",
       "                  10  \n",
       "American    mediocre  \n",
       "Mexican   disgusting  \n",
       "Italian    expensive  \n",
       "Japanese  disgusting  \n",
       "Chinese   disgusting  "
      ]
     },
     "execution_count": 266,
     "metadata": {},
     "output_type": "execute_result"
    }
   ],
   "source": [
    "top_neg_words.rename(index={0: \"American\", 1: \"Mexican\", 2: \"Italian\", 3: \"Japanese\", 4:\"Chinese\"})"
   ]
  }
 ],
 "metadata": {
  "kernelspec": {
   "display_name": "Python 3",
   "language": "python",
   "name": "python3"
  },
  "language_info": {
   "codemirror_mode": {
    "name": "ipython",
    "version": 3
   },
   "file_extension": ".py",
   "mimetype": "text/x-python",
   "name": "python",
   "nbconvert_exporter": "python",
   "pygments_lexer": "ipython3",
   "version": "3.7.3"
  }
 },
 "nbformat": 4,
 "nbformat_minor": 2
}
